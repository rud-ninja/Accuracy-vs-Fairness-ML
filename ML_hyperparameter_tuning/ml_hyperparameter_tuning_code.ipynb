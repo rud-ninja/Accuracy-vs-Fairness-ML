{
  "nbformat": 4,
  "nbformat_minor": 0,
  "metadata": {
    "colab": {
      "name": "assignment_Draft2.ipynb",
      "provenance": [],
      "collapsed_sections": [],
      "history_visible": true
    },
    "kernelspec": {
      "name": "python3",
      "display_name": "Python 3"
    },
    "language_info": {
      "name": "python"
    }
  },
  "cells": [
    {
      "cell_type": "markdown",
      "source": [
        "## **Task 1: Most accuate and most fair models**"
      ],
      "metadata": {
        "id": "MWJVyprlI5Pg"
      }
    },
    {
      "cell_type": "markdown",
      "source": [
        "The following is a study of hyperparameter tuning in the context of supervised machine learning to find the most optimal parameters that balances accuracy and fairness metrics to make the machine learning models more human oriented. The task is to classify two groups of people. The study is performed on two datasets from the aif360[LFR] library, namely **Adult Income** and **German**. The classification is done based on the feature \"sex\" and the model used is **Support Vector Machine (SVM)**. "
      ],
      "metadata": {
        "id": "cFO-XedNCkER"
      }
    },
    {
      "cell_type": "markdown",
      "source": [
        "The first task is to install the aif360[LFR] library, navigate to the correct directory and import the dataset"
      ],
      "metadata": {
        "id": "VNLgWb9XEyHE"
      }
    },
    {
      "cell_type": "code",
      "execution_count": null,
      "metadata": {
        "id": "9Kum0AZTIXJK"
      },
      "outputs": [],
      "source": [
        "!pip install 'aif360[LFR]'"
      ]
    },
    {
      "cell_type": "markdown",
      "source": [
        "### Adult dataset"
      ],
      "metadata": {
        "id": "eSZ-DhPj82XW"
      }
    },
    {
      "cell_type": "code",
      "source": [
        "cd /usr/local/lib/python3.7/dist-packages/aif360/data/raw/adult"
      ],
      "metadata": {
        "id": "b60x9gc7IguI"
      },
      "execution_count": null,
      "outputs": []
    },
    {
      "cell_type": "code",
      "source": [
        "!wget https://archive.ics.uci.edu/ml/machine-learning-databases/adult/adult.data\n",
        "!wget https://archive.ics.uci.edu/ml/machine-learning-databases/adult/adult.names\n",
        "!wget https://archive.ics.uci.edu/ml/machine-learning-databases/adult/adult.test"
      ],
      "metadata": {
        "id": "gV3gsNI2IhYk"
      },
      "execution_count": null,
      "outputs": []
    },
    {
      "cell_type": "code",
      "source": [
        "pip install fairlearn"
      ],
      "metadata": {
        "id": "rJc8mH44Ikao"
      },
      "execution_count": null,
      "outputs": []
    },
    {
      "cell_type": "code",
      "source": [
        "pip install scikit-lego"
      ],
      "metadata": {
        "id": "GrEJdED-YoLC"
      },
      "execution_count": null,
      "outputs": []
    },
    {
      "cell_type": "code",
      "source": [
        "# import all necessary libraries\n",
        "\n",
        "import numpy as np\n",
        "import pandas as pd\n",
        "from aif360.datasets import AdultDataset, GermanDataset\n",
        "from aif360.algorithms.preprocessing.optim_preproc_helpers.data_preproc_functions import load_preproc_data_adult, load_preproc_data_german\n",
        "from aif360.metrics import ClassificationMetric\n",
        "from aif360.algorithms.preprocessing.reweighing import Reweighing\n",
        "import pdb\n",
        "import random\n",
        "from datetime import datetime\n",
        "from sklearn.preprocessing import StandardScaler\n",
        "from sklearn.metrics import confusion_matrix\n",
        "from sklearn.model_selection import *\n",
        "from sklearn.svm import SVC\n",
        "from sklearn.model_selection import StratifiedKFold\n",
        "import matplotlib.pyplot as plt\n",
        "from mpl_toolkits.mplot3d import Axes3D\n",
        "from sklego.metrics import equal_opportunity_score\n",
        "\n",
        "np.random.seed(0)"
      ],
      "metadata": {
        "id": "cNFwpbBcImsh"
      },
      "execution_count": 6,
      "outputs": []
    },
    {
      "cell_type": "markdown",
      "source": [
        "The following function takes in the name of the dataset and configures privileged and unprivileged classes with a value of 1 and 0 respectively for training and splits the dataset into training and test sets by a 7:3 ratio. We first perform all operations on the adult dataset to find out the hyperparameter values for the most accurate model (model that gives highest accuracy on train set) and for the most fair model that will have displayed equal opportunity for both classes (although accuracy might be lower) and serves as a more generalized model. The purpose of maintaining a balance between accuracy and fairness helps machine learning models to not become overfitted so that they can be applied to multiple datasets to a certain accuracy and also to make machine learning decisions more human oriented."
      ],
      "metadata": {
        "id": "rQwUS6A9KA-T"
      }
    },
    {
      "cell_type": "code",
      "source": [
        "def import_dataset(dataset):\n",
        "  privileged = [{'sex': 1}]\n",
        "  unprivileged = [{'sex': 0}]\n",
        "  dataset_original = dataset(['sex'])\n",
        "\n",
        "\n",
        "  train, test = dataset_original.split([0.7], shuffle=True)\n",
        "  print(\"training data size\", train.features.shape)\n",
        "  print(\"dataset feature names\", train.feature_names)\n",
        "\n",
        "  scale_orig = StandardScaler()\n",
        "  X_train = scale_orig.fit_transform(train.features)\n",
        "  y_train = train.labels.ravel()\n",
        "\n",
        "  X_test = scale_orig.transform(test.features) \n",
        "  y_test = test.labels.ravel()\n",
        "\n",
        "  return privileged, unprivileged, train, test, X_train, y_train, X_test, y_test"
      ],
      "metadata": {
        "id": "mhjTvcR6IpCe"
      },
      "execution_count": 7,
      "outputs": []
    },
    {
      "cell_type": "markdown",
      "source": [
        "The following function takes the range of hyperparameters we are testing along with all training and test sets. For our SVM model, we will be varying the regularization term C and the gamma value to find the combination of the two that give the most accurate model and the most fair model. Another similar function has been defined below for hyperparameter tuning using sample weights."
      ],
      "metadata": {
        "id": "9VMMetPQuGs6"
      }
    },
    {
      "cell_type": "code",
      "source": [
        "def hyperparameter_tuning(c_val, gamma_val, X_train, y_train):\n",
        "  \n",
        "  folds = StratifiedKFold(n_splits=5)\n",
        "  accuracy_score = {}\n",
        "  equality_error = {}\n",
        "  i_val = []\n",
        "  j_val = []\n",
        "\n",
        "  for i in c_val:\n",
        "    for j in gamma_val:\n",
        "      score = []\n",
        "      eod = []\n",
        "      for train_index, test_index in folds.split(X_train, y_train):\n",
        "        X_trn, X_tst, y_trn, y_tst = X_train[train_index], X_train[test_index], y_train[train_index], y_train[test_index]\n",
        "        mod = SVC(C=i, gamma=j, kernel='rbf')\n",
        "        mod.fit(X_trn, y_trn)\n",
        "        score.append(mod.score(X_tst, y_tst))\n",
        "        predictions = mod.predict(X_tst)\n",
        "       \n",
        "        tot_pos = 0\n",
        "        tot_neg = 0\n",
        "\n",
        "        for val in range(len(predictions)):\n",
        "          if y_tst[val]==1:\n",
        "            tot_pos+=1\n",
        "          if y_tst[val]==0:\n",
        "            tot_neg+=1\n",
        "          else:\n",
        "            continue\n",
        "\n",
        "        p = 0\n",
        "        n = 0\n",
        "        for val in range(len(predictions)):\n",
        "          if y_tst[val]==1 and y_tst[val]==predictions[val]:\n",
        "            p+=1\n",
        "          if y_tst[val]==0 and y_tst[val]==predictions[val]:\n",
        "            n+=1\n",
        "          else:\n",
        "            continue\n",
        "\n",
        "        if tot_pos==0:\n",
        "          equal_opportunity_diff = 0\n",
        "        elif tot_neg==0:\n",
        "          equal_opportunity_diff = 0\n",
        "        else:\n",
        "          equal_opportunity_diff = abs((p/tot_pos)-(n/tot_neg))\n",
        "        \n",
        "        eod.append(equal_opportunity_diff)\n",
        "\n",
        "      i_val.append(i)\n",
        "      j_val.append(j)\n",
        "      accuracy_score[\"C=\"+str(i)+\"_gamma=\"+str(j)] = np.average(score)\n",
        "      \n",
        "      equality_error[\"C=\"+str(i)+\"_gamma=\"+str(j)] = np.average(eod)\n",
        "\n",
        "\n",
        "  print(\"Maximum accuracy value on training set: \", round((max(accuracy_score.values())*100),2), \"%\")\n",
        "  #print(\"Hyperparameter values to achieve maximum accuracy: \", list(accuracy_score.keys())[list(accuracy_score.values()).index(max(accuracy_score.values()))])\n",
        "  print(\"Hyperparameter values to achieve maximum accuracy: \", [k for k,v in accuracy_score.items() if v == max(accuracy_score.values())])  \n",
        "  print(\"Minimum error value: \", round(min(equality_error.values(), key=abs),4))\n",
        "  print(\"Hyperparameter values to achieve maximum fairness (i.e. Equal opportunity for both classes): \", [k for k,v in equality_error.items() if v == min(equality_error.values(), key=abs)])\n",
        "\n",
        "  return i_val, j_val, accuracy_score, equality_error\n"
      ],
      "metadata": {
        "id": "5-6BxL3LKfgb"
      },
      "execution_count": 8,
      "outputs": []
    },
    {
      "cell_type": "code",
      "source": [
        "def weighted_hyperparameter_tuning(c_val, gamma_val, X_train, y_train, weights):\n",
        "  \n",
        "  folds = StratifiedKFold(n_splits=5)\n",
        "  accuracy_score = {}\n",
        "  equality_error = {}\n",
        "  i_val = []\n",
        "  j_val = []\n",
        "\n",
        "  for i in c_val:\n",
        "    for j in gamma_val:\n",
        "      score = []\n",
        "      eod = []\n",
        "      for train_index, test_index in folds.split(X_train, y_train):\n",
        "        X_trn, X_tst, y_trn, y_tst = X_train[train_index], X_train[test_index], y_train[train_index], y_train[test_index]\n",
        "        mod = SVC(C=i, gamma=j, kernel='rbf')\n",
        "        mod.fit(X_trn, y_trn, sample_weight=weights[train_index])     #sample weights\n",
        "        score.append(mod.score(X_tst, y_tst))\n",
        "        predictions = mod.predict(X_tst)\n",
        "\n",
        "        tot_pos = 0\n",
        "        tot_neg = 0\n",
        "\n",
        "        for val in range(len(predictions)):\n",
        "          if y_tst[val]==1:\n",
        "            tot_pos+=1\n",
        "          if y_tst[val]==0:\n",
        "            tot_neg+=1\n",
        "          else:\n",
        "            continue\n",
        "\n",
        "        p = 0\n",
        "        n = 0\n",
        "        for val in range(len(predictions)):\n",
        "          if y_tst[val]==1 and y_tst[val]==predictions[val]:\n",
        "            p+=1\n",
        "          if y_tst[val]==0 and y_tst[val]==predictions[val]:\n",
        "            n+=1\n",
        "          else:\n",
        "            continue\n",
        "\n",
        "        if tot_pos==0:\n",
        "          equal_opportunity_diff = 0\n",
        "        elif tot_neg==0:\n",
        "          equal_opportunity_diff = 0\n",
        "        else:\n",
        "          equal_opportunity_diff = abs((p/tot_pos)-(n/tot_neg))\n",
        "        \n",
        "        eod.append(equal_opportunity_diff)\n",
        "      \n",
        "      i_val.append(i)\n",
        "      j_val.append(j)\n",
        "\n",
        "      accuracy_score[\"C=\"+str(i)+\"_gamma=\"+str(j)] = np.average(score)\n",
        "      \n",
        "      equality_error[\"C=\"+str(i)+\"_gamma=\"+str(j)] = np.average(eod)\n",
        "\n",
        "\n",
        "  print(\"Maximum accuracy value on training set: \", round((max(accuracy_score.values())*100),2), \"%\")\n",
        "  #print(\"Hyperparameter values to achieve maximum accuracy: \", list(accuracy_score.keys())[list(accuracy_score.values()).index(max(accuracy_score.values()))])\n",
        "  print(\"Hyperparameter values to achieve maximum accuracy: \", [k for k,v in accuracy_score.items() if v == max(accuracy_score.values())])\n",
        "  print(\"Minimum error value: \", round(min(equality_error.values(), key=abs),4))\n",
        "  print(\"Hyperparameter values to achieve maximum fairness (i.e. Equal opportunity for both classes): \", [k for k,v in equality_error.items() if v == min(equality_error.values(), key=abs)])\n",
        "\n",
        "  return i_val, j_val, accuracy_score, equality_error"
      ],
      "metadata": {
        "id": "AiS0iak3VQQm"
      },
      "execution_count": 9,
      "outputs": []
    },
    {
      "cell_type": "markdown",
      "source": [
        "The following two blocks of codes are functions to run specific combinations of C and gamma as input by user to print the accuracy and fairness metrics of an SVM model. Similar to before, there are two functions for the same, one considers sample weights and the other does not."
      ],
      "metadata": {
        "id": "g0w1HOKlvAGi"
      }
    },
    {
      "cell_type": "code",
      "source": [
        "def model_run(svm, X_train, X_test, y_train, y_test, test, unprivileged, privileged):\n",
        "\n",
        "  folds = StratifiedKFold(n_splits=5)\n",
        "  for train_ind, test_ind in folds.split(X_train, y_train):\n",
        "    X_trn, X_tst, y_trn, y_tst = X_train[train_ind], X_train[test_ind], y_train[train_ind], y_train[test_ind]\n",
        "    mod_try = svm\n",
        "    mod_try.fit(X_trn, y_trn)\n",
        "\n",
        "  predict_test = mod_try.predict(X_test)\n",
        "  test_pred_try = test.copy()\n",
        "  test_pred_try.labels = predict_test\n",
        "  print(\"Accuracy on test: \", round((mod_try.score(X_test, y_test)*100),2), \"%\")\n",
        "\n",
        "  f_metric = ClassificationMetric(test, test_pred_try, unprivileged_groups=unprivileged, privileged_groups=privileged)\n",
        "\n",
        "  print(\"Equal opportunity difference: \", round(f_metric.equal_opportunity_difference(),3))\n",
        "  print(\"Disparate Impact: \", round(f_metric.disparate_impact(),3))\n",
        "\n",
        "  print(confusion_matrix(test.labels, test_pred_try.labels))\n",
        "\n"
      ],
      "metadata": {
        "id": "xHzhwoaYOZPL"
      },
      "execution_count": 10,
      "outputs": []
    },
    {
      "cell_type": "code",
      "source": [
        "def weighted_model_run(svm, X_train, X_test, y_train, y_test, test, unprivileged, privileged, weights):\n",
        "\n",
        "  folds = StratifiedKFold(n_splits=5)\n",
        "  for train_ind, test_ind in folds.split(X_train, y_train):\n",
        "    X_trn, X_tst, y_trn, y_tst = X_train[train_ind], X_train[test_ind], y_train[train_ind], y_train[test_ind]\n",
        "    mod_try = svm\n",
        "    mod_try.fit(X_trn, y_trn, sample_weight=weights[train_ind])     #sample weights\n",
        "\n",
        "  predict_test = mod_try.predict(X_test)\n",
        "  test_pred_try = test.copy()\n",
        "  test_pred_try.labels = predict_test\n",
        "  print(\"Accuracy on test: \", round((mod_try.score(X_test, y_test)*100),2), \"%\")\n",
        "\n",
        "  f_metric = ClassificationMetric(test, test_pred_try, unprivileged_groups=unprivileged, privileged_groups=privileged)\n",
        "  print(\"Equal opportunity difference: \", round(f_metric.equal_opportunity_difference(),3))\n",
        "  print(\"Disparate Impact: \", round(f_metric.disparate_impact(),3))\n",
        "\n",
        "  print(confusion_matrix(test.labels, test_pred_try.labels))\n",
        "\n"
      ],
      "metadata": {
        "id": "AZ6SIVBRVflT"
      },
      "execution_count": 11,
      "outputs": []
    },
    {
      "cell_type": "markdown",
      "source": [
        "Our analysis begins below. First we import the Adult Income dataset by utilizing the function *import_dataset* and assigning the values returned for the next steps (i.e., train and test sets). We get to see a bit about the data and the number and types of features in the dataset. To see the effect of changing the parameter values, we will first vary only reglarization term C keeping gamma constant and then plot the respective accuracy and fairness quotients against the C values. "
      ],
      "metadata": {
        "id": "glIo6_Psvm7D"
      }
    },
    {
      "cell_type": "code",
      "source": [
        "privileged_adult, unprivileged_adult, train_ad, test_ad, X_train_ad, y_train_ad, X_test_ad, y_test_ad = import_dataset(load_preproc_data_adult)"
      ],
      "metadata": {
        "colab": {
          "base_uri": "https://localhost:8080/"
        },
        "id": "svDyNB-9QnAk",
        "outputId": "fe9cafd8-7387-4da1-c4d7-b804eb311e9c"
      },
      "execution_count": 12,
      "outputs": [
        {
          "output_type": "stream",
          "name": "stdout",
          "text": [
            "training data size (34189, 18)\n",
            "dataset feature names ['race', 'sex', 'Age (decade)=10', 'Age (decade)=20', 'Age (decade)=30', 'Age (decade)=40', 'Age (decade)=50', 'Age (decade)=60', 'Age (decade)=>=70', 'Education Years=6', 'Education Years=7', 'Education Years=8', 'Education Years=9', 'Education Years=10', 'Education Years=11', 'Education Years=12', 'Education Years=<6', 'Education Years=>12']\n"
          ]
        }
      ]
    },
    {
      "cell_type": "code",
      "source": [
        "c_variable = list(np.linspace(0.1, 10, 20))\n",
        "gamma_const = [0.1]\n",
        "\n",
        "x_for_c, ignore1, y_accuracy_varc, y_error_varc = hyperparameter_tuning(c_variable, gamma_const, X_train_ad, y_train_ad)\n",
        "\n",
        "plt.figure(figsize=(15, 7))\n",
        "\n",
        "plt.subplot(1, 2, 1)\n",
        "plt.plot(x_for_c, list(y_accuracy_varc.values()), color='blue', label=\"Accuracy\")\n",
        "plt.title(\"Variation of Accuracy of models with varying C value\")\n",
        "plt.xlabel('C value')\n",
        "plt.ylabel('Accuracy')\n",
        "plt.legend()\n",
        "\n",
        "plt.subplot(1, 2, 2)\n",
        "plt.plot(x_for_c, list(y_error_varc.values()), color='green', label=\"Fairness difference\")\n",
        "plt.title(\"Variation of Fairness of models with varying C value\")\n",
        "plt.xlabel('C value')\n",
        "plt.ylabel('Equal opportunity difference')\n",
        "\n",
        "plt.legend()\n",
        "plt.show()"
      ],
      "metadata": {
        "colab": {
          "base_uri": "https://localhost:8080/",
          "height": 547
        },
        "id": "hQhEaENNR70N",
        "outputId": "24ce54d3-6960-46b3-c9a3-1ed79386a8fb"
      },
      "execution_count": 13,
      "outputs": [
        {
          "output_type": "stream",
          "name": "stdout",
          "text": [
            "Maximum accuracy value on training set:  80.39 %\n",
            "Hyperparameter values to achieve maximum accuracy:  ['C=1.142105263157895_gamma=0.1']\n",
            "Minimum error value:  0.5392\n",
            "Hyperparameter values to achieve maximum fairness (i.e. Equal opportunity for both classes):  ['C=2.7052631578947373_gamma=0.1', 'C=3.2263157894736847_gamma=0.1', 'C=3.747368421052632_gamma=0.1', 'C=4.268421052631579_gamma=0.1', 'C=4.7894736842105265_gamma=0.1', 'C=5.310526315789474_gamma=0.1', 'C=5.831578947368421_gamma=0.1', 'C=6.352631578947369_gamma=0.1', 'C=6.873684210526316_gamma=0.1', 'C=7.394736842105264_gamma=0.1', 'C=7.915789473684211_gamma=0.1', 'C=8.436842105263159_gamma=0.1', 'C=8.957894736842105_gamma=0.1', 'C=9.478947368421053_gamma=0.1', 'C=10.0_gamma=0.1']\n"
          ]
        },
        {
          "output_type": "display_data",
          "data": {
            "text/plain": [
              "<Figure size 1080x504 with 2 Axes>"
            ],
            "image/png": "[encoded data removed]"
          },
          "metadata": {
            "needs_background": "light"
          }
        }
      ]
    },
    {
      "cell_type": "markdown",
      "source": [
        "We will again plot accuracy and fairness metrics but this time, against a varying gamma value while keeping C constant."
      ],
      "metadata": {
        "id": "auysB7O4w2qS"
      }
    },
    {
      "cell_type": "code",
      "source": [
        "c_const = [1]\n",
        "gamma_variable = list(np.linspace(0.001, 1, 20))\n",
        "\n",
        "ignore2, x_for_g, y_accuracy_varg, y_error_varg = hyperparameter_tuning(c_const, gamma_variable, X_train_ad, y_train_ad)\n",
        "\n",
        "\n",
        "plt.figure(figsize=(15, 7))\n",
        "\n",
        "plt.subplot(1, 2, 1)\n",
        "plt.plot(x_for_g, list(y_accuracy_varg.values()), color='blue', label=\"Accuracy\")\n",
        "plt.title(\"Variation of Accuracy of models with varying gamma value\")\n",
        "plt.xlabel('gamma value')\n",
        "plt.ylabel('Accuracy')\n",
        "plt.legend()\n",
        "\n",
        "plt.subplot(1, 2, 2)\n",
        "plt.plot(x_for_g, list(y_error_varg.values()), color='green', label=\"TPR difference\")\n",
        "plt.title(\"Variation of Fairness of models with varying gamma value\")\n",
        "plt.xlabel('gamma value')\n",
        "plt.ylabel('Equal opportunity difference')\n",
        "\n",
        "plt.legend()\n",
        "plt.show()"
      ],
      "metadata": {
        "colab": {
          "base_uri": "https://localhost:8080/",
          "height": 527
        },
        "id": "1TMQxFODhgW4",
        "outputId": "1c50b2bb-1af2-42d7-ba65-643b7d60ed5e"
      },
      "execution_count": 14,
      "outputs": [
        {
          "output_type": "stream",
          "name": "stdout",
          "text": [
            "Maximum accuracy value on training set:  80.39 %\n",
            "Hyperparameter values to achieve maximum accuracy:  ['C=1_gamma=0.1061578947368421', 'C=1_gamma=0.15873684210526315', 'C=1_gamma=0.2113157894736842', 'C=1_gamma=0.26389473684210524']\n",
            "Minimum error value:  0.4132\n",
            "Hyperparameter values to achieve maximum fairness (i.e. Equal opportunity for both classes):  ['C=1_gamma=0.001']\n"
          ]
        },
        {
          "output_type": "display_data",
          "data": {
            "text/plain": [
              "<Figure size 1080x504 with 2 Axes>"
            ],
            "image/png": "[encoded data removed]"
          },
          "metadata": {
            "needs_background": "light"
          }
        }
      ]
    },
    {
      "cell_type": "markdown",
      "source": [
        "Now that we have got a rough idea about how changing the parameters affects our results, we tune both C value and gamma to find the reqired combinations as outlined earlier. A few selected values of C and gamma have been provided that will be checked. A more thorough check would be to provide range of values but it was found to increase computation time by a lot with no real improvement in results. Using Randomized search CV does cut down on the computation time but we have not used it because when the C values and gamma generated by np.linspace, Randomized search CV was sometimes found to not select the better combination when tuned randomly (compared to previous trials). It will of course be better if more random combinations are tested but it again increases computation time."
      ],
      "metadata": {
        "id": "uoy6vqLNxEla"
      }
    },
    {
      "cell_type": "code",
      "source": [
        "c_variable = [0.1, 1, 10]\n",
        "gamma_variable = [0.001, 0.01, 0.1, 1]\n",
        "\n",
        "a, b, c, d = hyperparameter_tuning(c_variable, gamma_variable, X_train_ad, y_train_ad)\n"
      ],
      "metadata": {
        "colab": {
          "base_uri": "https://localhost:8080/"
        },
        "id": "pd249lLJh2PW",
        "outputId": "526a520d-4613-4f9c-a5bf-0e83dde843c4"
      },
      "execution_count": 15,
      "outputs": [
        {
          "output_type": "stream",
          "name": "stdout",
          "text": [
            "Maximum accuracy value on training set:  80.38 %\n",
            "Hyperparameter values to achieve maximum accuracy:  ['C=1_gamma=0.1']\n",
            "Minimum error value:  0.4132\n",
            "Hyperparameter values to achieve maximum fairness (i.e. Equal opportunity for both classes):  ['C=1_gamma=0.001']\n"
          ]
        }
      ]
    },
    {
      "cell_type": "markdown",
      "source": [
        "Below is a 3D representation of the resulting values. It is a bit difficult to visualize the results hence a dataframe is also generated for tabular representation."
      ],
      "metadata": {
        "id": "lSv1UkqQoBcG"
      }
    },
    {
      "cell_type": "code",
      "source": [
        "fig = plt.figure(figsize=(15, 7))\n",
        "ax = fig.add_subplot(121, projection='3d')\n",
        "ax.plot3D(a, b, list(c.values()), color='b')\n",
        "ax.scatter3D(a, b, list(c.values()), c=list(c.values()), cmap='Blues', s=200)\n",
        "ax.set_title(\"Accuracy vs Hyperparameter tuning\")\n",
        "ax.set_xlabel(\"C value\")\n",
        "ax.set_ylabel(\"gamma\")\n",
        "ax.set_zlabel(\"Accuracy\")\n",
        "\n",
        "ax = fig.add_subplot(122, projection='3d')\n",
        "ax.plot3D(a, b, list(d.values()), color='g')\n",
        "ax.scatter3D(a, b, list(d.values()), c=list(d.values()), cmap='Greens', s=200)\n",
        "ax.set_title(\"Fairness vs Hyperparameter tuning\")\n",
        "ax.set_xlabel(\"C value\")\n",
        "ax.set_ylabel(\"gamma\")\n",
        "ax.set_zlabel(\"Equal opportunity difference\")\n",
        "\n",
        "plt.show()"
      ],
      "metadata": {
        "colab": {
          "base_uri": "https://localhost:8080/",
          "height": 411
        },
        "id": "ABfFV4Eco6UG",
        "outputId": "46231386-52c2-424d-aff6-120b7eedd59a"
      },
      "execution_count": 16,
      "outputs": [
        {
          "output_type": "display_data",
          "data": {
            "text/plain": [
              "<Figure size 1080x504 with 2 Axes>"
            ],
            "image/png": "[encoded data removed]"
          },
          "metadata": {
            "needs_background": "light"
          }
        }
      ]
    },
    {
      "cell_type": "markdown",
      "source": [
        "The fairness metric that we have considered is **Equal opportunity difference**. It is the difference between the true positive rates for both the classes. i.e. whether the number of positive or negative predictions (both true and false) are similar for both classes and treats them evenly. A value close to zero will display that, whereas a high difference value will demostrate uneven representation and bias.\n",
        "\n",
        "\n",
        "\n",
        "For better visualization, we convert the dictionaries of accuracy and Equal opportunity difference to a pandas dataframe. We sort it first by descending order of accuracy and next by ascending order of Equal opportunity difference and verify that the hyperparameter values are in fact as displayed in the output. Which they are."
      ],
      "metadata": {
        "id": "fu5PhwKe0-xU"
      }
    },
    {
      "cell_type": "code",
      "source": [
        "df_adult = pd.DataFrame(c.items(), columns=['Hyperparameters', 'Accuracy'])\n",
        "\n",
        "df_adult[\"Equality difference\"] = df_adult[\"Hyperparameters\"].map(d)\n",
        "df_adult.sort_values(by=[\"Accuracy\"], ascending=False)"
      ],
      "metadata": {
        "colab": {
          "base_uri": "https://localhost:8080/",
          "height": 426
        },
        "id": "LiO0qz3ffnKc",
        "outputId": "f1fa36c5-7f09-4929-c732-85357934a6b7"
      },
      "execution_count": 17,
      "outputs": [
        {
          "output_type": "execute_result",
          "data": {
            "text/plain": [
              "      Hyperparameters  Accuracy  Equality difference\n",
              "6       C=1_gamma=0.1  0.803826             0.543279\n",
              "3       C=0.1_gamma=1  0.803797             0.548683\n",
              "7         C=1_gamma=1  0.803650             0.539205\n",
              "11       C=10_gamma=1  0.803650             0.539205\n",
              "2     C=0.1_gamma=0.1  0.803650             0.555855\n",
              "10     C=10_gamma=0.1  0.803621             0.539167\n",
              "9     C=10_gamma=0.01  0.802978             0.530635\n",
              "5      C=1_gamma=0.01  0.802714             0.538453\n",
              "1    C=0.1_gamma=0.01  0.788382             0.428807\n",
              "8    C=10_gamma=0.001  0.787154             0.416623\n",
              "4     C=1_gamma=0.001  0.786276             0.413226\n",
              "0   C=0.1_gamma=0.001  0.759426             1.000000"
            ],
            "text/html": [
              "\n",
              "  <div id=\"df-270b2426-ab73-4500-b52f-53f7a1d5ca0e\">\n",
              "    <div class=\"colab-df-container\">\n",
              "      <div>\n",
              "<style scoped>\n",
              "    .dataframe tbody tr th:only-of-type {\n",
              "        vertical-align: middle;\n",
              "    }\n",
              "\n",
              "    .dataframe tbody tr th {\n",
              "        vertical-align: top;\n",
              "    }\n",
              "\n",
              "    .dataframe thead th {\n",
              "        text-align: right;\n",
              "    }\n",
              "</style>\n",
              "<table border=\"1\" class=\"dataframe\">\n",
              "  <thead>\n",
              "    <tr style=\"text-align: right;\">\n",
              "      <th></th>\n",
              "      <th>Hyperparameters</th>\n",
              "      <th>Accuracy</th>\n",
              "      <th>Equality difference</th>\n",
              "    </tr>\n",
              "  </thead>\n",
              "  <tbody>\n",
              "    <tr>\n",
              "      <th>6</th>\n",
              "      <td>C=1_gamma=0.1</td>\n",
              "      <td>0.803826</td>\n",
              "      <td>0.543279</td>\n",
              "    </tr>\n",
              "    <tr>\n",
              "      <th>3</th>\n",
              "      <td>C=0.1_gamma=1</td>\n",
              "      <td>0.803797</td>\n",
              "      <td>0.548683</td>\n",
              "    </tr>\n",
              "    <tr>\n",
              "      <th>7</th>\n",
              "      <td>C=1_gamma=1</td>\n",
              "      <td>0.803650</td>\n",
              "      <td>0.539205</td>\n",
              "    </tr>\n",
              "    <tr>\n",
              "      <th>11</th>\n",
              "      <td>C=10_gamma=1</td>\n",
              "      <td>0.803650</td>\n",
              "      <td>0.539205</td>\n",
              "    </tr>\n",
              "    <tr>\n",
              "      <th>2</th>\n",
              "      <td>C=0.1_gamma=0.1</td>\n",
              "      <td>0.803650</td>\n",
              "      <td>0.555855</td>\n",
              "    </tr>\n",
              "    <tr>\n",
              "      <th>10</th>\n",
              "      <td>C=10_gamma=0.1</td>\n",
              "      <td>0.803621</td>\n",
              "      <td>0.539167</td>\n",
              "    </tr>\n",
              "    <tr>\n",
              "      <th>9</th>\n",
              "      <td>C=10_gamma=0.01</td>\n",
              "      <td>0.802978</td>\n",
              "      <td>0.530635</td>\n",
              "    </tr>\n",
              "    <tr>\n",
              "      <th>5</th>\n",
              "      <td>C=1_gamma=0.01</td>\n",
              "      <td>0.802714</td>\n",
              "      <td>0.538453</td>\n",
              "    </tr>\n",
              "    <tr>\n",
              "      <th>1</th>\n",
              "      <td>C=0.1_gamma=0.01</td>\n",
              "      <td>0.788382</td>\n",
              "      <td>0.428807</td>\n",
              "    </tr>\n",
              "    <tr>\n",
              "      <th>8</th>\n",
              "      <td>C=10_gamma=0.001</td>\n",
              "      <td>0.787154</td>\n",
              "      <td>0.416623</td>\n",
              "    </tr>\n",
              "    <tr>\n",
              "      <th>4</th>\n",
              "      <td>C=1_gamma=0.001</td>\n",
              "      <td>0.786276</td>\n",
              "      <td>0.413226</td>\n",
              "    </tr>\n",
              "    <tr>\n",
              "      <th>0</th>\n",
              "      <td>C=0.1_gamma=0.001</td>\n",
              "      <td>0.759426</td>\n",
              "      <td>1.000000</td>\n",
              "    </tr>\n",
              "  </tbody>\n",
              "</table>\n",
              "</div>\n",
              "      <button class=\"colab-df-convert\" onclick=\"convertToInteractive('df-270b2426-ab73-4500-b52f-53f7a1d5ca0e')\"\n",
              "              title=\"Convert this dataframe to an interactive table.\"\n",
              "              style=\"display:none;\">\n",
              "        \n",
              "  <svg xmlns=\"http://www.w3.org/2000/svg\" height=\"24px\"viewBox=\"0 0 24 24\"\n",
              "       width=\"24px\">\n",
              "    <path d=\"M0 0h24v24H0V0z\" fill=\"none\"/>\n",
              "    <path d=\"M18.56 5.44l.94 2.06.94-2.06 2.06-.94-2.06-.94-.94-2.06-.94 2.06-2.06.94zm-11 1L8.5 8.5l.94-2.06 2.06-.94-2.06-.94L8.5 2.5l-.94 2.06-2.06.94zm10 10l.94 2.06.94-2.06 2.06-.94-2.06-.94-.94-2.06-.94 2.06-2.06.94z\"/><path d=\"M17.41 7.96l-1.37-1.37c-.4-.4-.92-.59-1.43-.59-.52 0-1.04.2-1.43.59L10.3 9.45l-7.72 7.72c-.78.78-.78 2.05 0 2.83L4 21.41c.39.39.9.59 1.41.59.51 0 1.02-.2 1.41-.59l7.78-7.78 2.81-2.81c.8-.78.8-2.07 0-2.86zM5.41 20L4 18.59l7.72-7.72 1.47 1.35L5.41 20z\"/>\n",
              "  </svg>\n",
              "      </button>\n",
              "      \n",
              "  <style>\n",
              "    .colab-df-container {\n",
              "      display:flex;\n",
              "      flex-wrap:wrap;\n",
              "      gap: 12px;\n",
              "    }\n",
              "\n",
              "    .colab-df-convert {\n",
              "      background-color: #E8F0FE;\n",
              "      border: none;\n",
              "      border-radius: 50%;\n",
              "      cursor: pointer;\n",
              "      display: none;\n",
              "      fill: #1967D2;\n",
              "      height: 32px;\n",
              "      padding: 0 0 0 0;\n",
              "      width: 32px;\n",
              "    }\n",
              "\n",
              "    .colab-df-convert:hover {\n",
              "      background-color: #E2EBFA;\n",
              "      box-shadow: 0px 1px 2px rgba(60, 64, 67, 0.3), 0px 1px 3px 1px rgba(60, 64, 67, 0.15);\n",
              "      fill: #174EA6;\n",
              "    }\n",
              "\n",
              "    [theme=dark] .colab-df-convert {\n",
              "      background-color: #3B4455;\n",
              "      fill: #D2E3FC;\n",
              "    }\n",
              "\n",
              "    [theme=dark] .colab-df-convert:hover {\n",
              "      background-color: #434B5C;\n",
              "      box-shadow: 0px 1px 3px 1px rgba(0, 0, 0, 0.15);\n",
              "      filter: drop-shadow(0px 1px 2px rgba(0, 0, 0, 0.3));\n",
              "      fill: #FFFFFF;\n",
              "    }\n",
              "  </style>\n",
              "\n",
              "      <script>\n",
              "        const buttonEl =\n",
              "          document.querySelector('#df-270b2426-ab73-4500-b52f-53f7a1d5ca0e button.colab-df-convert');\n",
              "        buttonEl.style.display =\n",
              "          google.colab.kernel.accessAllowed ? 'block' : 'none';\n",
              "\n",
              "        async function convertToInteractive(key) {\n",
              "          const element = document.querySelector('#df-270b2426-ab73-4500-b52f-53f7a1d5ca0e');\n",
              "          const dataTable =\n",
              "            await google.colab.kernel.invokeFunction('convertToInteractive',\n",
              "                                                     [key], {});\n",
              "          if (!dataTable) return;\n",
              "\n",
              "          const docLinkHtml = 'Like what you see? Visit the ' +\n",
              "            '<a target=\"_blank\" href=https://colab.research.google.com/notebooks/data_table.ipynb>data table notebook</a>'\n",
              "            + ' to learn more about interactive tables.';\n",
              "          element.innerHTML = '';\n",
              "          dataTable['output_type'] = 'display_data';\n",
              "          await google.colab.output.renderOutput(dataTable, element);\n",
              "          const docLink = document.createElement('div');\n",
              "          docLink.innerHTML = docLinkHtml;\n",
              "          element.appendChild(docLink);\n",
              "        }\n",
              "      </script>\n",
              "    </div>\n",
              "  </div>\n",
              "  "
            ]
          },
          "metadata": {},
          "execution_count": 17
        }
      ]
    },
    {
      "cell_type": "code",
      "source": [
        "df_adult[\"Absolute difference\"]=abs(df_adult[\"Equality difference\"])\n",
        "df_adult.sort_values(by=[\"Absolute difference\"])"
      ],
      "metadata": {
        "colab": {
          "base_uri": "https://localhost:8080/",
          "height": 426
        },
        "id": "j8KQ-PVml6n4",
        "outputId": "9ba4ba1d-9c60-4fc3-8790-3a1240898c2b"
      },
      "execution_count": 18,
      "outputs": [
        {
          "output_type": "execute_result",
          "data": {
            "text/plain": [
              "      Hyperparameters  Accuracy  Equality difference  Absolute difference\n",
              "4     C=1_gamma=0.001  0.786276             0.413226             0.413226\n",
              "8    C=10_gamma=0.001  0.787154             0.416623             0.416623\n",
              "1    C=0.1_gamma=0.01  0.788382             0.428807             0.428807\n",
              "9     C=10_gamma=0.01  0.802978             0.530635             0.530635\n",
              "5      C=1_gamma=0.01  0.802714             0.538453             0.538453\n",
              "10     C=10_gamma=0.1  0.803621             0.539167             0.539167\n",
              "7         C=1_gamma=1  0.803650             0.539205             0.539205\n",
              "11       C=10_gamma=1  0.803650             0.539205             0.539205\n",
              "6       C=1_gamma=0.1  0.803826             0.543279             0.543279\n",
              "3       C=0.1_gamma=1  0.803797             0.548683             0.548683\n",
              "2     C=0.1_gamma=0.1  0.803650             0.555855             0.555855\n",
              "0   C=0.1_gamma=0.001  0.759426             1.000000             1.000000"
            ],
            "text/html": [
              "\n",
              "  <div id=\"df-4b3a866a-fd0e-4abe-8f57-2573a6c02016\">\n",
              "    <div class=\"colab-df-container\">\n",
              "      <div>\n",
              "<style scoped>\n",
              "    .dataframe tbody tr th:only-of-type {\n",
              "        vertical-align: middle;\n",
              "    }\n",
              "\n",
              "    .dataframe tbody tr th {\n",
              "        vertical-align: top;\n",
              "    }\n",
              "\n",
              "    .dataframe thead th {\n",
              "        text-align: right;\n",
              "    }\n",
              "</style>\n",
              "<table border=\"1\" class=\"dataframe\">\n",
              "  <thead>\n",
              "    <tr style=\"text-align: right;\">\n",
              "      <th></th>\n",
              "      <th>Hyperparameters</th>\n",
              "      <th>Accuracy</th>\n",
              "      <th>Equality difference</th>\n",
              "      <th>Absolute difference</th>\n",
              "    </tr>\n",
              "  </thead>\n",
              "  <tbody>\n",
              "    <tr>\n",
              "      <th>4</th>\n",
              "      <td>C=1_gamma=0.001</td>\n",
              "      <td>0.786276</td>\n",
              "      <td>0.413226</td>\n",
              "      <td>0.413226</td>\n",
              "    </tr>\n",
              "    <tr>\n",
              "      <th>8</th>\n",
              "      <td>C=10_gamma=0.001</td>\n",
              "      <td>0.787154</td>\n",
              "      <td>0.416623</td>\n",
              "      <td>0.416623</td>\n",
              "    </tr>\n",
              "    <tr>\n",
              "      <th>1</th>\n",
              "      <td>C=0.1_gamma=0.01</td>\n",
              "      <td>0.788382</td>\n",
              "      <td>0.428807</td>\n",
              "      <td>0.428807</td>\n",
              "    </tr>\n",
              "    <tr>\n",
              "      <th>9</th>\n",
              "      <td>C=10_gamma=0.01</td>\n",
              "      <td>0.802978</td>\n",
              "      <td>0.530635</td>\n",
              "      <td>0.530635</td>\n",
              "    </tr>\n",
              "    <tr>\n",
              "      <th>5</th>\n",
              "      <td>C=1_gamma=0.01</td>\n",
              "      <td>0.802714</td>\n",
              "      <td>0.538453</td>\n",
              "      <td>0.538453</td>\n",
              "    </tr>\n",
              "    <tr>\n",
              "      <th>10</th>\n",
              "      <td>C=10_gamma=0.1</td>\n",
              "      <td>0.803621</td>\n",
              "      <td>0.539167</td>\n",
              "      <td>0.539167</td>\n",
              "    </tr>\n",
              "    <tr>\n",
              "      <th>7</th>\n",
              "      <td>C=1_gamma=1</td>\n",
              "      <td>0.803650</td>\n",
              "      <td>0.539205</td>\n",
              "      <td>0.539205</td>\n",
              "    </tr>\n",
              "    <tr>\n",
              "      <th>11</th>\n",
              "      <td>C=10_gamma=1</td>\n",
              "      <td>0.803650</td>\n",
              "      <td>0.539205</td>\n",
              "      <td>0.539205</td>\n",
              "    </tr>\n",
              "    <tr>\n",
              "      <th>6</th>\n",
              "      <td>C=1_gamma=0.1</td>\n",
              "      <td>0.803826</td>\n",
              "      <td>0.543279</td>\n",
              "      <td>0.543279</td>\n",
              "    </tr>\n",
              "    <tr>\n",
              "      <th>3</th>\n",
              "      <td>C=0.1_gamma=1</td>\n",
              "      <td>0.803797</td>\n",
              "      <td>0.548683</td>\n",
              "      <td>0.548683</td>\n",
              "    </tr>\n",
              "    <tr>\n",
              "      <th>2</th>\n",
              "      <td>C=0.1_gamma=0.1</td>\n",
              "      <td>0.803650</td>\n",
              "      <td>0.555855</td>\n",
              "      <td>0.555855</td>\n",
              "    </tr>\n",
              "    <tr>\n",
              "      <th>0</th>\n",
              "      <td>C=0.1_gamma=0.001</td>\n",
              "      <td>0.759426</td>\n",
              "      <td>1.000000</td>\n",
              "      <td>1.000000</td>\n",
              "    </tr>\n",
              "  </tbody>\n",
              "</table>\n",
              "</div>\n",
              "      <button class=\"colab-df-convert\" onclick=\"convertToInteractive('df-4b3a866a-fd0e-4abe-8f57-2573a6c02016')\"\n",
              "              title=\"Convert this dataframe to an interactive table.\"\n",
              "              style=\"display:none;\">\n",
              "        \n",
              "  <svg xmlns=\"http://www.w3.org/2000/svg\" height=\"24px\"viewBox=\"0 0 24 24\"\n",
              "       width=\"24px\">\n",
              "    <path d=\"M0 0h24v24H0V0z\" fill=\"none\"/>\n",
              "    <path d=\"M18.56 5.44l.94 2.06.94-2.06 2.06-.94-2.06-.94-.94-2.06-.94 2.06-2.06.94zm-11 1L8.5 8.5l.94-2.06 2.06-.94-2.06-.94L8.5 2.5l-.94 2.06-2.06.94zm10 10l.94 2.06.94-2.06 2.06-.94-2.06-.94-.94-2.06-.94 2.06-2.06.94z\"/><path d=\"M17.41 7.96l-1.37-1.37c-.4-.4-.92-.59-1.43-.59-.52 0-1.04.2-1.43.59L10.3 9.45l-7.72 7.72c-.78.78-.78 2.05 0 2.83L4 21.41c.39.39.9.59 1.41.59.51 0 1.02-.2 1.41-.59l7.78-7.78 2.81-2.81c.8-.78.8-2.07 0-2.86zM5.41 20L4 18.59l7.72-7.72 1.47 1.35L5.41 20z\"/>\n",
              "  </svg>\n",
              "      </button>\n",
              "      \n",
              "  <style>\n",
              "    .colab-df-container {\n",
              "      display:flex;\n",
              "      flex-wrap:wrap;\n",
              "      gap: 12px;\n",
              "    }\n",
              "\n",
              "    .colab-df-convert {\n",
              "      background-color: #E8F0FE;\n",
              "      border: none;\n",
              "      border-radius: 50%;\n",
              "      cursor: pointer;\n",
              "      display: none;\n",
              "      fill: #1967D2;\n",
              "      height: 32px;\n",
              "      padding: 0 0 0 0;\n",
              "      width: 32px;\n",
              "    }\n",
              "\n",
              "    .colab-df-convert:hover {\n",
              "      background-color: #E2EBFA;\n",
              "      box-shadow: 0px 1px 2px rgba(60, 64, 67, 0.3), 0px 1px 3px 1px rgba(60, 64, 67, 0.15);\n",
              "      fill: #174EA6;\n",
              "    }\n",
              "\n",
              "    [theme=dark] .colab-df-convert {\n",
              "      background-color: #3B4455;\n",
              "      fill: #D2E3FC;\n",
              "    }\n",
              "\n",
              "    [theme=dark] .colab-df-convert:hover {\n",
              "      background-color: #434B5C;\n",
              "      box-shadow: 0px 1px 3px 1px rgba(0, 0, 0, 0.15);\n",
              "      filter: drop-shadow(0px 1px 2px rgba(0, 0, 0, 0.3));\n",
              "      fill: #FFFFFF;\n",
              "    }\n",
              "  </style>\n",
              "\n",
              "      <script>\n",
              "        const buttonEl =\n",
              "          document.querySelector('#df-4b3a866a-fd0e-4abe-8f57-2573a6c02016 button.colab-df-convert');\n",
              "        buttonEl.style.display =\n",
              "          google.colab.kernel.accessAllowed ? 'block' : 'none';\n",
              "\n",
              "        async function convertToInteractive(key) {\n",
              "          const element = document.querySelector('#df-4b3a866a-fd0e-4abe-8f57-2573a6c02016');\n",
              "          const dataTable =\n",
              "            await google.colab.kernel.invokeFunction('convertToInteractive',\n",
              "                                                     [key], {});\n",
              "          if (!dataTable) return;\n",
              "\n",
              "          const docLinkHtml = 'Like what you see? Visit the ' +\n",
              "            '<a target=\"_blank\" href=https://colab.research.google.com/notebooks/data_table.ipynb>data table notebook</a>'\n",
              "            + ' to learn more about interactive tables.';\n",
              "          element.innerHTML = '';\n",
              "          dataTable['output_type'] = 'display_data';\n",
              "          await google.colab.output.renderOutput(dataTable, element);\n",
              "          const docLink = document.createElement('div');\n",
              "          docLink.innerHTML = docLinkHtml;\n",
              "          element.appendChild(docLink);\n",
              "        }\n",
              "      </script>\n",
              "    </div>\n",
              "  </div>\n",
              "  "
            ]
          },
          "metadata": {},
          "execution_count": 18
        }
      ]
    },
    {
      "cell_type": "markdown",
      "source": [
        "We create a new column in the dataframe called **Absolute difference** which is the absoluted value of EOD. It helps to understand how far exactly a point is from the 0 mark. From our output we can see that the SVC(C=1, gamma=0.1) model has the highest accuracy on the training set, 80.38% but also has a high EOD (-0.437037). It might be the most accurate but not the most fair. Far fairness, we take a look at the next table which shows that SVC(C=0.1, gamma=0.001) has 0.0 EOD and thereby the most fair but the accuracy drops down to almost 76%. Proper considerations need to be made to seelct the most optimum parameters.\n",
        "\n",
        "\n",
        "\n",
        "\n",
        "\n",
        "\n",
        "Our next job is to apply the respective models with parameters obtained above on the test sets to see how they fare."
      ],
      "metadata": {
        "id": "eJ0B3FWi4Rr5"
      }
    },
    {
      "cell_type": "code",
      "source": [
        "model_run(SVC(C=1, gamma=0.1, kernel='rbf'), X_train_ad, X_test_ad, y_train_ad, y_test_ad, test_ad, unprivileged_adult, privileged_adult)"
      ],
      "metadata": {
        "colab": {
          "base_uri": "https://localhost:8080/"
        },
        "id": "ICHLIPWw1qLJ",
        "outputId": "2334610f-5059-4c14-d10a-12b0ab4d8dcb"
      },
      "execution_count": 19,
      "outputs": [
        {
          "output_type": "stream",
          "name": "stdout",
          "text": [
            "Accuracy on test:  80.37 %\n",
            "Equal opportunity difference:  -0.437\n",
            "Disparate Impact:  0.0\n",
            "[[10479   712]\n",
            " [ 2164  1298]]\n"
          ]
        }
      ]
    },
    {
      "cell_type": "code",
      "source": [
        "model_run(SVC(C=1, gamma=0.001, kernel='rbf'), X_train_ad, X_test_ad, y_train_ad, y_test_ad, test_ad, unprivileged_adult, privileged_adult)"
      ],
      "metadata": {
        "colab": {
          "base_uri": "https://localhost:8080/"
        },
        "id": "1yq2bszS2C5T",
        "outputId": "54aa64be-fdb0-48be-db2d-629cb337c68c"
      },
      "execution_count": 20,
      "outputs": [
        {
          "output_type": "stream",
          "name": "stdout",
          "text": [
            "Accuracy on test:  78.74 %\n",
            "Equal opportunity difference:  0.033\n",
            "Disparate Impact:  0.712\n",
            "[[9941 1250]\n",
            " [1865 1597]]\n"
          ]
        }
      ]
    },
    {
      "cell_type": "markdown",
      "source": [
        "As expected, higher values of C and gamma contributed towards the most accuracy. It would make sense because a high value of C implies higher penalties on points classified incorrectly so the model tries to minimize misclassifications thereby increasing accuracy. Whereas a higher value of gamma implies class similarity within a smaller space. If gamma is low, as in the fair model, it considers similarities in the samples across larger distances and may therefore classify incorrectly (with low penalties as well if C is low as in fair model). This shows that a fairer model is more generalizable but lower on accuracy.\n",
        "\n",
        "\n",
        "\n",
        "\n",
        "We perform all the above task again on a new dataset called **German** where again, classification is based on a protected feature **\"sex\"** and the model is still SVM."
      ],
      "metadata": {
        "id": "dYaNfc456Ruz"
      }
    },
    {
      "cell_type": "code",
      "source": [
        "cd /usr/local/lib/python3.7/dist-packages/aif360/data/raw/german"
      ],
      "metadata": {
        "id": "tjn2jkY93lQh"
      },
      "execution_count": null,
      "outputs": []
    },
    {
      "cell_type": "code",
      "source": [
        "!wget https://archive.ics.uci.edu/ml/machine-learning-databases/statlog/german/german.data\n",
        "!wget https://archive.ics.uci.edu/ml/machine-learning-databases/statlog/german/german.doc"
      ],
      "metadata": {
        "id": "JGa9RAwd3voZ"
      },
      "execution_count": null,
      "outputs": []
    },
    {
      "cell_type": "code",
      "source": [
        "privileged_german, unprivileged_german, train_ge, test_ge, X_train_ge, y_train_ge, X_test_ge, y_test_ge = import_dataset(load_preproc_data_german)"
      ],
      "metadata": {
        "colab": {
          "base_uri": "https://localhost:8080/"
        },
        "id": "c9IE6APs36Bp",
        "outputId": "3dce0959-2391-4ac1-84ce-3baac3334b8a"
      },
      "execution_count": 23,
      "outputs": [
        {
          "output_type": "stream",
          "name": "stdout",
          "text": [
            "training data size (700, 11)\n",
            "dataset feature names ['age', 'sex', 'credit_history=Delay', 'credit_history=None/Paid', 'credit_history=Other', 'savings=500+', 'savings=<500', 'savings=Unknown/None', 'employment=1-4 years', 'employment=4+ years', 'employment=Unemployed']\n"
          ]
        }
      ]
    },
    {
      "cell_type": "code",
      "source": [
        "c_variable_g = list(np.linspace(0.1, 1, 10))\n",
        "gamma_variable_g = list(np.linspace(0.001, 1, 10))\n",
        "\n",
        "e, f, g, h = hyperparameter_tuning(c_variable_g, gamma_variable_g, X_train_ge, y_train_ge)\n"
      ],
      "metadata": {
        "colab": {
          "base_uri": "https://localhost:8080/"
        },
        "id": "rofEQcII4VIh",
        "outputId": "912c3b01-30da-408f-b98d-31a85a56b788"
      },
      "execution_count": 24,
      "outputs": [
        {
          "output_type": "stream",
          "name": "stdout",
          "text": [
            "Maximum accuracy value on training set:  71.86 %\n",
            "Hyperparameter values to achieve maximum accuracy:  ['C=0.5_gamma=0.445', 'C=0.5_gamma=0.556', 'C=0.5_gamma=0.667', 'C=0.5_gamma=0.778', 'C=0.5_gamma=0.889', 'C=0.5_gamma=1.0', 'C=0.6_gamma=0.334', 'C=0.6_gamma=0.445', 'C=0.6_gamma=0.556', 'C=0.6_gamma=0.667', 'C=0.6_gamma=0.778', 'C=0.6_gamma=0.889', 'C=0.6_gamma=1.0', 'C=0.7000000000000001_gamma=0.334', 'C=0.7000000000000001_gamma=0.445', 'C=0.7000000000000001_gamma=0.556', 'C=0.7000000000000001_gamma=0.667', 'C=0.7000000000000001_gamma=0.778', 'C=0.7000000000000001_gamma=0.889', 'C=0.7000000000000001_gamma=1.0']\n",
            "Minimum error value:  0.0\n",
            "Hyperparameter values to achieve maximum fairness (i.e. Equal opportunity for both classes):  ['C=0.1_gamma=0.001', 'C=0.1_gamma=0.112', 'C=0.1_gamma=0.223', 'C=0.1_gamma=0.334', 'C=0.1_gamma=0.445', 'C=0.1_gamma=0.556', 'C=0.1_gamma=0.667', 'C=0.1_gamma=0.778', 'C=0.1_gamma=0.889', 'C=0.1_gamma=1.0', 'C=0.2_gamma=0.001', 'C=0.2_gamma=0.112', 'C=0.2_gamma=0.223', 'C=0.2_gamma=0.334', 'C=0.2_gamma=0.445', 'C=0.2_gamma=0.556', 'C=0.2_gamma=0.667', 'C=0.2_gamma=0.778', 'C=0.2_gamma=0.889', 'C=0.2_gamma=1.0', 'C=0.30000000000000004_gamma=0.001', 'C=0.30000000000000004_gamma=0.112', 'C=0.30000000000000004_gamma=0.223', 'C=0.30000000000000004_gamma=0.334', 'C=0.30000000000000004_gamma=0.445', 'C=0.30000000000000004_gamma=0.556', 'C=0.30000000000000004_gamma=0.667', 'C=0.30000000000000004_gamma=0.778', 'C=0.30000000000000004_gamma=0.889', 'C=0.30000000000000004_gamma=1.0', 'C=0.4_gamma=0.001', 'C=0.4_gamma=0.112', 'C=0.4_gamma=0.223', 'C=0.4_gamma=0.334', 'C=0.4_gamma=0.445', 'C=0.4_gamma=0.556', 'C=0.4_gamma=0.667', 'C=0.4_gamma=0.778', 'C=0.4_gamma=0.889', 'C=0.4_gamma=1.0', 'C=0.5_gamma=0.001', 'C=0.5_gamma=0.112', 'C=0.5_gamma=0.223', 'C=0.5_gamma=0.334', 'C=0.5_gamma=0.445', 'C=0.5_gamma=0.556', 'C=0.5_gamma=0.667', 'C=0.5_gamma=0.778', 'C=0.5_gamma=0.889', 'C=0.5_gamma=1.0', 'C=0.6_gamma=0.001', 'C=0.6_gamma=0.112', 'C=0.6_gamma=0.223', 'C=0.6_gamma=0.334', 'C=0.6_gamma=0.445', 'C=0.6_gamma=0.556', 'C=0.6_gamma=0.667', 'C=0.6_gamma=0.778', 'C=0.6_gamma=0.889', 'C=0.6_gamma=1.0', 'C=0.7000000000000001_gamma=0.001', 'C=0.7000000000000001_gamma=0.112', 'C=0.7000000000000001_gamma=0.223', 'C=0.7000000000000001_gamma=0.334', 'C=0.7000000000000001_gamma=0.445', 'C=0.7000000000000001_gamma=0.556', 'C=0.7000000000000001_gamma=0.667', 'C=0.7000000000000001_gamma=0.778', 'C=0.7000000000000001_gamma=0.889', 'C=0.7000000000000001_gamma=1.0', 'C=0.8_gamma=0.001', 'C=0.8_gamma=0.112', 'C=0.8_gamma=0.223', 'C=0.8_gamma=0.334', 'C=0.8_gamma=0.445', 'C=0.8_gamma=0.556', 'C=0.8_gamma=0.667', 'C=0.8_gamma=0.778', 'C=0.8_gamma=0.889', 'C=0.8_gamma=1.0', 'C=0.9_gamma=0.001', 'C=0.9_gamma=0.112', 'C=0.9_gamma=0.223', 'C=0.9_gamma=0.334', 'C=0.9_gamma=0.445', 'C=0.9_gamma=0.556', 'C=0.9_gamma=0.667', 'C=0.9_gamma=0.778', 'C=0.9_gamma=0.889', 'C=0.9_gamma=1.0', 'C=1.0_gamma=0.001', 'C=1.0_gamma=0.112', 'C=1.0_gamma=0.223', 'C=1.0_gamma=0.334', 'C=1.0_gamma=0.445', 'C=1.0_gamma=0.556', 'C=1.0_gamma=0.667', 'C=1.0_gamma=0.778', 'C=1.0_gamma=0.889', 'C=1.0_gamma=1.0']\n"
          ]
        }
      ]
    },
    {
      "cell_type": "code",
      "source": [
        "fig = plt.figure(figsize=(15, 7))\n",
        "ax = fig.add_subplot(121, projection='3d')\n",
        "ax.plot3D(e, f, list(g.values()), color='b')\n",
        "ax.scatter3D(e, f, list(g.values()), c=list(g.values()), cmap='Blues', s=200)\n",
        "ax.set_title(\"Accuracy vs Hyperparameter tuning\")\n",
        "ax.set_xlabel(\"C value\")\n",
        "ax.set_ylabel(\"gamma\")\n",
        "ax.set_zlabel(\"Accuracy\")\n",
        "\n",
        "ax = fig.add_subplot(122, projection='3d')\n",
        "ax.plot3D(e, f, list(h.values()), color='g')\n",
        "ax.scatter3D(e, f, list(h.values()), c=list(h.values()), cmap='Greens', s=200)\n",
        "ax.set_title(\"Fairness vs Hyperparameter tuning\")\n",
        "ax.set_xlabel(\"C value\")\n",
        "ax.set_ylabel(\"gamma\")\n",
        "ax.set_zlabel(\"Equal opportunity difference\")\n",
        "\n",
        "plt.show()"
      ],
      "metadata": {
        "colab": {
          "base_uri": "https://localhost:8080/",
          "height": 411
        },
        "id": "azkYMJuI48yP",
        "outputId": "ae3d91b9-dbaa-4b78-d7bd-419bb5f9a033"
      },
      "execution_count": 25,
      "outputs": [
        {
          "output_type": "display_data",
          "data": {
            "text/plain": [
              "<Figure size 1080x504 with 2 Axes>"
            ],
            "image/png": "[encoded data removed]"
          },
          "metadata": {
            "needs_background": "light"
          }
        }
      ]
    },
    {
      "cell_type": "code",
      "source": [
        "df_german = pd.DataFrame(g.items(), columns=['Hyperparameters', 'Accuracy'])\n",
        "\n",
        "df_german[\"Equality difference\"] = df_german[\"Hyperparameters\"].map(h)\n",
        "df_german[\"Absolute difference\"]=abs(df_german[\"Equality difference\"])\n",
        "\n",
        "df_german.sort_values(by=[\"Accuracy\"], ascending=False)"
      ],
      "metadata": {
        "colab": {
          "base_uri": "https://localhost:8080/",
          "height": 424
        },
        "id": "9QwfFcfNJ9JV",
        "outputId": "f6dfc7eb-9748-4df0-b87f-83f992509afe"
      },
      "execution_count": 66,
      "outputs": [
        {
          "output_type": "execute_result",
          "data": {
            "text/plain": [
              "                     Hyperparameters  Accuracy  Equality difference  \\\n",
              "56                 C=0.6_gamma=0.667  0.718571                  0.0   \n",
              "47                 C=0.5_gamma=0.778  0.718571                  0.0   \n",
              "49                   C=0.5_gamma=1.0  0.718571                  0.0   \n",
              "53                 C=0.6_gamma=0.334  0.718571                  0.0   \n",
              "54                 C=0.6_gamma=0.445  0.718571                  0.0   \n",
              "..                               ...       ...                  ...   \n",
              "1                  C=0.1_gamma=0.112  0.698571                  0.0   \n",
              "60  C=0.7000000000000001_gamma=0.001  0.698571                  0.0   \n",
              "99                   C=1.0_gamma=1.0  0.698571                  0.0   \n",
              "81                 C=0.9_gamma=0.112  0.695714                  0.0   \n",
              "91                 C=1.0_gamma=0.112  0.691429                  0.0   \n",
              "\n",
              "    Absolute difference  \n",
              "56                  0.0  \n",
              "47                  0.0  \n",
              "49                  0.0  \n",
              "53                  0.0  \n",
              "54                  0.0  \n",
              "..                  ...  \n",
              "1                   0.0  \n",
              "60                  0.0  \n",
              "99                  0.0  \n",
              "81                  0.0  \n",
              "91                  0.0  \n",
              "\n",
              "[100 rows x 4 columns]"
            ],
            "text/html": [
              "\n",
              "  <div id=\"df-7cb7bac2-9390-4d15-a285-bde3c78d4502\">\n",
              "    <div class=\"colab-df-container\">\n",
              "      <div>\n",
              "<style scoped>\n",
              "    .dataframe tbody tr th:only-of-type {\n",
              "        vertical-align: middle;\n",
              "    }\n",
              "\n",
              "    .dataframe tbody tr th {\n",
              "        vertical-align: top;\n",
              "    }\n",
              "\n",
              "    .dataframe thead th {\n",
              "        text-align: right;\n",
              "    }\n",
              "</style>\n",
              "<table border=\"1\" class=\"dataframe\">\n",
              "  <thead>\n",
              "    <tr style=\"text-align: right;\">\n",
              "      <th></th>\n",
              "      <th>Hyperparameters</th>\n",
              "      <th>Accuracy</th>\n",
              "      <th>Equality difference</th>\n",
              "      <th>Absolute difference</th>\n",
              "    </tr>\n",
              "  </thead>\n",
              "  <tbody>\n",
              "    <tr>\n",
              "      <th>56</th>\n",
              "      <td>C=0.6_gamma=0.667</td>\n",
              "      <td>0.718571</td>\n",
              "      <td>0.0</td>\n",
              "      <td>0.0</td>\n",
              "    </tr>\n",
              "    <tr>\n",
              "      <th>47</th>\n",
              "      <td>C=0.5_gamma=0.778</td>\n",
              "      <td>0.718571</td>\n",
              "      <td>0.0</td>\n",
              "      <td>0.0</td>\n",
              "    </tr>\n",
              "    <tr>\n",
              "      <th>49</th>\n",
              "      <td>C=0.5_gamma=1.0</td>\n",
              "      <td>0.718571</td>\n",
              "      <td>0.0</td>\n",
              "      <td>0.0</td>\n",
              "    </tr>\n",
              "    <tr>\n",
              "      <th>53</th>\n",
              "      <td>C=0.6_gamma=0.334</td>\n",
              "      <td>0.718571</td>\n",
              "      <td>0.0</td>\n",
              "      <td>0.0</td>\n",
              "    </tr>\n",
              "    <tr>\n",
              "      <th>54</th>\n",
              "      <td>C=0.6_gamma=0.445</td>\n",
              "      <td>0.718571</td>\n",
              "      <td>0.0</td>\n",
              "      <td>0.0</td>\n",
              "    </tr>\n",
              "    <tr>\n",
              "      <th>...</th>\n",
              "      <td>...</td>\n",
              "      <td>...</td>\n",
              "      <td>...</td>\n",
              "      <td>...</td>\n",
              "    </tr>\n",
              "    <tr>\n",
              "      <th>1</th>\n",
              "      <td>C=0.1_gamma=0.112</td>\n",
              "      <td>0.698571</td>\n",
              "      <td>0.0</td>\n",
              "      <td>0.0</td>\n",
              "    </tr>\n",
              "    <tr>\n",
              "      <th>60</th>\n",
              "      <td>C=0.7000000000000001_gamma=0.001</td>\n",
              "      <td>0.698571</td>\n",
              "      <td>0.0</td>\n",
              "      <td>0.0</td>\n",
              "    </tr>\n",
              "    <tr>\n",
              "      <th>99</th>\n",
              "      <td>C=1.0_gamma=1.0</td>\n",
              "      <td>0.698571</td>\n",
              "      <td>0.0</td>\n",
              "      <td>0.0</td>\n",
              "    </tr>\n",
              "    <tr>\n",
              "      <th>81</th>\n",
              "      <td>C=0.9_gamma=0.112</td>\n",
              "      <td>0.695714</td>\n",
              "      <td>0.0</td>\n",
              "      <td>0.0</td>\n",
              "    </tr>\n",
              "    <tr>\n",
              "      <th>91</th>\n",
              "      <td>C=1.0_gamma=0.112</td>\n",
              "      <td>0.691429</td>\n",
              "      <td>0.0</td>\n",
              "      <td>0.0</td>\n",
              "    </tr>\n",
              "  </tbody>\n",
              "</table>\n",
              "<p>100 rows × 4 columns</p>\n",
              "</div>\n",
              "      <button class=\"colab-df-convert\" onclick=\"convertToInteractive('df-7cb7bac2-9390-4d15-a285-bde3c78d4502')\"\n",
              "              title=\"Convert this dataframe to an interactive table.\"\n",
              "              style=\"display:none;\">\n",
              "        \n",
              "  <svg xmlns=\"http://www.w3.org/2000/svg\" height=\"24px\"viewBox=\"0 0 24 24\"\n",
              "       width=\"24px\">\n",
              "    <path d=\"M0 0h24v24H0V0z\" fill=\"none\"/>\n",
              "    <path d=\"M18.56 5.44l.94 2.06.94-2.06 2.06-.94-2.06-.94-.94-2.06-.94 2.06-2.06.94zm-11 1L8.5 8.5l.94-2.06 2.06-.94-2.06-.94L8.5 2.5l-.94 2.06-2.06.94zm10 10l.94 2.06.94-2.06 2.06-.94-2.06-.94-.94-2.06-.94 2.06-2.06.94z\"/><path d=\"M17.41 7.96l-1.37-1.37c-.4-.4-.92-.59-1.43-.59-.52 0-1.04.2-1.43.59L10.3 9.45l-7.72 7.72c-.78.78-.78 2.05 0 2.83L4 21.41c.39.39.9.59 1.41.59.51 0 1.02-.2 1.41-.59l7.78-7.78 2.81-2.81c.8-.78.8-2.07 0-2.86zM5.41 20L4 18.59l7.72-7.72 1.47 1.35L5.41 20z\"/>\n",
              "  </svg>\n",
              "      </button>\n",
              "      \n",
              "  <style>\n",
              "    .colab-df-container {\n",
              "      display:flex;\n",
              "      flex-wrap:wrap;\n",
              "      gap: 12px;\n",
              "    }\n",
              "\n",
              "    .colab-df-convert {\n",
              "      background-color: #E8F0FE;\n",
              "      border: none;\n",
              "      border-radius: 50%;\n",
              "      cursor: pointer;\n",
              "      display: none;\n",
              "      fill: #1967D2;\n",
              "      height: 32px;\n",
              "      padding: 0 0 0 0;\n",
              "      width: 32px;\n",
              "    }\n",
              "\n",
              "    .colab-df-convert:hover {\n",
              "      background-color: #E2EBFA;\n",
              "      box-shadow: 0px 1px 2px rgba(60, 64, 67, 0.3), 0px 1px 3px 1px rgba(60, 64, 67, 0.15);\n",
              "      fill: #174EA6;\n",
              "    }\n",
              "\n",
              "    [theme=dark] .colab-df-convert {\n",
              "      background-color: #3B4455;\n",
              "      fill: #D2E3FC;\n",
              "    }\n",
              "\n",
              "    [theme=dark] .colab-df-convert:hover {\n",
              "      background-color: #434B5C;\n",
              "      box-shadow: 0px 1px 3px 1px rgba(0, 0, 0, 0.15);\n",
              "      filter: drop-shadow(0px 1px 2px rgba(0, 0, 0, 0.3));\n",
              "      fill: #FFFFFF;\n",
              "    }\n",
              "  </style>\n",
              "\n",
              "      <script>\n",
              "        const buttonEl =\n",
              "          document.querySelector('#df-7cb7bac2-9390-4d15-a285-bde3c78d4502 button.colab-df-convert');\n",
              "        buttonEl.style.display =\n",
              "          google.colab.kernel.accessAllowed ? 'block' : 'none';\n",
              "\n",
              "        async function convertToInteractive(key) {\n",
              "          const element = document.querySelector('#df-7cb7bac2-9390-4d15-a285-bde3c78d4502');\n",
              "          const dataTable =\n",
              "            await google.colab.kernel.invokeFunction('convertToInteractive',\n",
              "                                                     [key], {});\n",
              "          if (!dataTable) return;\n",
              "\n",
              "          const docLinkHtml = 'Like what you see? Visit the ' +\n",
              "            '<a target=\"_blank\" href=https://colab.research.google.com/notebooks/data_table.ipynb>data table notebook</a>'\n",
              "            + ' to learn more about interactive tables.';\n",
              "          element.innerHTML = '';\n",
              "          dataTable['output_type'] = 'display_data';\n",
              "          await google.colab.output.renderOutput(dataTable, element);\n",
              "          const docLink = document.createElement('div');\n",
              "          docLink.innerHTML = docLinkHtml;\n",
              "          element.appendChild(docLink);\n",
              "        }\n",
              "      </script>\n",
              "    </div>\n",
              "  </div>\n",
              "  "
            ]
          },
          "metadata": {},
          "execution_count": 66
        }
      ]
    },
    {
      "cell_type": "code",
      "source": [
        "model_run(SVC(C=0.5, gamma=0.445, kernel='rbf'), X_train_ge, X_test_ge, y_train_ge, y_test_ge, test_ge, unprivileged_german, privileged_german)"
      ],
      "metadata": {
        "colab": {
          "base_uri": "https://localhost:8080/"
        },
        "id": "uUPFVque44s-",
        "outputId": "875e06ff-155f-4435-94e0-7103b332ce20"
      },
      "execution_count": 26,
      "outputs": [
        {
          "output_type": "stream",
          "name": "stdout",
          "text": [
            "Accuracy on test:  71.67 %\n",
            "Equal opportunity difference:  -0.067\n",
            "Disparate Impact:  0.838\n",
            "[[203   8]\n",
            " [ 77  12]]\n"
          ]
        }
      ]
    },
    {
      "cell_type": "code",
      "source": [
        "model_run(SVC(C=0.1, gamma=0.001, kernel='rbf'), X_train_ge, X_test_ge, y_train_ge, y_test_ge, test_ge, unprivileged_german, privileged_german)"
      ],
      "metadata": {
        "colab": {
          "base_uri": "https://localhost:8080/"
        },
        "id": "NG_n7MSP7NkK",
        "outputId": "7b29be95-e79f-45b4-d168-0dc83c1345b3"
      },
      "execution_count": 27,
      "outputs": [
        {
          "output_type": "stream",
          "name": "stdout",
          "text": [
            "Accuracy on test:  70.33 %\n",
            "Equal opportunity difference:  0.0\n",
            "Disparate Impact:  1.0\n",
            "[[211   0]\n",
            " [ 89   0]]\n"
          ]
        }
      ]
    },
    {
      "cell_type": "markdown",
      "source": [
        "."
      ],
      "metadata": {
        "id": "PSx8YAQw_U2m"
      }
    },
    {
      "cell_type": "markdown",
      "source": [
        "."
      ],
      "metadata": {
        "id": "TOwnc8Mq_V1x"
      }
    },
    {
      "cell_type": "markdown",
      "source": [
        "."
      ],
      "metadata": {
        "id": "-QYKIU1U_WfS"
      }
    },
    {
      "cell_type": "markdown",
      "source": [
        "."
      ],
      "metadata": {
        "id": "1jeLTda__W9c"
      }
    },
    {
      "cell_type": "markdown",
      "source": [
        "## **Task 2: Reweighing**"
      ],
      "metadata": {
        "id": "B2x8LKMm_YC6"
      }
    },
    {
      "cell_type": "markdown",
      "source": [
        "In the next part, we use a method called reweighing to reduce the sample variance and improve the model performance. In this method, there is a set of weights applied to each input feature in the training phase, depending upon its contribution to the final result. This method helps improve the fairness metrics of the model. Folllowing the training, we receive new parameter combinations (C and gamma) for most accurate and most fair SVM models respectively on the Adult dataset.."
      ],
      "metadata": {
        "id": "qDyRbSG0lGlU"
      }
    },
    {
      "cell_type": "code",
      "source": [
        "RW_adult = Reweighing(unprivileged_groups=unprivileged_adult, privileged_groups=privileged_adult)\n",
        "RW_german = Reweighing(unprivileged_groups=unprivileged_german, privileged_groups=privileged_german)\n",
        "\n",
        "train_ad = RW_adult.fit_transform(train_ad)\n",
        "train_ge = RW_german.fit_transform(train_ge)"
      ],
      "metadata": {
        "id": "SoJc-3nG_NvJ"
      },
      "execution_count": 28,
      "outputs": []
    },
    {
      "cell_type": "code",
      "source": [
        "c_variable = [0.1, 1, 10]\n",
        "gamma_var = [0.001, 0.01, 0.1, 1]\n",
        "\n",
        "rwa, rwb, rwc, rwd = weighted_hyperparameter_tuning(c_variable, gamma_var, X_train_ad, y_train_ad, train_ad.instance_weights)"
      ],
      "metadata": {
        "colab": {
          "base_uri": "https://localhost:8080/"
        },
        "id": "lMmv2iNTBITK",
        "outputId": "c7849e06-ef7c-4f6f-e850-169dca66e5d2"
      },
      "execution_count": 29,
      "outputs": [
        {
          "output_type": "stream",
          "name": "stdout",
          "text": [
            "Maximum accuracy value on training set:  78.99 %\n",
            "Hyperparameter values to achieve maximum accuracy:  ['C=10_gamma=0.01']\n",
            "Minimum error value:  0.4132\n",
            "Hyperparameter values to achieve maximum fairness (i.e. Equal opportunity for both classes):  ['C=1_gamma=0.001', 'C=10_gamma=0.001']\n"
          ]
        }
      ]
    },
    {
      "cell_type": "code",
      "source": [
        "df_adult_rw = pd.DataFrame(rwc.items(), columns=['Hyperparameters', 'Accuracy'])\n",
        "\n",
        "df_adult_rw[\"Equality difference\"] = df_adult_rw[\"Hyperparameters\"].map(rwd)\n",
        "df_adult_rw[\"Absolute difference\"]=abs(df_adult_rw[\"Equality difference\"])\n",
        "df_adult_rw.sort_values(by=[\"Absolute difference\"])\n"
      ],
      "metadata": {
        "colab": {
          "base_uri": "https://localhost:8080/",
          "height": 426
        },
        "id": "33_GUyF26d8s",
        "outputId": "9a2e7b0e-4cdd-40a4-a6bb-84fca6ceb4f5"
      },
      "execution_count": 30,
      "outputs": [
        {
          "output_type": "execute_result",
          "data": {
            "text/plain": [
              "      Hyperparameters  Accuracy  Equality difference  Absolute difference\n",
              "4     C=1_gamma=0.001  0.786276             0.413226             0.413226\n",
              "8    C=10_gamma=0.001  0.786276             0.413226             0.413226\n",
              "1    C=0.1_gamma=0.01  0.787359             0.423937             0.423937\n",
              "5      C=1_gamma=0.01  0.787446             0.424052             0.424052\n",
              "9     C=10_gamma=0.01  0.789903             0.449381             0.449381\n",
              "2     C=0.1_gamma=0.1  0.788938             0.482530             0.482530\n",
              "11       C=10_gamma=1  0.785604             0.495911             0.495911\n",
              "10     C=10_gamma=0.1  0.785838             0.497019             0.497019\n",
              "6       C=1_gamma=0.1  0.786306             0.499717             0.499717\n",
              "7         C=1_gamma=1  0.786335             0.499915             0.499915\n",
              "3       C=0.1_gamma=1  0.787476             0.523351             0.523351\n",
              "0   C=0.1_gamma=0.001  0.759426             1.000000             1.000000"
            ],
            "text/html": [
              "\n",
              "  <div id=\"df-3667f11b-d19b-43dd-b91f-60a01773b269\">\n",
              "    <div class=\"colab-df-container\">\n",
              "      <div>\n",
              "<style scoped>\n",
              "    .dataframe tbody tr th:only-of-type {\n",
              "        vertical-align: middle;\n",
              "    }\n",
              "\n",
              "    .dataframe tbody tr th {\n",
              "        vertical-align: top;\n",
              "    }\n",
              "\n",
              "    .dataframe thead th {\n",
              "        text-align: right;\n",
              "    }\n",
              "</style>\n",
              "<table border=\"1\" class=\"dataframe\">\n",
              "  <thead>\n",
              "    <tr style=\"text-align: right;\">\n",
              "      <th></th>\n",
              "      <th>Hyperparameters</th>\n",
              "      <th>Accuracy</th>\n",
              "      <th>Equality difference</th>\n",
              "      <th>Absolute difference</th>\n",
              "    </tr>\n",
              "  </thead>\n",
              "  <tbody>\n",
              "    <tr>\n",
              "      <th>4</th>\n",
              "      <td>C=1_gamma=0.001</td>\n",
              "      <td>0.786276</td>\n",
              "      <td>0.413226</td>\n",
              "      <td>0.413226</td>\n",
              "    </tr>\n",
              "    <tr>\n",
              "      <th>8</th>\n",
              "      <td>C=10_gamma=0.001</td>\n",
              "      <td>0.786276</td>\n",
              "      <td>0.413226</td>\n",
              "      <td>0.413226</td>\n",
              "    </tr>\n",
              "    <tr>\n",
              "      <th>1</th>\n",
              "      <td>C=0.1_gamma=0.01</td>\n",
              "      <td>0.787359</td>\n",
              "      <td>0.423937</td>\n",
              "      <td>0.423937</td>\n",
              "    </tr>\n",
              "    <tr>\n",
              "      <th>5</th>\n",
              "      <td>C=1_gamma=0.01</td>\n",
              "      <td>0.787446</td>\n",
              "      <td>0.424052</td>\n",
              "      <td>0.424052</td>\n",
              "    </tr>\n",
              "    <tr>\n",
              "      <th>9</th>\n",
              "      <td>C=10_gamma=0.01</td>\n",
              "      <td>0.789903</td>\n",
              "      <td>0.449381</td>\n",
              "      <td>0.449381</td>\n",
              "    </tr>\n",
              "    <tr>\n",
              "      <th>2</th>\n",
              "      <td>C=0.1_gamma=0.1</td>\n",
              "      <td>0.788938</td>\n",
              "      <td>0.482530</td>\n",
              "      <td>0.482530</td>\n",
              "    </tr>\n",
              "    <tr>\n",
              "      <th>11</th>\n",
              "      <td>C=10_gamma=1</td>\n",
              "      <td>0.785604</td>\n",
              "      <td>0.495911</td>\n",
              "      <td>0.495911</td>\n",
              "    </tr>\n",
              "    <tr>\n",
              "      <th>10</th>\n",
              "      <td>C=10_gamma=0.1</td>\n",
              "      <td>0.785838</td>\n",
              "      <td>0.497019</td>\n",
              "      <td>0.497019</td>\n",
              "    </tr>\n",
              "    <tr>\n",
              "      <th>6</th>\n",
              "      <td>C=1_gamma=0.1</td>\n",
              "      <td>0.786306</td>\n",
              "      <td>0.499717</td>\n",
              "      <td>0.499717</td>\n",
              "    </tr>\n",
              "    <tr>\n",
              "      <th>7</th>\n",
              "      <td>C=1_gamma=1</td>\n",
              "      <td>0.786335</td>\n",
              "      <td>0.499915</td>\n",
              "      <td>0.499915</td>\n",
              "    </tr>\n",
              "    <tr>\n",
              "      <th>3</th>\n",
              "      <td>C=0.1_gamma=1</td>\n",
              "      <td>0.787476</td>\n",
              "      <td>0.523351</td>\n",
              "      <td>0.523351</td>\n",
              "    </tr>\n",
              "    <tr>\n",
              "      <th>0</th>\n",
              "      <td>C=0.1_gamma=0.001</td>\n",
              "      <td>0.759426</td>\n",
              "      <td>1.000000</td>\n",
              "      <td>1.000000</td>\n",
              "    </tr>\n",
              "  </tbody>\n",
              "</table>\n",
              "</div>\n",
              "      <button class=\"colab-df-convert\" onclick=\"convertToInteractive('df-3667f11b-d19b-43dd-b91f-60a01773b269')\"\n",
              "              title=\"Convert this dataframe to an interactive table.\"\n",
              "              style=\"display:none;\">\n",
              "        \n",
              "  <svg xmlns=\"http://www.w3.org/2000/svg\" height=\"24px\"viewBox=\"0 0 24 24\"\n",
              "       width=\"24px\">\n",
              "    <path d=\"M0 0h24v24H0V0z\" fill=\"none\"/>\n",
              "    <path d=\"M18.56 5.44l.94 2.06.94-2.06 2.06-.94-2.06-.94-.94-2.06-.94 2.06-2.06.94zm-11 1L8.5 8.5l.94-2.06 2.06-.94-2.06-.94L8.5 2.5l-.94 2.06-2.06.94zm10 10l.94 2.06.94-2.06 2.06-.94-2.06-.94-.94-2.06-.94 2.06-2.06.94z\"/><path d=\"M17.41 7.96l-1.37-1.37c-.4-.4-.92-.59-1.43-.59-.52 0-1.04.2-1.43.59L10.3 9.45l-7.72 7.72c-.78.78-.78 2.05 0 2.83L4 21.41c.39.39.9.59 1.41.59.51 0 1.02-.2 1.41-.59l7.78-7.78 2.81-2.81c.8-.78.8-2.07 0-2.86zM5.41 20L4 18.59l7.72-7.72 1.47 1.35L5.41 20z\"/>\n",
              "  </svg>\n",
              "      </button>\n",
              "      \n",
              "  <style>\n",
              "    .colab-df-container {\n",
              "      display:flex;\n",
              "      flex-wrap:wrap;\n",
              "      gap: 12px;\n",
              "    }\n",
              "\n",
              "    .colab-df-convert {\n",
              "      background-color: #E8F0FE;\n",
              "      border: none;\n",
              "      border-radius: 50%;\n",
              "      cursor: pointer;\n",
              "      display: none;\n",
              "      fill: #1967D2;\n",
              "      height: 32px;\n",
              "      padding: 0 0 0 0;\n",
              "      width: 32px;\n",
              "    }\n",
              "\n",
              "    .colab-df-convert:hover {\n",
              "      background-color: #E2EBFA;\n",
              "      box-shadow: 0px 1px 2px rgba(60, 64, 67, 0.3), 0px 1px 3px 1px rgba(60, 64, 67, 0.15);\n",
              "      fill: #174EA6;\n",
              "    }\n",
              "\n",
              "    [theme=dark] .colab-df-convert {\n",
              "      background-color: #3B4455;\n",
              "      fill: #D2E3FC;\n",
              "    }\n",
              "\n",
              "    [theme=dark] .colab-df-convert:hover {\n",
              "      background-color: #434B5C;\n",
              "      box-shadow: 0px 1px 3px 1px rgba(0, 0, 0, 0.15);\n",
              "      filter: drop-shadow(0px 1px 2px rgba(0, 0, 0, 0.3));\n",
              "      fill: #FFFFFF;\n",
              "    }\n",
              "  </style>\n",
              "\n",
              "      <script>\n",
              "        const buttonEl =\n",
              "          document.querySelector('#df-3667f11b-d19b-43dd-b91f-60a01773b269 button.colab-df-convert');\n",
              "        buttonEl.style.display =\n",
              "          google.colab.kernel.accessAllowed ? 'block' : 'none';\n",
              "\n",
              "        async function convertToInteractive(key) {\n",
              "          const element = document.querySelector('#df-3667f11b-d19b-43dd-b91f-60a01773b269');\n",
              "          const dataTable =\n",
              "            await google.colab.kernel.invokeFunction('convertToInteractive',\n",
              "                                                     [key], {});\n",
              "          if (!dataTable) return;\n",
              "\n",
              "          const docLinkHtml = 'Like what you see? Visit the ' +\n",
              "            '<a target=\"_blank\" href=https://colab.research.google.com/notebooks/data_table.ipynb>data table notebook</a>'\n",
              "            + ' to learn more about interactive tables.';\n",
              "          element.innerHTML = '';\n",
              "          dataTable['output_type'] = 'display_data';\n",
              "          await google.colab.output.renderOutput(dataTable, element);\n",
              "          const docLink = document.createElement('div');\n",
              "          docLink.innerHTML = docLinkHtml;\n",
              "          element.appendChild(docLink);\n",
              "        }\n",
              "      </script>\n",
              "    </div>\n",
              "  </div>\n",
              "  "
            ]
          },
          "metadata": {},
          "execution_count": 30
        }
      ]
    },
    {
      "cell_type": "code",
      "source": [
        "weighted_model_run(SVC(C=10, gamma=0.01, kernel='rbf'), X_train_ad, X_test_ad, y_train_ad, y_test_ad, test_ad, unprivileged_adult, privileged_adult, train_ad.instance_weights)"
      ],
      "metadata": {
        "colab": {
          "base_uri": "https://localhost:8080/"
        },
        "id": "i0X2lhHFCMUk",
        "outputId": "198b8649-b82c-4b3f-f83e-db0e0bb9205c"
      },
      "execution_count": 31,
      "outputs": [
        {
          "output_type": "stream",
          "name": "stdout",
          "text": [
            "Accuracy on test:  79.04 %\n",
            "Equal opportunity difference:  0.034\n",
            "Disparate Impact:  0.704\n",
            "[[10079  1112]\n",
            " [ 1959  1503]]\n"
          ]
        }
      ]
    },
    {
      "cell_type": "code",
      "source": [
        "weighted_model_run(SVC(C=1, gamma=0.001, kernel='rbf'), X_train_ad, X_test_ad, y_train_ad, y_test_ad, test_ad, unprivileged_adult, privileged_adult, train_ad.instance_weights)"
      ],
      "metadata": {
        "colab": {
          "base_uri": "https://localhost:8080/"
        },
        "id": "mriyh890RYU7",
        "outputId": "ce8daf25-48e8-4335-e242-aa90136c5d2b"
      },
      "execution_count": 32,
      "outputs": [
        {
          "output_type": "stream",
          "name": "stdout",
          "text": [
            "Accuracy on test:  78.74 %\n",
            "Equal opportunity difference:  0.033\n",
            "Disparate Impact:  0.712\n",
            "[[9941 1250]\n",
            " [1865 1597]]\n"
          ]
        }
      ]
    },
    {
      "cell_type": "markdown",
      "source": [
        "So we can see that the equal opportunity difference did decrease for the most accurate model and overall as well. Weighing the samples during training did decrease the variance. The accuracy value went down a bit but is comparable to before."
      ],
      "metadata": {
        "id": "HgJ0NypSFDC3"
      }
    },
    {
      "cell_type": "markdown",
      "source": [
        "## Now on German dataset"
      ],
      "metadata": {
        "id": "pRyFa-nxJv7O"
      }
    },
    {
      "cell_type": "code",
      "source": [
        "c_variable = list(np.linspace(0.1, 1, 20))\n",
        "gamma_value = list(np.linspace(0.001, 1, 20))\n",
        "\n",
        "rwe, rwf, rwg, rwh = weighted_hyperparameter_tuning(c_variable, gamma_value, X_train_ge, y_train_ge, train_ge.instance_weights)\n"
      ],
      "metadata": {
        "colab": {
          "base_uri": "https://localhost:8080/"
        },
        "id": "iRlXzEhKSj4T",
        "outputId": "f796cd1a-d5cb-493b-a3e9-d8f67bbcc62d"
      },
      "execution_count": 33,
      "outputs": [
        {
          "output_type": "stream",
          "name": "stdout",
          "text": [
            "Maximum accuracy value on training set:  71.14 %\n",
            "Hyperparameter values to achieve maximum accuracy:  ['C=0.2894736842105263_gamma=0.5267894736842105', 'C=0.2894736842105263_gamma=0.5793684210526315', 'C=0.2894736842105263_gamma=0.6319473684210526', 'C=0.2894736842105263_gamma=0.6845263157894736', 'C=0.2894736842105263_gamma=0.7371052631578947', 'C=0.2894736842105263_gamma=0.7896842105263158', 'C=0.2894736842105263_gamma=0.8422631578947368', 'C=0.2894736842105263_gamma=0.8948421052631579', 'C=0.2894736842105263_gamma=0.9474210526315789', 'C=0.2894736842105263_gamma=1.0', 'C=0.33684210526315794_gamma=0.3164736842105263']\n",
            "Minimum error value:  0.0\n",
            "Hyperparameter values to achieve maximum fairness (i.e. Equal opportunity for both classes):  ['C=0.1_gamma=0.001', 'C=0.1_gamma=0.05357894736842105', 'C=0.1_gamma=0.1061578947368421', 'C=0.1_gamma=0.15873684210526315', 'C=0.1_gamma=0.2113157894736842', 'C=0.1_gamma=0.26389473684210524', 'C=0.1_gamma=0.3164736842105263', 'C=0.1_gamma=0.36905263157894735', 'C=0.1_gamma=0.4216315789473684', 'C=0.1_gamma=0.47421052631578947', 'C=0.1_gamma=0.5267894736842105', 'C=0.1_gamma=0.5793684210526315', 'C=0.1_gamma=0.6319473684210526', 'C=0.1_gamma=0.6845263157894736', 'C=0.1_gamma=0.7371052631578947', 'C=0.1_gamma=0.7896842105263158', 'C=0.1_gamma=0.8422631578947368', 'C=0.1_gamma=0.8948421052631579', 'C=0.1_gamma=0.9474210526315789', 'C=0.1_gamma=1.0', 'C=0.1473684210526316_gamma=0.001', 'C=0.1473684210526316_gamma=0.05357894736842105', 'C=0.1473684210526316_gamma=0.1061578947368421', 'C=0.1473684210526316_gamma=0.15873684210526315', 'C=0.1473684210526316_gamma=0.2113157894736842', 'C=0.1473684210526316_gamma=0.26389473684210524', 'C=0.1473684210526316_gamma=0.3164736842105263', 'C=0.1473684210526316_gamma=0.36905263157894735', 'C=0.1473684210526316_gamma=0.4216315789473684', 'C=0.1473684210526316_gamma=0.47421052631578947', 'C=0.1473684210526316_gamma=0.5267894736842105', 'C=0.1473684210526316_gamma=0.5793684210526315', 'C=0.1473684210526316_gamma=0.6319473684210526', 'C=0.1473684210526316_gamma=0.6845263157894736', 'C=0.1473684210526316_gamma=0.7371052631578947', 'C=0.1473684210526316_gamma=0.7896842105263158', 'C=0.1473684210526316_gamma=0.8422631578947368', 'C=0.1473684210526316_gamma=0.8948421052631579', 'C=0.1473684210526316_gamma=0.9474210526315789', 'C=0.1473684210526316_gamma=1.0', 'C=0.19473684210526315_gamma=0.001', 'C=0.19473684210526315_gamma=0.05357894736842105', 'C=0.19473684210526315_gamma=0.1061578947368421', 'C=0.19473684210526315_gamma=0.15873684210526315', 'C=0.19473684210526315_gamma=0.2113157894736842', 'C=0.19473684210526315_gamma=0.26389473684210524', 'C=0.19473684210526315_gamma=0.3164736842105263', 'C=0.19473684210526315_gamma=0.36905263157894735', 'C=0.19473684210526315_gamma=0.4216315789473684', 'C=0.19473684210526315_gamma=0.47421052631578947', 'C=0.19473684210526315_gamma=0.5267894736842105', 'C=0.19473684210526315_gamma=0.5793684210526315', 'C=0.19473684210526315_gamma=0.6319473684210526', 'C=0.19473684210526315_gamma=0.6845263157894736', 'C=0.19473684210526315_gamma=0.7371052631578947', 'C=0.19473684210526315_gamma=0.7896842105263158', 'C=0.19473684210526315_gamma=0.8422631578947368', 'C=0.19473684210526315_gamma=0.8948421052631579', 'C=0.19473684210526315_gamma=0.9474210526315789', 'C=0.19473684210526315_gamma=1.0', 'C=0.24210526315789474_gamma=0.001', 'C=0.24210526315789474_gamma=0.05357894736842105', 'C=0.24210526315789474_gamma=0.1061578947368421', 'C=0.24210526315789474_gamma=0.15873684210526315', 'C=0.24210526315789474_gamma=0.2113157894736842', 'C=0.24210526315789474_gamma=0.26389473684210524', 'C=0.24210526315789474_gamma=0.3164736842105263', 'C=0.24210526315789474_gamma=0.36905263157894735', 'C=0.24210526315789474_gamma=0.4216315789473684', 'C=0.24210526315789474_gamma=0.47421052631578947', 'C=0.24210526315789474_gamma=0.5267894736842105', 'C=0.24210526315789474_gamma=0.5793684210526315', 'C=0.24210526315789474_gamma=0.6319473684210526', 'C=0.24210526315789474_gamma=0.6845263157894736', 'C=0.24210526315789474_gamma=0.7371052631578947', 'C=0.24210526315789474_gamma=0.7896842105263158', 'C=0.24210526315789474_gamma=0.8422631578947368', 'C=0.24210526315789474_gamma=0.8948421052631579', 'C=0.24210526315789474_gamma=0.9474210526315789', 'C=0.24210526315789474_gamma=1.0', 'C=0.2894736842105263_gamma=0.001', 'C=0.2894736842105263_gamma=0.05357894736842105', 'C=0.2894736842105263_gamma=0.1061578947368421', 'C=0.2894736842105263_gamma=0.15873684210526315', 'C=0.2894736842105263_gamma=0.2113157894736842', 'C=0.2894736842105263_gamma=0.26389473684210524', 'C=0.2894736842105263_gamma=0.3164736842105263', 'C=0.2894736842105263_gamma=0.36905263157894735', 'C=0.2894736842105263_gamma=0.4216315789473684', 'C=0.2894736842105263_gamma=0.47421052631578947', 'C=0.2894736842105263_gamma=0.5267894736842105', 'C=0.2894736842105263_gamma=0.5793684210526315', 'C=0.2894736842105263_gamma=0.6319473684210526', 'C=0.2894736842105263_gamma=0.6845263157894736', 'C=0.2894736842105263_gamma=0.7371052631578947', 'C=0.2894736842105263_gamma=0.7896842105263158', 'C=0.2894736842105263_gamma=0.8422631578947368', 'C=0.2894736842105263_gamma=0.8948421052631579', 'C=0.2894736842105263_gamma=0.9474210526315789', 'C=0.2894736842105263_gamma=1.0', 'C=0.33684210526315794_gamma=0.001', 'C=0.33684210526315794_gamma=0.05357894736842105', 'C=0.33684210526315794_gamma=0.1061578947368421', 'C=0.33684210526315794_gamma=0.15873684210526315', 'C=0.33684210526315794_gamma=0.2113157894736842', 'C=0.33684210526315794_gamma=0.26389473684210524', 'C=0.33684210526315794_gamma=0.3164736842105263', 'C=0.33684210526315794_gamma=0.36905263157894735', 'C=0.33684210526315794_gamma=0.4216315789473684', 'C=0.33684210526315794_gamma=0.47421052631578947', 'C=0.33684210526315794_gamma=0.5267894736842105', 'C=0.33684210526315794_gamma=0.5793684210526315', 'C=0.33684210526315794_gamma=0.6319473684210526', 'C=0.33684210526315794_gamma=0.6845263157894736', 'C=0.33684210526315794_gamma=0.7371052631578947', 'C=0.33684210526315794_gamma=0.7896842105263158', 'C=0.33684210526315794_gamma=0.8422631578947368', 'C=0.33684210526315794_gamma=0.8948421052631579', 'C=0.33684210526315794_gamma=0.9474210526315789', 'C=0.33684210526315794_gamma=1.0', 'C=0.38421052631578945_gamma=0.001', 'C=0.38421052631578945_gamma=0.05357894736842105', 'C=0.38421052631578945_gamma=0.1061578947368421', 'C=0.38421052631578945_gamma=0.15873684210526315', 'C=0.38421052631578945_gamma=0.2113157894736842', 'C=0.38421052631578945_gamma=0.26389473684210524', 'C=0.38421052631578945_gamma=0.3164736842105263', 'C=0.38421052631578945_gamma=0.36905263157894735', 'C=0.38421052631578945_gamma=0.4216315789473684', 'C=0.38421052631578945_gamma=0.47421052631578947', 'C=0.38421052631578945_gamma=0.5267894736842105', 'C=0.38421052631578945_gamma=0.5793684210526315', 'C=0.38421052631578945_gamma=0.6319473684210526', 'C=0.38421052631578945_gamma=0.6845263157894736', 'C=0.38421052631578945_gamma=0.7371052631578947', 'C=0.38421052631578945_gamma=0.7896842105263158', 'C=0.38421052631578945_gamma=0.8422631578947368', 'C=0.38421052631578945_gamma=0.8948421052631579', 'C=0.38421052631578945_gamma=0.9474210526315789', 'C=0.38421052631578945_gamma=1.0', 'C=0.43157894736842106_gamma=0.001', 'C=0.43157894736842106_gamma=0.05357894736842105', 'C=0.43157894736842106_gamma=0.1061578947368421', 'C=0.43157894736842106_gamma=0.15873684210526315', 'C=0.43157894736842106_gamma=0.2113157894736842', 'C=0.43157894736842106_gamma=0.26389473684210524', 'C=0.43157894736842106_gamma=0.3164736842105263', 'C=0.43157894736842106_gamma=0.36905263157894735', 'C=0.43157894736842106_gamma=0.4216315789473684', 'C=0.43157894736842106_gamma=0.47421052631578947', 'C=0.43157894736842106_gamma=0.5267894736842105', 'C=0.43157894736842106_gamma=0.5793684210526315', 'C=0.43157894736842106_gamma=0.6319473684210526', 'C=0.43157894736842106_gamma=0.6845263157894736', 'C=0.43157894736842106_gamma=0.7371052631578947', 'C=0.43157894736842106_gamma=0.7896842105263158', 'C=0.43157894736842106_gamma=0.8422631578947368', 'C=0.43157894736842106_gamma=0.8948421052631579', 'C=0.43157894736842106_gamma=0.9474210526315789', 'C=0.43157894736842106_gamma=1.0', 'C=0.4789473684210527_gamma=0.001', 'C=0.4789473684210527_gamma=0.05357894736842105', 'C=0.4789473684210527_gamma=0.1061578947368421', 'C=0.4789473684210527_gamma=0.15873684210526315', 'C=0.4789473684210527_gamma=0.2113157894736842', 'C=0.4789473684210527_gamma=0.26389473684210524', 'C=0.4789473684210527_gamma=0.3164736842105263', 'C=0.4789473684210527_gamma=0.36905263157894735', 'C=0.4789473684210527_gamma=0.4216315789473684', 'C=0.4789473684210527_gamma=0.47421052631578947', 'C=0.4789473684210527_gamma=0.5267894736842105', 'C=0.4789473684210527_gamma=0.5793684210526315', 'C=0.4789473684210527_gamma=0.6319473684210526', 'C=0.4789473684210527_gamma=0.6845263157894736', 'C=0.4789473684210527_gamma=0.7371052631578947', 'C=0.4789473684210527_gamma=0.7896842105263158', 'C=0.4789473684210527_gamma=0.8422631578947368', 'C=0.4789473684210527_gamma=0.8948421052631579', 'C=0.4789473684210527_gamma=0.9474210526315789', 'C=0.4789473684210527_gamma=1.0', 'C=0.5263157894736842_gamma=0.001', 'C=0.5263157894736842_gamma=0.05357894736842105', 'C=0.5263157894736842_gamma=0.1061578947368421', 'C=0.5263157894736842_gamma=0.15873684210526315', 'C=0.5263157894736842_gamma=0.2113157894736842', 'C=0.5263157894736842_gamma=0.26389473684210524', 'C=0.5263157894736842_gamma=0.3164736842105263', 'C=0.5263157894736842_gamma=0.36905263157894735', 'C=0.5263157894736842_gamma=0.4216315789473684', 'C=0.5263157894736842_gamma=0.47421052631578947', 'C=0.5263157894736842_gamma=0.5267894736842105', 'C=0.5263157894736842_gamma=0.5793684210526315', 'C=0.5263157894736842_gamma=0.6319473684210526', 'C=0.5263157894736842_gamma=0.6845263157894736', 'C=0.5263157894736842_gamma=0.7371052631578947', 'C=0.5263157894736842_gamma=0.7896842105263158', 'C=0.5263157894736842_gamma=0.8422631578947368', 'C=0.5263157894736842_gamma=0.8948421052631579', 'C=0.5263157894736842_gamma=0.9474210526315789', 'C=0.5263157894736842_gamma=1.0', 'C=0.5736842105263158_gamma=0.001', 'C=0.5736842105263158_gamma=0.05357894736842105', 'C=0.5736842105263158_gamma=0.1061578947368421', 'C=0.5736842105263158_gamma=0.15873684210526315', 'C=0.5736842105263158_gamma=0.2113157894736842', 'C=0.5736842105263158_gamma=0.26389473684210524', 'C=0.5736842105263158_gamma=0.3164736842105263', 'C=0.5736842105263158_gamma=0.36905263157894735', 'C=0.5736842105263158_gamma=0.4216315789473684', 'C=0.5736842105263158_gamma=0.47421052631578947', 'C=0.5736842105263158_gamma=0.5267894736842105', 'C=0.5736842105263158_gamma=0.5793684210526315', 'C=0.5736842105263158_gamma=0.6319473684210526', 'C=0.5736842105263158_gamma=0.6845263157894736', 'C=0.5736842105263158_gamma=0.7371052631578947', 'C=0.5736842105263158_gamma=0.7896842105263158', 'C=0.5736842105263158_gamma=0.8422631578947368', 'C=0.5736842105263158_gamma=0.8948421052631579', 'C=0.5736842105263158_gamma=0.9474210526315789', 'C=0.5736842105263158_gamma=1.0', 'C=0.6210526315789474_gamma=0.001', 'C=0.6210526315789474_gamma=0.05357894736842105', 'C=0.6210526315789474_gamma=0.1061578947368421', 'C=0.6210526315789474_gamma=0.15873684210526315', 'C=0.6210526315789474_gamma=0.2113157894736842', 'C=0.6210526315789474_gamma=0.26389473684210524', 'C=0.6210526315789474_gamma=0.3164736842105263', 'C=0.6210526315789474_gamma=0.36905263157894735', 'C=0.6210526315789474_gamma=0.4216315789473684', 'C=0.6210526315789474_gamma=0.47421052631578947', 'C=0.6210526315789474_gamma=0.5267894736842105', 'C=0.6210526315789474_gamma=0.5793684210526315', 'C=0.6210526315789474_gamma=0.6319473684210526', 'C=0.6210526315789474_gamma=0.6845263157894736', 'C=0.6210526315789474_gamma=0.7371052631578947', 'C=0.6210526315789474_gamma=0.7896842105263158', 'C=0.6210526315789474_gamma=0.8422631578947368', 'C=0.6210526315789474_gamma=0.8948421052631579', 'C=0.6210526315789474_gamma=0.9474210526315789', 'C=0.6210526315789474_gamma=1.0', 'C=0.6684210526315789_gamma=0.001', 'C=0.6684210526315789_gamma=0.05357894736842105', 'C=0.6684210526315789_gamma=0.1061578947368421', 'C=0.6684210526315789_gamma=0.15873684210526315', 'C=0.6684210526315789_gamma=0.2113157894736842', 'C=0.6684210526315789_gamma=0.26389473684210524', 'C=0.6684210526315789_gamma=0.3164736842105263', 'C=0.6684210526315789_gamma=0.36905263157894735', 'C=0.6684210526315789_gamma=0.4216315789473684', 'C=0.6684210526315789_gamma=0.47421052631578947', 'C=0.6684210526315789_gamma=0.5267894736842105', 'C=0.6684210526315789_gamma=0.5793684210526315', 'C=0.6684210526315789_gamma=0.6319473684210526', 'C=0.6684210526315789_gamma=0.6845263157894736', 'C=0.6684210526315789_gamma=0.7371052631578947', 'C=0.6684210526315789_gamma=0.7896842105263158', 'C=0.6684210526315789_gamma=0.8422631578947368', 'C=0.6684210526315789_gamma=0.8948421052631579', 'C=0.6684210526315789_gamma=0.9474210526315789', 'C=0.6684210526315789_gamma=1.0', 'C=0.7157894736842105_gamma=0.001', 'C=0.7157894736842105_gamma=0.05357894736842105', 'C=0.7157894736842105_gamma=0.1061578947368421', 'C=0.7157894736842105_gamma=0.15873684210526315', 'C=0.7157894736842105_gamma=0.2113157894736842', 'C=0.7157894736842105_gamma=0.26389473684210524', 'C=0.7157894736842105_gamma=0.3164736842105263', 'C=0.7157894736842105_gamma=0.36905263157894735', 'C=0.7157894736842105_gamma=0.4216315789473684', 'C=0.7157894736842105_gamma=0.47421052631578947', 'C=0.7157894736842105_gamma=0.5267894736842105', 'C=0.7157894736842105_gamma=0.5793684210526315', 'C=0.7157894736842105_gamma=0.6319473684210526', 'C=0.7157894736842105_gamma=0.6845263157894736', 'C=0.7157894736842105_gamma=0.7371052631578947', 'C=0.7157894736842105_gamma=0.7896842105263158', 'C=0.7157894736842105_gamma=0.8422631578947368', 'C=0.7157894736842105_gamma=0.8948421052631579', 'C=0.7157894736842105_gamma=0.9474210526315789', 'C=0.7157894736842105_gamma=1.0', 'C=0.7631578947368421_gamma=0.001', 'C=0.7631578947368421_gamma=0.05357894736842105', 'C=0.7631578947368421_gamma=0.1061578947368421', 'C=0.7631578947368421_gamma=0.15873684210526315', 'C=0.7631578947368421_gamma=0.2113157894736842', 'C=0.7631578947368421_gamma=0.26389473684210524', 'C=0.7631578947368421_gamma=0.3164736842105263', 'C=0.7631578947368421_gamma=0.36905263157894735', 'C=0.7631578947368421_gamma=0.4216315789473684', 'C=0.7631578947368421_gamma=0.47421052631578947', 'C=0.7631578947368421_gamma=0.5267894736842105', 'C=0.7631578947368421_gamma=0.5793684210526315', 'C=0.7631578947368421_gamma=0.6319473684210526', 'C=0.7631578947368421_gamma=0.6845263157894736', 'C=0.7631578947368421_gamma=0.7371052631578947', 'C=0.7631578947368421_gamma=0.7896842105263158', 'C=0.7631578947368421_gamma=0.8422631578947368', 'C=0.7631578947368421_gamma=0.8948421052631579', 'C=0.7631578947368421_gamma=0.9474210526315789', 'C=0.7631578947368421_gamma=1.0', 'C=0.8105263157894737_gamma=0.001', 'C=0.8105263157894737_gamma=0.05357894736842105', 'C=0.8105263157894737_gamma=0.1061578947368421', 'C=0.8105263157894737_gamma=0.15873684210526315', 'C=0.8105263157894737_gamma=0.2113157894736842', 'C=0.8105263157894737_gamma=0.26389473684210524', 'C=0.8105263157894737_gamma=0.3164736842105263', 'C=0.8105263157894737_gamma=0.36905263157894735', 'C=0.8105263157894737_gamma=0.4216315789473684', 'C=0.8105263157894737_gamma=0.47421052631578947', 'C=0.8105263157894737_gamma=0.5267894736842105', 'C=0.8105263157894737_gamma=0.5793684210526315', 'C=0.8105263157894737_gamma=0.6319473684210526', 'C=0.8105263157894737_gamma=0.6845263157894736', 'C=0.8105263157894737_gamma=0.7371052631578947', 'C=0.8105263157894737_gamma=0.7896842105263158', 'C=0.8105263157894737_gamma=0.8422631578947368', 'C=0.8105263157894737_gamma=0.8948421052631579', 'C=0.8105263157894737_gamma=0.9474210526315789', 'C=0.8105263157894737_gamma=1.0', 'C=0.8578947368421053_gamma=0.001', 'C=0.8578947368421053_gamma=0.05357894736842105', 'C=0.8578947368421053_gamma=0.1061578947368421', 'C=0.8578947368421053_gamma=0.15873684210526315', 'C=0.8578947368421053_gamma=0.2113157894736842', 'C=0.8578947368421053_gamma=0.26389473684210524', 'C=0.8578947368421053_gamma=0.3164736842105263', 'C=0.8578947368421053_gamma=0.36905263157894735', 'C=0.8578947368421053_gamma=0.4216315789473684', 'C=0.8578947368421053_gamma=0.47421052631578947', 'C=0.8578947368421053_gamma=0.5267894736842105', 'C=0.8578947368421053_gamma=0.5793684210526315', 'C=0.8578947368421053_gamma=0.6319473684210526', 'C=0.8578947368421053_gamma=0.6845263157894736', 'C=0.8578947368421053_gamma=0.7371052631578947', 'C=0.8578947368421053_gamma=0.7896842105263158', 'C=0.8578947368421053_gamma=0.8422631578947368', 'C=0.8578947368421053_gamma=0.8948421052631579', 'C=0.8578947368421053_gamma=0.9474210526315789', 'C=0.8578947368421053_gamma=1.0', 'C=0.9052631578947369_gamma=0.001', 'C=0.9052631578947369_gamma=0.05357894736842105', 'C=0.9052631578947369_gamma=0.1061578947368421', 'C=0.9052631578947369_gamma=0.15873684210526315', 'C=0.9052631578947369_gamma=0.2113157894736842', 'C=0.9052631578947369_gamma=0.26389473684210524', 'C=0.9052631578947369_gamma=0.3164736842105263', 'C=0.9052631578947369_gamma=0.36905263157894735', 'C=0.9052631578947369_gamma=0.4216315789473684', 'C=0.9052631578947369_gamma=0.47421052631578947', 'C=0.9052631578947369_gamma=0.5267894736842105', 'C=0.9052631578947369_gamma=0.5793684210526315', 'C=0.9052631578947369_gamma=0.6319473684210526', 'C=0.9052631578947369_gamma=0.6845263157894736', 'C=0.9052631578947369_gamma=0.7371052631578947', 'C=0.9052631578947369_gamma=0.7896842105263158', 'C=0.9052631578947369_gamma=0.8422631578947368', 'C=0.9052631578947369_gamma=0.8948421052631579', 'C=0.9052631578947369_gamma=0.9474210526315789', 'C=0.9052631578947369_gamma=1.0', 'C=0.9526315789473684_gamma=0.001', 'C=0.9526315789473684_gamma=0.05357894736842105', 'C=0.9526315789473684_gamma=0.1061578947368421', 'C=0.9526315789473684_gamma=0.15873684210526315', 'C=0.9526315789473684_gamma=0.2113157894736842', 'C=0.9526315789473684_gamma=0.26389473684210524', 'C=0.9526315789473684_gamma=0.3164736842105263', 'C=0.9526315789473684_gamma=0.36905263157894735', 'C=0.9526315789473684_gamma=0.4216315789473684', 'C=0.9526315789473684_gamma=0.47421052631578947', 'C=0.9526315789473684_gamma=0.5267894736842105', 'C=0.9526315789473684_gamma=0.5793684210526315', 'C=0.9526315789473684_gamma=0.6319473684210526', 'C=0.9526315789473684_gamma=0.6845263157894736', 'C=0.9526315789473684_gamma=0.7371052631578947', 'C=0.9526315789473684_gamma=0.7896842105263158', 'C=0.9526315789473684_gamma=0.8422631578947368', 'C=0.9526315789473684_gamma=0.8948421052631579', 'C=0.9526315789473684_gamma=0.9474210526315789', 'C=0.9526315789473684_gamma=1.0', 'C=1.0_gamma=0.001', 'C=1.0_gamma=0.05357894736842105', 'C=1.0_gamma=0.1061578947368421', 'C=1.0_gamma=0.15873684210526315', 'C=1.0_gamma=0.2113157894736842', 'C=1.0_gamma=0.26389473684210524', 'C=1.0_gamma=0.3164736842105263', 'C=1.0_gamma=0.36905263157894735', 'C=1.0_gamma=0.4216315789473684', 'C=1.0_gamma=0.47421052631578947', 'C=1.0_gamma=0.5267894736842105', 'C=1.0_gamma=0.5793684210526315', 'C=1.0_gamma=0.6319473684210526', 'C=1.0_gamma=0.6845263157894736', 'C=1.0_gamma=0.7371052631578947', 'C=1.0_gamma=0.7896842105263158', 'C=1.0_gamma=0.8422631578947368', 'C=1.0_gamma=0.8948421052631579', 'C=1.0_gamma=0.9474210526315789', 'C=1.0_gamma=1.0']\n"
          ]
        }
      ]
    },
    {
      "cell_type": "code",
      "source": [
        "df_german_rw = pd.DataFrame(rwg.items(), columns=['Hyperparameters', 'Accuracy'])\n",
        "\n",
        "df_german_rw[\"Equality difference\"] = df_german_rw[\"Hyperparameters\"].map(rwh)\n",
        "df_german_rw.sort_values(by=[\"Accuracy\"], ascending=False)"
      ],
      "metadata": {
        "colab": {
          "base_uri": "https://localhost:8080/",
          "height": 424
        },
        "id": "A2OkTH4Im4fU",
        "outputId": "c68e6ae8-77b1-41b1-f5e2-93db9faf061d"
      },
      "execution_count": 34,
      "outputs": [
        {
          "output_type": "execute_result",
          "data": {
            "text/plain": [
              "                                     Hyperparameters  Accuracy  \\\n",
              "91     C=0.2894736842105263_gamma=0.5793684210526315  0.711429   \n",
              "92     C=0.2894736842105263_gamma=0.6319473684210526  0.711429   \n",
              "93     C=0.2894736842105263_gamma=0.6845263157894736  0.711429   \n",
              "94     C=0.2894736842105263_gamma=0.7371052631578947  0.711429   \n",
              "95     C=0.2894736842105263_gamma=0.7896842105263158  0.711429   \n",
              "..                                               ...       ...   \n",
              "82     C=0.2894736842105263_gamma=0.1061578947368421  0.698571   \n",
              "81    C=0.2894736842105263_gamma=0.05357894736842105  0.698571   \n",
              "80                  C=0.2894736842105263_gamma=0.001  0.698571   \n",
              "63   C=0.24210526315789474_gamma=0.15873684210526315  0.698571   \n",
              "200                 C=0.5736842105263158_gamma=0.001  0.698571   \n",
              "\n",
              "     Equality difference  \n",
              "91                   0.0  \n",
              "92                   0.0  \n",
              "93                   0.0  \n",
              "94                   0.0  \n",
              "95                   0.0  \n",
              "..                   ...  \n",
              "82                   0.0  \n",
              "81                   0.0  \n",
              "80                   0.0  \n",
              "63                   0.0  \n",
              "200                  0.0  \n",
              "\n",
              "[400 rows x 3 columns]"
            ],
            "text/html": [
              "\n",
              "  <div id=\"df-fd580e97-8ef8-4eb5-862b-de52652f4b23\">\n",
              "    <div class=\"colab-df-container\">\n",
              "      <div>\n",
              "<style scoped>\n",
              "    .dataframe tbody tr th:only-of-type {\n",
              "        vertical-align: middle;\n",
              "    }\n",
              "\n",
              "    .dataframe tbody tr th {\n",
              "        vertical-align: top;\n",
              "    }\n",
              "\n",
              "    .dataframe thead th {\n",
              "        text-align: right;\n",
              "    }\n",
              "</style>\n",
              "<table border=\"1\" class=\"dataframe\">\n",
              "  <thead>\n",
              "    <tr style=\"text-align: right;\">\n",
              "      <th></th>\n",
              "      <th>Hyperparameters</th>\n",
              "      <th>Accuracy</th>\n",
              "      <th>Equality difference</th>\n",
              "    </tr>\n",
              "  </thead>\n",
              "  <tbody>\n",
              "    <tr>\n",
              "      <th>91</th>\n",
              "      <td>C=0.2894736842105263_gamma=0.5793684210526315</td>\n",
              "      <td>0.711429</td>\n",
              "      <td>0.0</td>\n",
              "    </tr>\n",
              "    <tr>\n",
              "      <th>92</th>\n",
              "      <td>C=0.2894736842105263_gamma=0.6319473684210526</td>\n",
              "      <td>0.711429</td>\n",
              "      <td>0.0</td>\n",
              "    </tr>\n",
              "    <tr>\n",
              "      <th>93</th>\n",
              "      <td>C=0.2894736842105263_gamma=0.6845263157894736</td>\n",
              "      <td>0.711429</td>\n",
              "      <td>0.0</td>\n",
              "    </tr>\n",
              "    <tr>\n",
              "      <th>94</th>\n",
              "      <td>C=0.2894736842105263_gamma=0.7371052631578947</td>\n",
              "      <td>0.711429</td>\n",
              "      <td>0.0</td>\n",
              "    </tr>\n",
              "    <tr>\n",
              "      <th>95</th>\n",
              "      <td>C=0.2894736842105263_gamma=0.7896842105263158</td>\n",
              "      <td>0.711429</td>\n",
              "      <td>0.0</td>\n",
              "    </tr>\n",
              "    <tr>\n",
              "      <th>...</th>\n",
              "      <td>...</td>\n",
              "      <td>...</td>\n",
              "      <td>...</td>\n",
              "    </tr>\n",
              "    <tr>\n",
              "      <th>82</th>\n",
              "      <td>C=0.2894736842105263_gamma=0.1061578947368421</td>\n",
              "      <td>0.698571</td>\n",
              "      <td>0.0</td>\n",
              "    </tr>\n",
              "    <tr>\n",
              "      <th>81</th>\n",
              "      <td>C=0.2894736842105263_gamma=0.05357894736842105</td>\n",
              "      <td>0.698571</td>\n",
              "      <td>0.0</td>\n",
              "    </tr>\n",
              "    <tr>\n",
              "      <th>80</th>\n",
              "      <td>C=0.2894736842105263_gamma=0.001</td>\n",
              "      <td>0.698571</td>\n",
              "      <td>0.0</td>\n",
              "    </tr>\n",
              "    <tr>\n",
              "      <th>63</th>\n",
              "      <td>C=0.24210526315789474_gamma=0.15873684210526315</td>\n",
              "      <td>0.698571</td>\n",
              "      <td>0.0</td>\n",
              "    </tr>\n",
              "    <tr>\n",
              "      <th>200</th>\n",
              "      <td>C=0.5736842105263158_gamma=0.001</td>\n",
              "      <td>0.698571</td>\n",
              "      <td>0.0</td>\n",
              "    </tr>\n",
              "  </tbody>\n",
              "</table>\n",
              "<p>400 rows × 3 columns</p>\n",
              "</div>\n",
              "      <button class=\"colab-df-convert\" onclick=\"convertToInteractive('df-fd580e97-8ef8-4eb5-862b-de52652f4b23')\"\n",
              "              title=\"Convert this dataframe to an interactive table.\"\n",
              "              style=\"display:none;\">\n",
              "        \n",
              "  <svg xmlns=\"http://www.w3.org/2000/svg\" height=\"24px\"viewBox=\"0 0 24 24\"\n",
              "       width=\"24px\">\n",
              "    <path d=\"M0 0h24v24H0V0z\" fill=\"none\"/>\n",
              "    <path d=\"M18.56 5.44l.94 2.06.94-2.06 2.06-.94-2.06-.94-.94-2.06-.94 2.06-2.06.94zm-11 1L8.5 8.5l.94-2.06 2.06-.94-2.06-.94L8.5 2.5l-.94 2.06-2.06.94zm10 10l.94 2.06.94-2.06 2.06-.94-2.06-.94-.94-2.06-.94 2.06-2.06.94z\"/><path d=\"M17.41 7.96l-1.37-1.37c-.4-.4-.92-.59-1.43-.59-.52 0-1.04.2-1.43.59L10.3 9.45l-7.72 7.72c-.78.78-.78 2.05 0 2.83L4 21.41c.39.39.9.59 1.41.59.51 0 1.02-.2 1.41-.59l7.78-7.78 2.81-2.81c.8-.78.8-2.07 0-2.86zM5.41 20L4 18.59l7.72-7.72 1.47 1.35L5.41 20z\"/>\n",
              "  </svg>\n",
              "      </button>\n",
              "      \n",
              "  <style>\n",
              "    .colab-df-container {\n",
              "      display:flex;\n",
              "      flex-wrap:wrap;\n",
              "      gap: 12px;\n",
              "    }\n",
              "\n",
              "    .colab-df-convert {\n",
              "      background-color: #E8F0FE;\n",
              "      border: none;\n",
              "      border-radius: 50%;\n",
              "      cursor: pointer;\n",
              "      display: none;\n",
              "      fill: #1967D2;\n",
              "      height: 32px;\n",
              "      padding: 0 0 0 0;\n",
              "      width: 32px;\n",
              "    }\n",
              "\n",
              "    .colab-df-convert:hover {\n",
              "      background-color: #E2EBFA;\n",
              "      box-shadow: 0px 1px 2px rgba(60, 64, 67, 0.3), 0px 1px 3px 1px rgba(60, 64, 67, 0.15);\n",
              "      fill: #174EA6;\n",
              "    }\n",
              "\n",
              "    [theme=dark] .colab-df-convert {\n",
              "      background-color: #3B4455;\n",
              "      fill: #D2E3FC;\n",
              "    }\n",
              "\n",
              "    [theme=dark] .colab-df-convert:hover {\n",
              "      background-color: #434B5C;\n",
              "      box-shadow: 0px 1px 3px 1px rgba(0, 0, 0, 0.15);\n",
              "      filter: drop-shadow(0px 1px 2px rgba(0, 0, 0, 0.3));\n",
              "      fill: #FFFFFF;\n",
              "    }\n",
              "  </style>\n",
              "\n",
              "      <script>\n",
              "        const buttonEl =\n",
              "          document.querySelector('#df-fd580e97-8ef8-4eb5-862b-de52652f4b23 button.colab-df-convert');\n",
              "        buttonEl.style.display =\n",
              "          google.colab.kernel.accessAllowed ? 'block' : 'none';\n",
              "\n",
              "        async function convertToInteractive(key) {\n",
              "          const element = document.querySelector('#df-fd580e97-8ef8-4eb5-862b-de52652f4b23');\n",
              "          const dataTable =\n",
              "            await google.colab.kernel.invokeFunction('convertToInteractive',\n",
              "                                                     [key], {});\n",
              "          if (!dataTable) return;\n",
              "\n",
              "          const docLinkHtml = 'Like what you see? Visit the ' +\n",
              "            '<a target=\"_blank\" href=https://colab.research.google.com/notebooks/data_table.ipynb>data table notebook</a>'\n",
              "            + ' to learn more about interactive tables.';\n",
              "          element.innerHTML = '';\n",
              "          dataTable['output_type'] = 'display_data';\n",
              "          await google.colab.output.renderOutput(dataTable, element);\n",
              "          const docLink = document.createElement('div');\n",
              "          docLink.innerHTML = docLinkHtml;\n",
              "          element.appendChild(docLink);\n",
              "        }\n",
              "      </script>\n",
              "    </div>\n",
              "  </div>\n",
              "  "
            ]
          },
          "metadata": {},
          "execution_count": 34
        }
      ]
    },
    {
      "cell_type": "code",
      "source": [
        "df_german_rw[\"Absolute difference\"]=abs(df_german_rw[\"Equality difference\"])\n",
        "df_german_rw.sort_values(by=[\"Absolute difference\"])"
      ],
      "metadata": {
        "colab": {
          "base_uri": "https://localhost:8080/",
          "height": 424
        },
        "id": "_tZdwvsanQB1",
        "outputId": "bd76bd43-1d15-4619-93e1-7462164998fb"
      },
      "execution_count": 35,
      "outputs": [
        {
          "output_type": "execute_result",
          "data": {
            "text/plain": [
              "                                     Hyperparameters  Accuracy  \\\n",
              "0                                  C=0.1_gamma=0.001  0.698571   \n",
              "272    C=0.7157894736842105_gamma=0.6319473684210526  0.705714   \n",
              "271    C=0.7157894736842105_gamma=0.5793684210526315  0.705714   \n",
              "270    C=0.7157894736842105_gamma=0.5267894736842105  0.705714   \n",
              "269   C=0.7157894736842105_gamma=0.47421052631578947  0.705714   \n",
              "..                                               ...       ...   \n",
              "128   C=0.38421052631578945_gamma=0.4216315789473684  0.710000   \n",
              "127  C=0.38421052631578945_gamma=0.36905263157894735  0.710000   \n",
              "126   C=0.38421052631578945_gamma=0.3164736842105263  0.710000   \n",
              "136   C=0.38421052631578945_gamma=0.8422631578947368  0.710000   \n",
              "399                                  C=1.0_gamma=1.0  0.702857   \n",
              "\n",
              "     Equality difference  Absolute difference  \n",
              "0                    0.0                  0.0  \n",
              "272                  0.0                  0.0  \n",
              "271                  0.0                  0.0  \n",
              "270                  0.0                  0.0  \n",
              "269                  0.0                  0.0  \n",
              "..                   ...                  ...  \n",
              "128                  0.0                  0.0  \n",
              "127                  0.0                  0.0  \n",
              "126                  0.0                  0.0  \n",
              "136                  0.0                  0.0  \n",
              "399                  0.0                  0.0  \n",
              "\n",
              "[400 rows x 4 columns]"
            ],
            "text/html": [
              "\n",
              "  <div id=\"df-c8826fbf-c430-4696-a254-145a6a56e5ad\">\n",
              "    <div class=\"colab-df-container\">\n",
              "      <div>\n",
              "<style scoped>\n",
              "    .dataframe tbody tr th:only-of-type {\n",
              "        vertical-align: middle;\n",
              "    }\n",
              "\n",
              "    .dataframe tbody tr th {\n",
              "        vertical-align: top;\n",
              "    }\n",
              "\n",
              "    .dataframe thead th {\n",
              "        text-align: right;\n",
              "    }\n",
              "</style>\n",
              "<table border=\"1\" class=\"dataframe\">\n",
              "  <thead>\n",
              "    <tr style=\"text-align: right;\">\n",
              "      <th></th>\n",
              "      <th>Hyperparameters</th>\n",
              "      <th>Accuracy</th>\n",
              "      <th>Equality difference</th>\n",
              "      <th>Absolute difference</th>\n",
              "    </tr>\n",
              "  </thead>\n",
              "  <tbody>\n",
              "    <tr>\n",
              "      <th>0</th>\n",
              "      <td>C=0.1_gamma=0.001</td>\n",
              "      <td>0.698571</td>\n",
              "      <td>0.0</td>\n",
              "      <td>0.0</td>\n",
              "    </tr>\n",
              "    <tr>\n",
              "      <th>272</th>\n",
              "      <td>C=0.7157894736842105_gamma=0.6319473684210526</td>\n",
              "      <td>0.705714</td>\n",
              "      <td>0.0</td>\n",
              "      <td>0.0</td>\n",
              "    </tr>\n",
              "    <tr>\n",
              "      <th>271</th>\n",
              "      <td>C=0.7157894736842105_gamma=0.5793684210526315</td>\n",
              "      <td>0.705714</td>\n",
              "      <td>0.0</td>\n",
              "      <td>0.0</td>\n",
              "    </tr>\n",
              "    <tr>\n",
              "      <th>270</th>\n",
              "      <td>C=0.7157894736842105_gamma=0.5267894736842105</td>\n",
              "      <td>0.705714</td>\n",
              "      <td>0.0</td>\n",
              "      <td>0.0</td>\n",
              "    </tr>\n",
              "    <tr>\n",
              "      <th>269</th>\n",
              "      <td>C=0.7157894736842105_gamma=0.47421052631578947</td>\n",
              "      <td>0.705714</td>\n",
              "      <td>0.0</td>\n",
              "      <td>0.0</td>\n",
              "    </tr>\n",
              "    <tr>\n",
              "      <th>...</th>\n",
              "      <td>...</td>\n",
              "      <td>...</td>\n",
              "      <td>...</td>\n",
              "      <td>...</td>\n",
              "    </tr>\n",
              "    <tr>\n",
              "      <th>128</th>\n",
              "      <td>C=0.38421052631578945_gamma=0.4216315789473684</td>\n",
              "      <td>0.710000</td>\n",
              "      <td>0.0</td>\n",
              "      <td>0.0</td>\n",
              "    </tr>\n",
              "    <tr>\n",
              "      <th>127</th>\n",
              "      <td>C=0.38421052631578945_gamma=0.36905263157894735</td>\n",
              "      <td>0.710000</td>\n",
              "      <td>0.0</td>\n",
              "      <td>0.0</td>\n",
              "    </tr>\n",
              "    <tr>\n",
              "      <th>126</th>\n",
              "      <td>C=0.38421052631578945_gamma=0.3164736842105263</td>\n",
              "      <td>0.710000</td>\n",
              "      <td>0.0</td>\n",
              "      <td>0.0</td>\n",
              "    </tr>\n",
              "    <tr>\n",
              "      <th>136</th>\n",
              "      <td>C=0.38421052631578945_gamma=0.8422631578947368</td>\n",
              "      <td>0.710000</td>\n",
              "      <td>0.0</td>\n",
              "      <td>0.0</td>\n",
              "    </tr>\n",
              "    <tr>\n",
              "      <th>399</th>\n",
              "      <td>C=1.0_gamma=1.0</td>\n",
              "      <td>0.702857</td>\n",
              "      <td>0.0</td>\n",
              "      <td>0.0</td>\n",
              "    </tr>\n",
              "  </tbody>\n",
              "</table>\n",
              "<p>400 rows × 4 columns</p>\n",
              "</div>\n",
              "      <button class=\"colab-df-convert\" onclick=\"convertToInteractive('df-c8826fbf-c430-4696-a254-145a6a56e5ad')\"\n",
              "              title=\"Convert this dataframe to an interactive table.\"\n",
              "              style=\"display:none;\">\n",
              "        \n",
              "  <svg xmlns=\"http://www.w3.org/2000/svg\" height=\"24px\"viewBox=\"0 0 24 24\"\n",
              "       width=\"24px\">\n",
              "    <path d=\"M0 0h24v24H0V0z\" fill=\"none\"/>\n",
              "    <path d=\"M18.56 5.44l.94 2.06.94-2.06 2.06-.94-2.06-.94-.94-2.06-.94 2.06-2.06.94zm-11 1L8.5 8.5l.94-2.06 2.06-.94-2.06-.94L8.5 2.5l-.94 2.06-2.06.94zm10 10l.94 2.06.94-2.06 2.06-.94-2.06-.94-.94-2.06-.94 2.06-2.06.94z\"/><path d=\"M17.41 7.96l-1.37-1.37c-.4-.4-.92-.59-1.43-.59-.52 0-1.04.2-1.43.59L10.3 9.45l-7.72 7.72c-.78.78-.78 2.05 0 2.83L4 21.41c.39.39.9.59 1.41.59.51 0 1.02-.2 1.41-.59l7.78-7.78 2.81-2.81c.8-.78.8-2.07 0-2.86zM5.41 20L4 18.59l7.72-7.72 1.47 1.35L5.41 20z\"/>\n",
              "  </svg>\n",
              "      </button>\n",
              "      \n",
              "  <style>\n",
              "    .colab-df-container {\n",
              "      display:flex;\n",
              "      flex-wrap:wrap;\n",
              "      gap: 12px;\n",
              "    }\n",
              "\n",
              "    .colab-df-convert {\n",
              "      background-color: #E8F0FE;\n",
              "      border: none;\n",
              "      border-radius: 50%;\n",
              "      cursor: pointer;\n",
              "      display: none;\n",
              "      fill: #1967D2;\n",
              "      height: 32px;\n",
              "      padding: 0 0 0 0;\n",
              "      width: 32px;\n",
              "    }\n",
              "\n",
              "    .colab-df-convert:hover {\n",
              "      background-color: #E2EBFA;\n",
              "      box-shadow: 0px 1px 2px rgba(60, 64, 67, 0.3), 0px 1px 3px 1px rgba(60, 64, 67, 0.15);\n",
              "      fill: #174EA6;\n",
              "    }\n",
              "\n",
              "    [theme=dark] .colab-df-convert {\n",
              "      background-color: #3B4455;\n",
              "      fill: #D2E3FC;\n",
              "    }\n",
              "\n",
              "    [theme=dark] .colab-df-convert:hover {\n",
              "      background-color: #434B5C;\n",
              "      box-shadow: 0px 1px 3px 1px rgba(0, 0, 0, 0.15);\n",
              "      filter: drop-shadow(0px 1px 2px rgba(0, 0, 0, 0.3));\n",
              "      fill: #FFFFFF;\n",
              "    }\n",
              "  </style>\n",
              "\n",
              "      <script>\n",
              "        const buttonEl =\n",
              "          document.querySelector('#df-c8826fbf-c430-4696-a254-145a6a56e5ad button.colab-df-convert');\n",
              "        buttonEl.style.display =\n",
              "          google.colab.kernel.accessAllowed ? 'block' : 'none';\n",
              "\n",
              "        async function convertToInteractive(key) {\n",
              "          const element = document.querySelector('#df-c8826fbf-c430-4696-a254-145a6a56e5ad');\n",
              "          const dataTable =\n",
              "            await google.colab.kernel.invokeFunction('convertToInteractive',\n",
              "                                                     [key], {});\n",
              "          if (!dataTable) return;\n",
              "\n",
              "          const docLinkHtml = 'Like what you see? Visit the ' +\n",
              "            '<a target=\"_blank\" href=https://colab.research.google.com/notebooks/data_table.ipynb>data table notebook</a>'\n",
              "            + ' to learn more about interactive tables.';\n",
              "          element.innerHTML = '';\n",
              "          dataTable['output_type'] = 'display_data';\n",
              "          await google.colab.output.renderOutput(dataTable, element);\n",
              "          const docLink = document.createElement('div');\n",
              "          docLink.innerHTML = docLinkHtml;\n",
              "          element.appendChild(docLink);\n",
              "        }\n",
              "      </script>\n",
              "    </div>\n",
              "  </div>\n",
              "  "
            ]
          },
          "metadata": {},
          "execution_count": 35
        }
      ]
    },
    {
      "cell_type": "markdown",
      "source": [
        "Similar results of fairness improvement found on the German dataset as well. This implies that the true positive rate for both the classes is similar which means our model is not biased."
      ],
      "metadata": {
        "id": "DMdSIrf7FwKx"
      }
    },
    {
      "cell_type": "code",
      "source": [
        "weighted_model_run(SVC(C=0.2894736842105263, gamma=0.5267894736842105, kernel='rbf'), X_train_ge, X_test_ge, y_train_ge, y_test_ge, test_ge, unprivileged_german, privileged_german, train_ge.instance_weights)"
      ],
      "metadata": {
        "colab": {
          "base_uri": "https://localhost:8080/"
        },
        "id": "1C3KfbkIT3Db",
        "outputId": "b7069373-26f4-4727-bf2d-b2337f4e13fd"
      },
      "execution_count": 36,
      "outputs": [
        {
          "output_type": "stream",
          "name": "stdout",
          "text": [
            "Accuracy on test:  69.67 %\n",
            "Equal opportunity difference:  0.02\n",
            "Disparate Impact:  1.019\n",
            "[[208   3]\n",
            " [ 88   1]]\n"
          ]
        }
      ]
    },
    {
      "cell_type": "code",
      "source": [
        "weighted_model_run(SVC(C=0.1, gamma=0.001, kernel='rbf'), X_train_ge, X_test_ge, y_train_ge, y_test_ge, test_ge, unprivileged_german, privileged_german, train_ge.instance_weights)"
      ],
      "metadata": {
        "colab": {
          "base_uri": "https://localhost:8080/"
        },
        "id": "G9PR6S9TUOkj",
        "outputId": "fa14e06c-8257-4c21-fc49-76a7d599196a"
      },
      "execution_count": 37,
      "outputs": [
        {
          "output_type": "stream",
          "name": "stdout",
          "text": [
            "Accuracy on test:  70.33 %\n",
            "Equal opportunity difference:  0.0\n",
            "Disparate Impact:  1.0\n",
            "[[211   0]\n",
            " [ 89   0]]\n"
          ]
        }
      ]
    },
    {
      "cell_type": "markdown",
      "source": [
        "."
      ],
      "metadata": {
        "id": "p9ar83JvnJz0"
      }
    },
    {
      "cell_type": "markdown",
      "source": [
        "."
      ],
      "metadata": {
        "id": "23gYzuvinK06"
      }
    },
    {
      "cell_type": "markdown",
      "source": [
        "."
      ],
      "metadata": {
        "id": "IhZI1FDXnNuL"
      }
    },
    {
      "cell_type": "markdown",
      "source": [
        "."
      ],
      "metadata": {
        "id": "I2CY2hCBnQoa"
      }
    },
    {
      "cell_type": "markdown",
      "source": [
        "."
      ],
      "metadata": {
        "id": "R2RSY-_qnRUi"
      }
    },
    {
      "cell_type": "markdown",
      "source": [
        "."
      ],
      "metadata": {
        "id": "Rfob1Sr4nRxB"
      }
    },
    {
      "cell_type": "markdown",
      "source": [
        "# **Task 3: Most optimal parameters**"
      ],
      "metadata": {
        "id": "d8qP3UvanSQM"
      }
    },
    {
      "cell_type": "markdown",
      "source": [
        "Here we have a basic scoring sytem for the models derived above. To come up with the most optimal parameters for a model we have to understand its requirements. If it is skewed more towards accuracy or fairness. \n",
        "\n",
        "From the tables generated after hyperparameter tuning and training the models, of all the combinations, the one with the lowest accuracy is given a score of 1 and the one with the highest, a score of 10. The range within the highest and lowest accuracy is split into 10 equal parts and the remaining models get a score between 1 and 10 depending upon the accuracy. The same idea is used for the fairness metric but where the minimum TPR difference is given the highest score. At the end we just add the accuracy and fairness scores to have a rough idea about where each model stands."
      ],
      "metadata": {
        "id": "WS-WJi1TGVV5"
      }
    },
    {
      "cell_type": "code",
      "source": [
        "def scoring_models(testdf):\n",
        "\n",
        "  testdf[\"Accuracy\"] = round(testdf[\"Accuracy\"]*100, 2)\n",
        "  testdf[\"Equality difference\"] = round(testdf[\"Equality difference\"], 3)\n",
        "  testdf[\"Absolute difference\"] = round(testdf[\"Absolute difference\"], 3)\n",
        "\n",
        "  testdf[\"Accuracy score\"] = testdf[\"Accuracy\"]*0\n",
        "  testdf[\"Fairness score\"] = testdf[\"Accuracy\"]*0\n",
        "  testdf\n",
        "\n",
        "\n",
        "  min = testdf[\"Accuracy\"].min()\n",
        "  max = testdf[\"Accuracy\"].max()\n",
        "  step = (max-min)/10\n",
        "\n",
        "  for av in range(len(testdf[\"Accuracy\"])):\n",
        "    \n",
        "    if testdf[\"Accuracy\"][av]>=min and testdf[\"Accuracy\"][av]<min+step:\n",
        "      testdf[\"Accuracy score\"][av]=1\n",
        "    elif testdf[\"Accuracy\"][av]>=min+step and testdf[\"Accuracy\"][av]<min+(step*2):\n",
        "      testdf[\"Accuracy score\"][av]=2\n",
        "    elif testdf[\"Accuracy\"][av]>=min+(step*2) and testdf[\"Accuracy\"][av]<min+(step*3):\n",
        "      testdf[\"Accuracy score\"][av]=3\n",
        "    elif testdf[\"Accuracy\"][av]>=min+(step*3) and testdf[\"Accuracy\"][av]<min+(step*4):\n",
        "      testdf[\"Accuracy score\"][av]=4\n",
        "    elif testdf[\"Accuracy\"][av]>=min+(step*4) and testdf[\"Accuracy\"][av]<min+(step*5):\n",
        "      testdf[\"Accuracy score\"][av]=5\n",
        "    elif testdf[\"Accuracy\"][av]>=min+(step*5) and testdf[\"Accuracy\"][av]<min+(step*6):\n",
        "      testdf[\"Accuracy score\"][av]=6\n",
        "    elif testdf[\"Accuracy\"][av]>=min+(step*6) and testdf[\"Accuracy\"][av]<min+(step*7):\n",
        "      testdf[\"Accuracy score\"][av]=7\n",
        "    elif testdf[\"Accuracy\"][av]>=min+(step*7) and testdf[\"Accuracy\"][av]<min+(step*8):\n",
        "      testdf[\"Accuracy score\"][av]=8\n",
        "    elif testdf[\"Accuracy\"][av]>=min+(step*8) and testdf[\"Accuracy\"][av]<min+(step*9):\n",
        "      testdf[\"Accuracy score\"][av]=9\n",
        "    elif testdf[\"Accuracy\"][av]>=min+(step*9):\n",
        "      testdf[\"Accuracy score\"][av]=10\n",
        "\n",
        "\n",
        "\n",
        "  low = testdf[\"Absolute difference\"].min()\n",
        "  high = testdf[\"Absolute difference\"].max()\n",
        "  gap = (high-low)/10\n",
        "\n",
        "\n",
        "  for fv in range(len(testdf[\"Absolute difference\"])):\n",
        "  \n",
        "    if testdf[\"Absolute difference\"][fv]>=low and testdf[\"Absolute difference\"][fv]<low+gap:\n",
        "      testdf[\"Fairness score\"][fv]=10\n",
        "    elif testdf[\"Absolute difference\"][fv]>=low+gap and testdf[\"Absolute difference\"][fv]<low+(gap*2):\n",
        "      testdf[\"Fairness score\"][fv]=9\n",
        "    elif testdf[\"Absolute difference\"][fv]>=low+(gap*2) and testdf[\"Absolute difference\"][fv]<low+(gap*3):\n",
        "      testdf[\"Fairness score\"][fv]=8\n",
        "    elif testdf[\"Absolute difference\"][fv]>=low+(gap*3) and testdf[\"Absolute difference\"][fv]<low+(gap*4):\n",
        "      testdf[\"Fairness score\"][fv]=7\n",
        "    elif testdf[\"Absolute difference\"][fv]>=low+(gap*4) and testdf[\"Absolute difference\"][fv]<low+(gap*5):\n",
        "      testdf[\"Fairness score\"][fv]=6\n",
        "    elif testdf[\"Absolute difference\"][fv]>=low+(gap*5) and testdf[\"Absolute difference\"][fv]<low+(gap*6):\n",
        "      testdf[\"Fairness score\"][fv]=5\n",
        "    elif testdf[\"Absolute difference\"][fv]>=low+(gap*6) and testdf[\"Absolute difference\"][fv]<low+(gap*7):\n",
        "      testdf[\"Fairness score\"][fv]=4\n",
        "    elif testdf[\"Absolute difference\"][fv]>=low+(gap*7) and testdf[\"Absolute difference\"][fv]<low+(gap*8):\n",
        "      testdf[\"Fairness score\"][fv]=3\n",
        "    elif testdf[\"Absolute difference\"][fv]>=low+(gap*8) and testdf[\"Absolute difference\"][fv]<low+(gap*9):\n",
        "      testdf[\"Fairness score\"][fv]=2\n",
        "    elif testdf[\"Absolute difference\"][fv]>=low+(gap*9):\n",
        "      testdf[\"Fairness score\"][fv]=1\n",
        "\n",
        "\n",
        "  testdf[\"Total_score\"] = testdf[\"Accuracy score\"]+testdf[\"Fairness score\"]\n",
        "  testdf = testdf.sort_values(by=[\"Total_score\"], ascending=False)\n",
        "    \n",
        "    \n",
        "  return testdf"
      ],
      "metadata": {
        "id": "qKvSlwiL7d3M"
      },
      "execution_count": 61,
      "outputs": []
    },
    {
      "cell_type": "code",
      "source": [
        "nw_adult = scoring_models(df_adult)\n",
        "rewt_adult = scoring_models(df_adult_rw)"
      ],
      "metadata": {
        "id": "XBVWpgcUCaOd"
      },
      "execution_count": null,
      "outputs": []
    },
    {
      "cell_type": "code",
      "source": [
        "nw_adult"
      ],
      "metadata": {
        "colab": {
          "base_uri": "https://localhost:8080/",
          "height": 426
        },
        "id": "NOBiE0aEJvz2",
        "outputId": "320ddfa7-2fbb-4972-fd25-125a541352dc"
      },
      "execution_count": 63,
      "outputs": [
        {
          "output_type": "execute_result",
          "data": {
            "text/plain": [
              "      Hyperparameters      Accuracy  Equality difference  Absolute difference  \\\n",
              "2     C=0.1_gamma=0.1  8.037000e+11                0.556                0.556   \n",
              "3       C=0.1_gamma=1  8.038000e+11                0.549                0.549   \n",
              "5      C=1_gamma=0.01  8.027000e+11                0.538                0.538   \n",
              "6       C=1_gamma=0.1  8.038000e+11                0.543                0.543   \n",
              "7         C=1_gamma=1  8.037000e+11                0.539                0.539   \n",
              "9     C=10_gamma=0.01  8.030000e+11                0.531                0.531   \n",
              "10     C=10_gamma=0.1  8.036000e+11                0.539                0.539   \n",
              "11       C=10_gamma=1  8.037000e+11                0.539                0.539   \n",
              "1    C=0.1_gamma=0.01  7.884000e+11                0.429                0.429   \n",
              "4     C=1_gamma=0.001  7.863000e+11                0.413                0.413   \n",
              "8    C=10_gamma=0.001  7.872000e+11                0.417                0.417   \n",
              "0   C=0.1_gamma=0.001  7.594000e+11                1.000                1.000   \n",
              "\n",
              "    Accuracy score  Fairness score  Total_score  \n",
              "2             10.0             8.0         18.0  \n",
              "3             10.0             8.0         18.0  \n",
              "5             10.0             8.0         18.0  \n",
              "6             10.0             8.0         18.0  \n",
              "7             10.0             8.0         18.0  \n",
              "9             10.0             8.0         18.0  \n",
              "10            10.0             8.0         18.0  \n",
              "11            10.0             8.0         18.0  \n",
              "1              7.0            10.0         17.0  \n",
              "4              7.0            10.0         17.0  \n",
              "8              7.0            10.0         17.0  \n",
              "0              1.0             1.0          2.0  "
            ],
            "text/html": [
              "\n",
              "  <div id=\"df-040f1324-d309-4ae8-8121-f0f021837da1\">\n",
              "    <div class=\"colab-df-container\">\n",
              "      <div>\n",
              "<style scoped>\n",
              "    .dataframe tbody tr th:only-of-type {\n",
              "        vertical-align: middle;\n",
              "    }\n",
              "\n",
              "    .dataframe tbody tr th {\n",
              "        vertical-align: top;\n",
              "    }\n",
              "\n",
              "    .dataframe thead th {\n",
              "        text-align: right;\n",
              "    }\n",
              "</style>\n",
              "<table border=\"1\" class=\"dataframe\">\n",
              "  <thead>\n",
              "    <tr style=\"text-align: right;\">\n",
              "      <th></th>\n",
              "      <th>Hyperparameters</th>\n",
              "      <th>Accuracy</th>\n",
              "      <th>Equality difference</th>\n",
              "      <th>Absolute difference</th>\n",
              "      <th>Accuracy score</th>\n",
              "      <th>Fairness score</th>\n",
              "      <th>Total_score</th>\n",
              "    </tr>\n",
              "  </thead>\n",
              "  <tbody>\n",
              "    <tr>\n",
              "      <th>2</th>\n",
              "      <td>C=0.1_gamma=0.1</td>\n",
              "      <td>8.037000e+11</td>\n",
              "      <td>0.556</td>\n",
              "      <td>0.556</td>\n",
              "      <td>10.0</td>\n",
              "      <td>8.0</td>\n",
              "      <td>18.0</td>\n",
              "    </tr>\n",
              "    <tr>\n",
              "      <th>3</th>\n",
              "      <td>C=0.1_gamma=1</td>\n",
              "      <td>8.038000e+11</td>\n",
              "      <td>0.549</td>\n",
              "      <td>0.549</td>\n",
              "      <td>10.0</td>\n",
              "      <td>8.0</td>\n",
              "      <td>18.0</td>\n",
              "    </tr>\n",
              "    <tr>\n",
              "      <th>5</th>\n",
              "      <td>C=1_gamma=0.01</td>\n",
              "      <td>8.027000e+11</td>\n",
              "      <td>0.538</td>\n",
              "      <td>0.538</td>\n",
              "      <td>10.0</td>\n",
              "      <td>8.0</td>\n",
              "      <td>18.0</td>\n",
              "    </tr>\n",
              "    <tr>\n",
              "      <th>6</th>\n",
              "      <td>C=1_gamma=0.1</td>\n",
              "      <td>8.038000e+11</td>\n",
              "      <td>0.543</td>\n",
              "      <td>0.543</td>\n",
              "      <td>10.0</td>\n",
              "      <td>8.0</td>\n",
              "      <td>18.0</td>\n",
              "    </tr>\n",
              "    <tr>\n",
              "      <th>7</th>\n",
              "      <td>C=1_gamma=1</td>\n",
              "      <td>8.037000e+11</td>\n",
              "      <td>0.539</td>\n",
              "      <td>0.539</td>\n",
              "      <td>10.0</td>\n",
              "      <td>8.0</td>\n",
              "      <td>18.0</td>\n",
              "    </tr>\n",
              "    <tr>\n",
              "      <th>9</th>\n",
              "      <td>C=10_gamma=0.01</td>\n",
              "      <td>8.030000e+11</td>\n",
              "      <td>0.531</td>\n",
              "      <td>0.531</td>\n",
              "      <td>10.0</td>\n",
              "      <td>8.0</td>\n",
              "      <td>18.0</td>\n",
              "    </tr>\n",
              "    <tr>\n",
              "      <th>10</th>\n",
              "      <td>C=10_gamma=0.1</td>\n",
              "      <td>8.036000e+11</td>\n",
              "      <td>0.539</td>\n",
              "      <td>0.539</td>\n",
              "      <td>10.0</td>\n",
              "      <td>8.0</td>\n",
              "      <td>18.0</td>\n",
              "    </tr>\n",
              "    <tr>\n",
              "      <th>11</th>\n",
              "      <td>C=10_gamma=1</td>\n",
              "      <td>8.037000e+11</td>\n",
              "      <td>0.539</td>\n",
              "      <td>0.539</td>\n",
              "      <td>10.0</td>\n",
              "      <td>8.0</td>\n",
              "      <td>18.0</td>\n",
              "    </tr>\n",
              "    <tr>\n",
              "      <th>1</th>\n",
              "      <td>C=0.1_gamma=0.01</td>\n",
              "      <td>7.884000e+11</td>\n",
              "      <td>0.429</td>\n",
              "      <td>0.429</td>\n",
              "      <td>7.0</td>\n",
              "      <td>10.0</td>\n",
              "      <td>17.0</td>\n",
              "    </tr>\n",
              "    <tr>\n",
              "      <th>4</th>\n",
              "      <td>C=1_gamma=0.001</td>\n",
              "      <td>7.863000e+11</td>\n",
              "      <td>0.413</td>\n",
              "      <td>0.413</td>\n",
              "      <td>7.0</td>\n",
              "      <td>10.0</td>\n",
              "      <td>17.0</td>\n",
              "    </tr>\n",
              "    <tr>\n",
              "      <th>8</th>\n",
              "      <td>C=10_gamma=0.001</td>\n",
              "      <td>7.872000e+11</td>\n",
              "      <td>0.417</td>\n",
              "      <td>0.417</td>\n",
              "      <td>7.0</td>\n",
              "      <td>10.0</td>\n",
              "      <td>17.0</td>\n",
              "    </tr>\n",
              "    <tr>\n",
              "      <th>0</th>\n",
              "      <td>C=0.1_gamma=0.001</td>\n",
              "      <td>7.594000e+11</td>\n",
              "      <td>1.000</td>\n",
              "      <td>1.000</td>\n",
              "      <td>1.0</td>\n",
              "      <td>1.0</td>\n",
              "      <td>2.0</td>\n",
              "    </tr>\n",
              "  </tbody>\n",
              "</table>\n",
              "</div>\n",
              "      <button class=\"colab-df-convert\" onclick=\"convertToInteractive('df-040f1324-d309-4ae8-8121-f0f021837da1')\"\n",
              "              title=\"Convert this dataframe to an interactive table.\"\n",
              "              style=\"display:none;\">\n",
              "        \n",
              "  <svg xmlns=\"http://www.w3.org/2000/svg\" height=\"24px\"viewBox=\"0 0 24 24\"\n",
              "       width=\"24px\">\n",
              "    <path d=\"M0 0h24v24H0V0z\" fill=\"none\"/>\n",
              "    <path d=\"M18.56 5.44l.94 2.06.94-2.06 2.06-.94-2.06-.94-.94-2.06-.94 2.06-2.06.94zm-11 1L8.5 8.5l.94-2.06 2.06-.94-2.06-.94L8.5 2.5l-.94 2.06-2.06.94zm10 10l.94 2.06.94-2.06 2.06-.94-2.06-.94-.94-2.06-.94 2.06-2.06.94z\"/><path d=\"M17.41 7.96l-1.37-1.37c-.4-.4-.92-.59-1.43-.59-.52 0-1.04.2-1.43.59L10.3 9.45l-7.72 7.72c-.78.78-.78 2.05 0 2.83L4 21.41c.39.39.9.59 1.41.59.51 0 1.02-.2 1.41-.59l7.78-7.78 2.81-2.81c.8-.78.8-2.07 0-2.86zM5.41 20L4 18.59l7.72-7.72 1.47 1.35L5.41 20z\"/>\n",
              "  </svg>\n",
              "      </button>\n",
              "      \n",
              "  <style>\n",
              "    .colab-df-container {\n",
              "      display:flex;\n",
              "      flex-wrap:wrap;\n",
              "      gap: 12px;\n",
              "    }\n",
              "\n",
              "    .colab-df-convert {\n",
              "      background-color: #E8F0FE;\n",
              "      border: none;\n",
              "      border-radius: 50%;\n",
              "      cursor: pointer;\n",
              "      display: none;\n",
              "      fill: #1967D2;\n",
              "      height: 32px;\n",
              "      padding: 0 0 0 0;\n",
              "      width: 32px;\n",
              "    }\n",
              "\n",
              "    .colab-df-convert:hover {\n",
              "      background-color: #E2EBFA;\n",
              "      box-shadow: 0px 1px 2px rgba(60, 64, 67, 0.3), 0px 1px 3px 1px rgba(60, 64, 67, 0.15);\n",
              "      fill: #174EA6;\n",
              "    }\n",
              "\n",
              "    [theme=dark] .colab-df-convert {\n",
              "      background-color: #3B4455;\n",
              "      fill: #D2E3FC;\n",
              "    }\n",
              "\n",
              "    [theme=dark] .colab-df-convert:hover {\n",
              "      background-color: #434B5C;\n",
              "      box-shadow: 0px 1px 3px 1px rgba(0, 0, 0, 0.15);\n",
              "      filter: drop-shadow(0px 1px 2px rgba(0, 0, 0, 0.3));\n",
              "      fill: #FFFFFF;\n",
              "    }\n",
              "  </style>\n",
              "\n",
              "      <script>\n",
              "        const buttonEl =\n",
              "          document.querySelector('#df-040f1324-d309-4ae8-8121-f0f021837da1 button.colab-df-convert');\n",
              "        buttonEl.style.display =\n",
              "          google.colab.kernel.accessAllowed ? 'block' : 'none';\n",
              "\n",
              "        async function convertToInteractive(key) {\n",
              "          const element = document.querySelector('#df-040f1324-d309-4ae8-8121-f0f021837da1');\n",
              "          const dataTable =\n",
              "            await google.colab.kernel.invokeFunction('convertToInteractive',\n",
              "                                                     [key], {});\n",
              "          if (!dataTable) return;\n",
              "\n",
              "          const docLinkHtml = 'Like what you see? Visit the ' +\n",
              "            '<a target=\"_blank\" href=https://colab.research.google.com/notebooks/data_table.ipynb>data table notebook</a>'\n",
              "            + ' to learn more about interactive tables.';\n",
              "          element.innerHTML = '';\n",
              "          dataTable['output_type'] = 'display_data';\n",
              "          await google.colab.output.renderOutput(dataTable, element);\n",
              "          const docLink = document.createElement('div');\n",
              "          docLink.innerHTML = docLinkHtml;\n",
              "          element.appendChild(docLink);\n",
              "        }\n",
              "      </script>\n",
              "    </div>\n",
              "  </div>\n",
              "  "
            ]
          },
          "metadata": {},
          "execution_count": 63
        }
      ]
    },
    {
      "cell_type": "code",
      "source": [
        "rewt_adult"
      ],
      "metadata": {
        "colab": {
          "base_uri": "https://localhost:8080/",
          "height": 426
        },
        "id": "KkUHEzniArH_",
        "outputId": "e45ba679-ceb9-4795-ead4-bb0da884979b"
      },
      "execution_count": 64,
      "outputs": [
        {
          "output_type": "execute_result",
          "data": {
            "text/plain": [
              "      Hyperparameters    Accuracy  Equality difference  Absolute difference  \\\n",
              "1    C=0.1_gamma=0.01  78740000.0                0.424                0.424   \n",
              "5      C=1_gamma=0.01  78740000.0                0.424                0.424   \n",
              "9     C=10_gamma=0.01  78990000.0                0.449                0.449   \n",
              "2     C=0.1_gamma=0.1  78890000.0                0.483                0.483   \n",
              "3       C=0.1_gamma=1  78750000.0                0.523                0.523   \n",
              "4     C=1_gamma=0.001  78630000.0                0.413                0.413   \n",
              "8    C=10_gamma=0.001  78630000.0                0.413                0.413   \n",
              "6       C=1_gamma=0.1  78630000.0                0.500                0.500   \n",
              "7         C=1_gamma=1  78630000.0                0.500                0.500   \n",
              "10     C=10_gamma=0.1  78580000.0                0.497                0.497   \n",
              "11       C=10_gamma=1  78560000.0                0.496                0.496   \n",
              "0   C=0.1_gamma=0.001  75940000.0                1.000                1.000   \n",
              "\n",
              "    Accuracy score  Fairness score  Total_score  \n",
              "1             10.0            10.0         20.0  \n",
              "5             10.0            10.0         20.0  \n",
              "9             10.0            10.0         20.0  \n",
              "2             10.0             9.0         19.0  \n",
              "3             10.0             9.0         19.0  \n",
              "4              9.0            10.0         19.0  \n",
              "8              9.0            10.0         19.0  \n",
              "6              9.0             9.0         18.0  \n",
              "7              9.0             9.0         18.0  \n",
              "10             9.0             9.0         18.0  \n",
              "11             9.0             9.0         18.0  \n",
              "0              1.0             1.0          2.0  "
            ],
            "text/html": [
              "\n",
              "  <div id=\"df-fc4f4e3d-413b-41f7-af8c-d4f291b3d177\">\n",
              "    <div class=\"colab-df-container\">\n",
              "      <div>\n",
              "<style scoped>\n",
              "    .dataframe tbody tr th:only-of-type {\n",
              "        vertical-align: middle;\n",
              "    }\n",
              "\n",
              "    .dataframe tbody tr th {\n",
              "        vertical-align: top;\n",
              "    }\n",
              "\n",
              "    .dataframe thead th {\n",
              "        text-align: right;\n",
              "    }\n",
              "</style>\n",
              "<table border=\"1\" class=\"dataframe\">\n",
              "  <thead>\n",
              "    <tr style=\"text-align: right;\">\n",
              "      <th></th>\n",
              "      <th>Hyperparameters</th>\n",
              "      <th>Accuracy</th>\n",
              "      <th>Equality difference</th>\n",
              "      <th>Absolute difference</th>\n",
              "      <th>Accuracy score</th>\n",
              "      <th>Fairness score</th>\n",
              "      <th>Total_score</th>\n",
              "    </tr>\n",
              "  </thead>\n",
              "  <tbody>\n",
              "    <tr>\n",
              "      <th>1</th>\n",
              "      <td>C=0.1_gamma=0.01</td>\n",
              "      <td>78740000.0</td>\n",
              "      <td>0.424</td>\n",
              "      <td>0.424</td>\n",
              "      <td>10.0</td>\n",
              "      <td>10.0</td>\n",
              "      <td>20.0</td>\n",
              "    </tr>\n",
              "    <tr>\n",
              "      <th>5</th>\n",
              "      <td>C=1_gamma=0.01</td>\n",
              "      <td>78740000.0</td>\n",
              "      <td>0.424</td>\n",
              "      <td>0.424</td>\n",
              "      <td>10.0</td>\n",
              "      <td>10.0</td>\n",
              "      <td>20.0</td>\n",
              "    </tr>\n",
              "    <tr>\n",
              "      <th>9</th>\n",
              "      <td>C=10_gamma=0.01</td>\n",
              "      <td>78990000.0</td>\n",
              "      <td>0.449</td>\n",
              "      <td>0.449</td>\n",
              "      <td>10.0</td>\n",
              "      <td>10.0</td>\n",
              "      <td>20.0</td>\n",
              "    </tr>\n",
              "    <tr>\n",
              "      <th>2</th>\n",
              "      <td>C=0.1_gamma=0.1</td>\n",
              "      <td>78890000.0</td>\n",
              "      <td>0.483</td>\n",
              "      <td>0.483</td>\n",
              "      <td>10.0</td>\n",
              "      <td>9.0</td>\n",
              "      <td>19.0</td>\n",
              "    </tr>\n",
              "    <tr>\n",
              "      <th>3</th>\n",
              "      <td>C=0.1_gamma=1</td>\n",
              "      <td>78750000.0</td>\n",
              "      <td>0.523</td>\n",
              "      <td>0.523</td>\n",
              "      <td>10.0</td>\n",
              "      <td>9.0</td>\n",
              "      <td>19.0</td>\n",
              "    </tr>\n",
              "    <tr>\n",
              "      <th>4</th>\n",
              "      <td>C=1_gamma=0.001</td>\n",
              "      <td>78630000.0</td>\n",
              "      <td>0.413</td>\n",
              "      <td>0.413</td>\n",
              "      <td>9.0</td>\n",
              "      <td>10.0</td>\n",
              "      <td>19.0</td>\n",
              "    </tr>\n",
              "    <tr>\n",
              "      <th>8</th>\n",
              "      <td>C=10_gamma=0.001</td>\n",
              "      <td>78630000.0</td>\n",
              "      <td>0.413</td>\n",
              "      <td>0.413</td>\n",
              "      <td>9.0</td>\n",
              "      <td>10.0</td>\n",
              "      <td>19.0</td>\n",
              "    </tr>\n",
              "    <tr>\n",
              "      <th>6</th>\n",
              "      <td>C=1_gamma=0.1</td>\n",
              "      <td>78630000.0</td>\n",
              "      <td>0.500</td>\n",
              "      <td>0.500</td>\n",
              "      <td>9.0</td>\n",
              "      <td>9.0</td>\n",
              "      <td>18.0</td>\n",
              "    </tr>\n",
              "    <tr>\n",
              "      <th>7</th>\n",
              "      <td>C=1_gamma=1</td>\n",
              "      <td>78630000.0</td>\n",
              "      <td>0.500</td>\n",
              "      <td>0.500</td>\n",
              "      <td>9.0</td>\n",
              "      <td>9.0</td>\n",
              "      <td>18.0</td>\n",
              "    </tr>\n",
              "    <tr>\n",
              "      <th>10</th>\n",
              "      <td>C=10_gamma=0.1</td>\n",
              "      <td>78580000.0</td>\n",
              "      <td>0.497</td>\n",
              "      <td>0.497</td>\n",
              "      <td>9.0</td>\n",
              "      <td>9.0</td>\n",
              "      <td>18.0</td>\n",
              "    </tr>\n",
              "    <tr>\n",
              "      <th>11</th>\n",
              "      <td>C=10_gamma=1</td>\n",
              "      <td>78560000.0</td>\n",
              "      <td>0.496</td>\n",
              "      <td>0.496</td>\n",
              "      <td>9.0</td>\n",
              "      <td>9.0</td>\n",
              "      <td>18.0</td>\n",
              "    </tr>\n",
              "    <tr>\n",
              "      <th>0</th>\n",
              "      <td>C=0.1_gamma=0.001</td>\n",
              "      <td>75940000.0</td>\n",
              "      <td>1.000</td>\n",
              "      <td>1.000</td>\n",
              "      <td>1.0</td>\n",
              "      <td>1.0</td>\n",
              "      <td>2.0</td>\n",
              "    </tr>\n",
              "  </tbody>\n",
              "</table>\n",
              "</div>\n",
              "      <button class=\"colab-df-convert\" onclick=\"convertToInteractive('df-fc4f4e3d-413b-41f7-af8c-d4f291b3d177')\"\n",
              "              title=\"Convert this dataframe to an interactive table.\"\n",
              "              style=\"display:none;\">\n",
              "        \n",
              "  <svg xmlns=\"http://www.w3.org/2000/svg\" height=\"24px\"viewBox=\"0 0 24 24\"\n",
              "       width=\"24px\">\n",
              "    <path d=\"M0 0h24v24H0V0z\" fill=\"none\"/>\n",
              "    <path d=\"M18.56 5.44l.94 2.06.94-2.06 2.06-.94-2.06-.94-.94-2.06-.94 2.06-2.06.94zm-11 1L8.5 8.5l.94-2.06 2.06-.94-2.06-.94L8.5 2.5l-.94 2.06-2.06.94zm10 10l.94 2.06.94-2.06 2.06-.94-2.06-.94-.94-2.06-.94 2.06-2.06.94z\"/><path d=\"M17.41 7.96l-1.37-1.37c-.4-.4-.92-.59-1.43-.59-.52 0-1.04.2-1.43.59L10.3 9.45l-7.72 7.72c-.78.78-.78 2.05 0 2.83L4 21.41c.39.39.9.59 1.41.59.51 0 1.02-.2 1.41-.59l7.78-7.78 2.81-2.81c.8-.78.8-2.07 0-2.86zM5.41 20L4 18.59l7.72-7.72 1.47 1.35L5.41 20z\"/>\n",
              "  </svg>\n",
              "      </button>\n",
              "      \n",
              "  <style>\n",
              "    .colab-df-container {\n",
              "      display:flex;\n",
              "      flex-wrap:wrap;\n",
              "      gap: 12px;\n",
              "    }\n",
              "\n",
              "    .colab-df-convert {\n",
              "      background-color: #E8F0FE;\n",
              "      border: none;\n",
              "      border-radius: 50%;\n",
              "      cursor: pointer;\n",
              "      display: none;\n",
              "      fill: #1967D2;\n",
              "      height: 32px;\n",
              "      padding: 0 0 0 0;\n",
              "      width: 32px;\n",
              "    }\n",
              "\n",
              "    .colab-df-convert:hover {\n",
              "      background-color: #E2EBFA;\n",
              "      box-shadow: 0px 1px 2px rgba(60, 64, 67, 0.3), 0px 1px 3px 1px rgba(60, 64, 67, 0.15);\n",
              "      fill: #174EA6;\n",
              "    }\n",
              "\n",
              "    [theme=dark] .colab-df-convert {\n",
              "      background-color: #3B4455;\n",
              "      fill: #D2E3FC;\n",
              "    }\n",
              "\n",
              "    [theme=dark] .colab-df-convert:hover {\n",
              "      background-color: #434B5C;\n",
              "      box-shadow: 0px 1px 3px 1px rgba(0, 0, 0, 0.15);\n",
              "      filter: drop-shadow(0px 1px 2px rgba(0, 0, 0, 0.3));\n",
              "      fill: #FFFFFF;\n",
              "    }\n",
              "  </style>\n",
              "\n",
              "      <script>\n",
              "        const buttonEl =\n",
              "          document.querySelector('#df-fc4f4e3d-413b-41f7-af8c-d4f291b3d177 button.colab-df-convert');\n",
              "        buttonEl.style.display =\n",
              "          google.colab.kernel.accessAllowed ? 'block' : 'none';\n",
              "\n",
              "        async function convertToInteractive(key) {\n",
              "          const element = document.querySelector('#df-fc4f4e3d-413b-41f7-af8c-d4f291b3d177');\n",
              "          const dataTable =\n",
              "            await google.colab.kernel.invokeFunction('convertToInteractive',\n",
              "                                                     [key], {});\n",
              "          if (!dataTable) return;\n",
              "\n",
              "          const docLinkHtml = 'Like what you see? Visit the ' +\n",
              "            '<a target=\"_blank\" href=https://colab.research.google.com/notebooks/data_table.ipynb>data table notebook</a>'\n",
              "            + ' to learn more about interactive tables.';\n",
              "          element.innerHTML = '';\n",
              "          dataTable['output_type'] = 'display_data';\n",
              "          await google.colab.output.renderOutput(dataTable, element);\n",
              "          const docLink = document.createElement('div');\n",
              "          docLink.innerHTML = docLinkHtml;\n",
              "          element.appendChild(docLink);\n",
              "        }\n",
              "      </script>\n",
              "    </div>\n",
              "  </div>\n",
              "  "
            ]
          },
          "metadata": {},
          "execution_count": 64
        }
      ]
    },
    {
      "cell_type": "code",
      "source": [
        "model_run(SVC(C=0.1, gamma=0.1, kernel='rbf'), X_train_ad, X_test_ad, y_train_ad, y_test_ad, test_ad, unprivileged_adult, privileged_adult)"
      ],
      "metadata": {
        "colab": {
          "base_uri": "https://localhost:8080/"
        },
        "id": "bxfTDcAIBg8Y",
        "outputId": "fa0ee3d7-ab42-4a11-ca5f-ac0c564d47c5"
      },
      "execution_count": 48,
      "outputs": [
        {
          "output_type": "stream",
          "name": "stdout",
          "text": [
            "Accuracy on test:  80.47 %\n",
            "Equal opportunity difference:  -0.429\n",
            "Disparate Impact:  0.0\n",
            "[[10516   675]\n",
            " [ 2187  1275]]\n"
          ]
        }
      ]
    },
    {
      "cell_type": "code",
      "source": [
        "weighted_model_run(SVC(C=0.1, gamma=0.01, kernel='rbf'), X_train_ad, X_test_ad, y_train_ad, y_test_ad, test_ad, unprivileged_adult, privileged_adult, train_ad.instance_weights)"
      ],
      "metadata": {
        "colab": {
          "base_uri": "https://localhost:8080/"
        },
        "id": "WoW-oVWHBhxe",
        "outputId": "84ed28e4-25bf-4ad7-bd5e-5c6bf56f2b2c"
      },
      "execution_count": 65,
      "outputs": [
        {
          "output_type": "stream",
          "name": "stdout",
          "text": [
            "Accuracy on test:  78.78 %\n",
            "Equal opportunity difference:  0.035\n",
            "Disparate Impact:  0.716\n",
            "[[9979 1212]\n",
            " [1897 1565]]\n"
          ]
        }
      ]
    },
    {
      "cell_type": "markdown",
      "source": [
        "## For German dataset"
      ],
      "metadata": {
        "id": "Oe9Y66GSKa0X"
      }
    },
    {
      "cell_type": "code",
      "source": [
        "nw_german = scoring_models(df_german)\n",
        "rewt_german = scoring_models(df_german_rw)"
      ],
      "metadata": {
        "id": "5EUfNLkjKaNq"
      },
      "execution_count": null,
      "outputs": []
    },
    {
      "cell_type": "code",
      "source": [
        "nw_german"
      ],
      "metadata": {
        "colab": {
          "base_uri": "https://localhost:8080/",
          "height": 424
        },
        "id": "T3Hvxl8bKmc8",
        "outputId": "9e103655-0a48-4b1b-8c52-19cb896930f9"
      },
      "execution_count": 68,
      "outputs": [
        {
          "output_type": "execute_result",
          "data": {
            "text/plain": [
              "                     Hyperparameters  Accuracy  Equality difference  \\\n",
              "58                 C=0.6_gamma=0.889     71.86                  0.0   \n",
              "53                 C=0.6_gamma=0.334     71.86                  0.0   \n",
              "55                 C=0.6_gamma=0.556     71.86                  0.0   \n",
              "56                 C=0.6_gamma=0.667     71.86                  0.0   \n",
              "57                 C=0.6_gamma=0.778     71.86                  0.0   \n",
              "..                               ...       ...                  ...   \n",
              "1                  C=0.1_gamma=0.112     69.86                  0.0   \n",
              "60  C=0.7000000000000001_gamma=0.001     69.86                  0.0   \n",
              "99                   C=1.0_gamma=1.0     69.86                  0.0   \n",
              "81                 C=0.9_gamma=0.112     69.57                  0.0   \n",
              "91                 C=1.0_gamma=0.112     69.14                  0.0   \n",
              "\n",
              "    Absolute difference  Accuracy score  Fairness score  Total_score  \n",
              "58                  0.0            10.0             1.0         11.0  \n",
              "53                  0.0            10.0             1.0         11.0  \n",
              "55                  0.0            10.0             1.0         11.0  \n",
              "56                  0.0            10.0             1.0         11.0  \n",
              "57                  0.0            10.0             1.0         11.0  \n",
              "..                  ...             ...             ...          ...  \n",
              "1                   0.0             3.0             1.0          4.0  \n",
              "60                  0.0             3.0             1.0          4.0  \n",
              "99                  0.0             3.0             1.0          4.0  \n",
              "81                  0.0             2.0             1.0          3.0  \n",
              "91                  0.0             1.0             1.0          2.0  \n",
              "\n",
              "[100 rows x 7 columns]"
            ],
            "text/html": [
              "\n",
              "  <div id=\"df-7bbd52ce-7b7f-478c-a765-f90e54296fd5\">\n",
              "    <div class=\"colab-df-container\">\n",
              "      <div>\n",
              "<style scoped>\n",
              "    .dataframe tbody tr th:only-of-type {\n",
              "        vertical-align: middle;\n",
              "    }\n",
              "\n",
              "    .dataframe tbody tr th {\n",
              "        vertical-align: top;\n",
              "    }\n",
              "\n",
              "    .dataframe thead th {\n",
              "        text-align: right;\n",
              "    }\n",
              "</style>\n",
              "<table border=\"1\" class=\"dataframe\">\n",
              "  <thead>\n",
              "    <tr style=\"text-align: right;\">\n",
              "      <th></th>\n",
              "      <th>Hyperparameters</th>\n",
              "      <th>Accuracy</th>\n",
              "      <th>Equality difference</th>\n",
              "      <th>Absolute difference</th>\n",
              "      <th>Accuracy score</th>\n",
              "      <th>Fairness score</th>\n",
              "      <th>Total_score</th>\n",
              "    </tr>\n",
              "  </thead>\n",
              "  <tbody>\n",
              "    <tr>\n",
              "      <th>58</th>\n",
              "      <td>C=0.6_gamma=0.889</td>\n",
              "      <td>71.86</td>\n",
              "      <td>0.0</td>\n",
              "      <td>0.0</td>\n",
              "      <td>10.0</td>\n",
              "      <td>1.0</td>\n",
              "      <td>11.0</td>\n",
              "    </tr>\n",
              "    <tr>\n",
              "      <th>53</th>\n",
              "      <td>C=0.6_gamma=0.334</td>\n",
              "      <td>71.86</td>\n",
              "      <td>0.0</td>\n",
              "      <td>0.0</td>\n",
              "      <td>10.0</td>\n",
              "      <td>1.0</td>\n",
              "      <td>11.0</td>\n",
              "    </tr>\n",
              "    <tr>\n",
              "      <th>55</th>\n",
              "      <td>C=0.6_gamma=0.556</td>\n",
              "      <td>71.86</td>\n",
              "      <td>0.0</td>\n",
              "      <td>0.0</td>\n",
              "      <td>10.0</td>\n",
              "      <td>1.0</td>\n",
              "      <td>11.0</td>\n",
              "    </tr>\n",
              "    <tr>\n",
              "      <th>56</th>\n",
              "      <td>C=0.6_gamma=0.667</td>\n",
              "      <td>71.86</td>\n",
              "      <td>0.0</td>\n",
              "      <td>0.0</td>\n",
              "      <td>10.0</td>\n",
              "      <td>1.0</td>\n",
              "      <td>11.0</td>\n",
              "    </tr>\n",
              "    <tr>\n",
              "      <th>57</th>\n",
              "      <td>C=0.6_gamma=0.778</td>\n",
              "      <td>71.86</td>\n",
              "      <td>0.0</td>\n",
              "      <td>0.0</td>\n",
              "      <td>10.0</td>\n",
              "      <td>1.0</td>\n",
              "      <td>11.0</td>\n",
              "    </tr>\n",
              "    <tr>\n",
              "      <th>...</th>\n",
              "      <td>...</td>\n",
              "      <td>...</td>\n",
              "      <td>...</td>\n",
              "      <td>...</td>\n",
              "      <td>...</td>\n",
              "      <td>...</td>\n",
              "      <td>...</td>\n",
              "    </tr>\n",
              "    <tr>\n",
              "      <th>1</th>\n",
              "      <td>C=0.1_gamma=0.112</td>\n",
              "      <td>69.86</td>\n",
              "      <td>0.0</td>\n",
              "      <td>0.0</td>\n",
              "      <td>3.0</td>\n",
              "      <td>1.0</td>\n",
              "      <td>4.0</td>\n",
              "    </tr>\n",
              "    <tr>\n",
              "      <th>60</th>\n",
              "      <td>C=0.7000000000000001_gamma=0.001</td>\n",
              "      <td>69.86</td>\n",
              "      <td>0.0</td>\n",
              "      <td>0.0</td>\n",
              "      <td>3.0</td>\n",
              "      <td>1.0</td>\n",
              "      <td>4.0</td>\n",
              "    </tr>\n",
              "    <tr>\n",
              "      <th>99</th>\n",
              "      <td>C=1.0_gamma=1.0</td>\n",
              "      <td>69.86</td>\n",
              "      <td>0.0</td>\n",
              "      <td>0.0</td>\n",
              "      <td>3.0</td>\n",
              "      <td>1.0</td>\n",
              "      <td>4.0</td>\n",
              "    </tr>\n",
              "    <tr>\n",
              "      <th>81</th>\n",
              "      <td>C=0.9_gamma=0.112</td>\n",
              "      <td>69.57</td>\n",
              "      <td>0.0</td>\n",
              "      <td>0.0</td>\n",
              "      <td>2.0</td>\n",
              "      <td>1.0</td>\n",
              "      <td>3.0</td>\n",
              "    </tr>\n",
              "    <tr>\n",
              "      <th>91</th>\n",
              "      <td>C=1.0_gamma=0.112</td>\n",
              "      <td>69.14</td>\n",
              "      <td>0.0</td>\n",
              "      <td>0.0</td>\n",
              "      <td>1.0</td>\n",
              "      <td>1.0</td>\n",
              "      <td>2.0</td>\n",
              "    </tr>\n",
              "  </tbody>\n",
              "</table>\n",
              "<p>100 rows × 7 columns</p>\n",
              "</div>\n",
              "      <button class=\"colab-df-convert\" onclick=\"convertToInteractive('df-7bbd52ce-7b7f-478c-a765-f90e54296fd5')\"\n",
              "              title=\"Convert this dataframe to an interactive table.\"\n",
              "              style=\"display:none;\">\n",
              "        \n",
              "  <svg xmlns=\"http://www.w3.org/2000/svg\" height=\"24px\"viewBox=\"0 0 24 24\"\n",
              "       width=\"24px\">\n",
              "    <path d=\"M0 0h24v24H0V0z\" fill=\"none\"/>\n",
              "    <path d=\"M18.56 5.44l.94 2.06.94-2.06 2.06-.94-2.06-.94-.94-2.06-.94 2.06-2.06.94zm-11 1L8.5 8.5l.94-2.06 2.06-.94-2.06-.94L8.5 2.5l-.94 2.06-2.06.94zm10 10l.94 2.06.94-2.06 2.06-.94-2.06-.94-.94-2.06-.94 2.06-2.06.94z\"/><path d=\"M17.41 7.96l-1.37-1.37c-.4-.4-.92-.59-1.43-.59-.52 0-1.04.2-1.43.59L10.3 9.45l-7.72 7.72c-.78.78-.78 2.05 0 2.83L4 21.41c.39.39.9.59 1.41.59.51 0 1.02-.2 1.41-.59l7.78-7.78 2.81-2.81c.8-.78.8-2.07 0-2.86zM5.41 20L4 18.59l7.72-7.72 1.47 1.35L5.41 20z\"/>\n",
              "  </svg>\n",
              "      </button>\n",
              "      \n",
              "  <style>\n",
              "    .colab-df-container {\n",
              "      display:flex;\n",
              "      flex-wrap:wrap;\n",
              "      gap: 12px;\n",
              "    }\n",
              "\n",
              "    .colab-df-convert {\n",
              "      background-color: #E8F0FE;\n",
              "      border: none;\n",
              "      border-radius: 50%;\n",
              "      cursor: pointer;\n",
              "      display: none;\n",
              "      fill: #1967D2;\n",
              "      height: 32px;\n",
              "      padding: 0 0 0 0;\n",
              "      width: 32px;\n",
              "    }\n",
              "\n",
              "    .colab-df-convert:hover {\n",
              "      background-color: #E2EBFA;\n",
              "      box-shadow: 0px 1px 2px rgba(60, 64, 67, 0.3), 0px 1px 3px 1px rgba(60, 64, 67, 0.15);\n",
              "      fill: #174EA6;\n",
              "    }\n",
              "\n",
              "    [theme=dark] .colab-df-convert {\n",
              "      background-color: #3B4455;\n",
              "      fill: #D2E3FC;\n",
              "    }\n",
              "\n",
              "    [theme=dark] .colab-df-convert:hover {\n",
              "      background-color: #434B5C;\n",
              "      box-shadow: 0px 1px 3px 1px rgba(0, 0, 0, 0.15);\n",
              "      filter: drop-shadow(0px 1px 2px rgba(0, 0, 0, 0.3));\n",
              "      fill: #FFFFFF;\n",
              "    }\n",
              "  </style>\n",
              "\n",
              "      <script>\n",
              "        const buttonEl =\n",
              "          document.querySelector('#df-7bbd52ce-7b7f-478c-a765-f90e54296fd5 button.colab-df-convert');\n",
              "        buttonEl.style.display =\n",
              "          google.colab.kernel.accessAllowed ? 'block' : 'none';\n",
              "\n",
              "        async function convertToInteractive(key) {\n",
              "          const element = document.querySelector('#df-7bbd52ce-7b7f-478c-a765-f90e54296fd5');\n",
              "          const dataTable =\n",
              "            await google.colab.kernel.invokeFunction('convertToInteractive',\n",
              "                                                     [key], {});\n",
              "          if (!dataTable) return;\n",
              "\n",
              "          const docLinkHtml = 'Like what you see? Visit the ' +\n",
              "            '<a target=\"_blank\" href=https://colab.research.google.com/notebooks/data_table.ipynb>data table notebook</a>'\n",
              "            + ' to learn more about interactive tables.';\n",
              "          element.innerHTML = '';\n",
              "          dataTable['output_type'] = 'display_data';\n",
              "          await google.colab.output.renderOutput(dataTable, element);\n",
              "          const docLink = document.createElement('div');\n",
              "          docLink.innerHTML = docLinkHtml;\n",
              "          element.appendChild(docLink);\n",
              "        }\n",
              "      </script>\n",
              "    </div>\n",
              "  </div>\n",
              "  "
            ]
          },
          "metadata": {},
          "execution_count": 68
        }
      ]
    },
    {
      "cell_type": "code",
      "source": [
        "rewt_german"
      ],
      "metadata": {
        "colab": {
          "base_uri": "https://localhost:8080/",
          "height": 424
        },
        "id": "PUe03pJHKoQB",
        "outputId": "947a6902-4266-44f6-a638-0d84e1558eda"
      },
      "execution_count": 69,
      "outputs": [
        {
          "output_type": "execute_result",
          "data": {
            "text/plain": [
              "                                     Hyperparameters  Accuracy  \\\n",
              "91     C=0.2894736842105263_gamma=0.5793684210526315     71.14   \n",
              "92     C=0.2894736842105263_gamma=0.6319473684210526     71.14   \n",
              "93     C=0.2894736842105263_gamma=0.6845263157894736     71.14   \n",
              "94     C=0.2894736842105263_gamma=0.7371052631578947     71.14   \n",
              "95     C=0.2894736842105263_gamma=0.7896842105263158     71.14   \n",
              "..                                               ...       ...   \n",
              "82     C=0.2894736842105263_gamma=0.1061578947368421     69.86   \n",
              "81    C=0.2894736842105263_gamma=0.05357894736842105     69.86   \n",
              "80                  C=0.2894736842105263_gamma=0.001     69.86   \n",
              "63   C=0.24210526315789474_gamma=0.15873684210526315     69.86   \n",
              "200                 C=0.5736842105263158_gamma=0.001     69.86   \n",
              "\n",
              "     Equality difference  Absolute difference  Accuracy score  Fairness score  \\\n",
              "91                   0.0                  0.0            10.0             1.0   \n",
              "92                   0.0                  0.0            10.0             1.0   \n",
              "93                   0.0                  0.0            10.0             1.0   \n",
              "94                   0.0                  0.0            10.0             1.0   \n",
              "95                   0.0                  0.0            10.0             1.0   \n",
              "..                   ...                  ...             ...             ...   \n",
              "82                   0.0                  0.0             1.0             1.0   \n",
              "81                   0.0                  0.0             1.0             1.0   \n",
              "80                   0.0                  0.0             1.0             1.0   \n",
              "63                   0.0                  0.0             1.0             1.0   \n",
              "200                  0.0                  0.0             1.0             1.0   \n",
              "\n",
              "     Total_score  \n",
              "91          11.0  \n",
              "92          11.0  \n",
              "93          11.0  \n",
              "94          11.0  \n",
              "95          11.0  \n",
              "..           ...  \n",
              "82           2.0  \n",
              "81           2.0  \n",
              "80           2.0  \n",
              "63           2.0  \n",
              "200          2.0  \n",
              "\n",
              "[400 rows x 7 columns]"
            ],
            "text/html": [
              "\n",
              "  <div id=\"df-430ed734-4c1d-48e4-a79c-b701c5efff26\">\n",
              "    <div class=\"colab-df-container\">\n",
              "      <div>\n",
              "<style scoped>\n",
              "    .dataframe tbody tr th:only-of-type {\n",
              "        vertical-align: middle;\n",
              "    }\n",
              "\n",
              "    .dataframe tbody tr th {\n",
              "        vertical-align: top;\n",
              "    }\n",
              "\n",
              "    .dataframe thead th {\n",
              "        text-align: right;\n",
              "    }\n",
              "</style>\n",
              "<table border=\"1\" class=\"dataframe\">\n",
              "  <thead>\n",
              "    <tr style=\"text-align: right;\">\n",
              "      <th></th>\n",
              "      <th>Hyperparameters</th>\n",
              "      <th>Accuracy</th>\n",
              "      <th>Equality difference</th>\n",
              "      <th>Absolute difference</th>\n",
              "      <th>Accuracy score</th>\n",
              "      <th>Fairness score</th>\n",
              "      <th>Total_score</th>\n",
              "    </tr>\n",
              "  </thead>\n",
              "  <tbody>\n",
              "    <tr>\n",
              "      <th>91</th>\n",
              "      <td>C=0.2894736842105263_gamma=0.5793684210526315</td>\n",
              "      <td>71.14</td>\n",
              "      <td>0.0</td>\n",
              "      <td>0.0</td>\n",
              "      <td>10.0</td>\n",
              "      <td>1.0</td>\n",
              "      <td>11.0</td>\n",
              "    </tr>\n",
              "    <tr>\n",
              "      <th>92</th>\n",
              "      <td>C=0.2894736842105263_gamma=0.6319473684210526</td>\n",
              "      <td>71.14</td>\n",
              "      <td>0.0</td>\n",
              "      <td>0.0</td>\n",
              "      <td>10.0</td>\n",
              "      <td>1.0</td>\n",
              "      <td>11.0</td>\n",
              "    </tr>\n",
              "    <tr>\n",
              "      <th>93</th>\n",
              "      <td>C=0.2894736842105263_gamma=0.6845263157894736</td>\n",
              "      <td>71.14</td>\n",
              "      <td>0.0</td>\n",
              "      <td>0.0</td>\n",
              "      <td>10.0</td>\n",
              "      <td>1.0</td>\n",
              "      <td>11.0</td>\n",
              "    </tr>\n",
              "    <tr>\n",
              "      <th>94</th>\n",
              "      <td>C=0.2894736842105263_gamma=0.7371052631578947</td>\n",
              "      <td>71.14</td>\n",
              "      <td>0.0</td>\n",
              "      <td>0.0</td>\n",
              "      <td>10.0</td>\n",
              "      <td>1.0</td>\n",
              "      <td>11.0</td>\n",
              "    </tr>\n",
              "    <tr>\n",
              "      <th>95</th>\n",
              "      <td>C=0.2894736842105263_gamma=0.7896842105263158</td>\n",
              "      <td>71.14</td>\n",
              "      <td>0.0</td>\n",
              "      <td>0.0</td>\n",
              "      <td>10.0</td>\n",
              "      <td>1.0</td>\n",
              "      <td>11.0</td>\n",
              "    </tr>\n",
              "    <tr>\n",
              "      <th>...</th>\n",
              "      <td>...</td>\n",
              "      <td>...</td>\n",
              "      <td>...</td>\n",
              "      <td>...</td>\n",
              "      <td>...</td>\n",
              "      <td>...</td>\n",
              "      <td>...</td>\n",
              "    </tr>\n",
              "    <tr>\n",
              "      <th>82</th>\n",
              "      <td>C=0.2894736842105263_gamma=0.1061578947368421</td>\n",
              "      <td>69.86</td>\n",
              "      <td>0.0</td>\n",
              "      <td>0.0</td>\n",
              "      <td>1.0</td>\n",
              "      <td>1.0</td>\n",
              "      <td>2.0</td>\n",
              "    </tr>\n",
              "    <tr>\n",
              "      <th>81</th>\n",
              "      <td>C=0.2894736842105263_gamma=0.05357894736842105</td>\n",
              "      <td>69.86</td>\n",
              "      <td>0.0</td>\n",
              "      <td>0.0</td>\n",
              "      <td>1.0</td>\n",
              "      <td>1.0</td>\n",
              "      <td>2.0</td>\n",
              "    </tr>\n",
              "    <tr>\n",
              "      <th>80</th>\n",
              "      <td>C=0.2894736842105263_gamma=0.001</td>\n",
              "      <td>69.86</td>\n",
              "      <td>0.0</td>\n",
              "      <td>0.0</td>\n",
              "      <td>1.0</td>\n",
              "      <td>1.0</td>\n",
              "      <td>2.0</td>\n",
              "    </tr>\n",
              "    <tr>\n",
              "      <th>63</th>\n",
              "      <td>C=0.24210526315789474_gamma=0.15873684210526315</td>\n",
              "      <td>69.86</td>\n",
              "      <td>0.0</td>\n",
              "      <td>0.0</td>\n",
              "      <td>1.0</td>\n",
              "      <td>1.0</td>\n",
              "      <td>2.0</td>\n",
              "    </tr>\n",
              "    <tr>\n",
              "      <th>200</th>\n",
              "      <td>C=0.5736842105263158_gamma=0.001</td>\n",
              "      <td>69.86</td>\n",
              "      <td>0.0</td>\n",
              "      <td>0.0</td>\n",
              "      <td>1.0</td>\n",
              "      <td>1.0</td>\n",
              "      <td>2.0</td>\n",
              "    </tr>\n",
              "  </tbody>\n",
              "</table>\n",
              "<p>400 rows × 7 columns</p>\n",
              "</div>\n",
              "      <button class=\"colab-df-convert\" onclick=\"convertToInteractive('df-430ed734-4c1d-48e4-a79c-b701c5efff26')\"\n",
              "              title=\"Convert this dataframe to an interactive table.\"\n",
              "              style=\"display:none;\">\n",
              "        \n",
              "  <svg xmlns=\"http://www.w3.org/2000/svg\" height=\"24px\"viewBox=\"0 0 24 24\"\n",
              "       width=\"24px\">\n",
              "    <path d=\"M0 0h24v24H0V0z\" fill=\"none\"/>\n",
              "    <path d=\"M18.56 5.44l.94 2.06.94-2.06 2.06-.94-2.06-.94-.94-2.06-.94 2.06-2.06.94zm-11 1L8.5 8.5l.94-2.06 2.06-.94-2.06-.94L8.5 2.5l-.94 2.06-2.06.94zm10 10l.94 2.06.94-2.06 2.06-.94-2.06-.94-.94-2.06-.94 2.06-2.06.94z\"/><path d=\"M17.41 7.96l-1.37-1.37c-.4-.4-.92-.59-1.43-.59-.52 0-1.04.2-1.43.59L10.3 9.45l-7.72 7.72c-.78.78-.78 2.05 0 2.83L4 21.41c.39.39.9.59 1.41.59.51 0 1.02-.2 1.41-.59l7.78-7.78 2.81-2.81c.8-.78.8-2.07 0-2.86zM5.41 20L4 18.59l7.72-7.72 1.47 1.35L5.41 20z\"/>\n",
              "  </svg>\n",
              "      </button>\n",
              "      \n",
              "  <style>\n",
              "    .colab-df-container {\n",
              "      display:flex;\n",
              "      flex-wrap:wrap;\n",
              "      gap: 12px;\n",
              "    }\n",
              "\n",
              "    .colab-df-convert {\n",
              "      background-color: #E8F0FE;\n",
              "      border: none;\n",
              "      border-radius: 50%;\n",
              "      cursor: pointer;\n",
              "      display: none;\n",
              "      fill: #1967D2;\n",
              "      height: 32px;\n",
              "      padding: 0 0 0 0;\n",
              "      width: 32px;\n",
              "    }\n",
              "\n",
              "    .colab-df-convert:hover {\n",
              "      background-color: #E2EBFA;\n",
              "      box-shadow: 0px 1px 2px rgba(60, 64, 67, 0.3), 0px 1px 3px 1px rgba(60, 64, 67, 0.15);\n",
              "      fill: #174EA6;\n",
              "    }\n",
              "\n",
              "    [theme=dark] .colab-df-convert {\n",
              "      background-color: #3B4455;\n",
              "      fill: #D2E3FC;\n",
              "    }\n",
              "\n",
              "    [theme=dark] .colab-df-convert:hover {\n",
              "      background-color: #434B5C;\n",
              "      box-shadow: 0px 1px 3px 1px rgba(0, 0, 0, 0.15);\n",
              "      filter: drop-shadow(0px 1px 2px rgba(0, 0, 0, 0.3));\n",
              "      fill: #FFFFFF;\n",
              "    }\n",
              "  </style>\n",
              "\n",
              "      <script>\n",
              "        const buttonEl =\n",
              "          document.querySelector('#df-430ed734-4c1d-48e4-a79c-b701c5efff26 button.colab-df-convert');\n",
              "        buttonEl.style.display =\n",
              "          google.colab.kernel.accessAllowed ? 'block' : 'none';\n",
              "\n",
              "        async function convertToInteractive(key) {\n",
              "          const element = document.querySelector('#df-430ed734-4c1d-48e4-a79c-b701c5efff26');\n",
              "          const dataTable =\n",
              "            await google.colab.kernel.invokeFunction('convertToInteractive',\n",
              "                                                     [key], {});\n",
              "          if (!dataTable) return;\n",
              "\n",
              "          const docLinkHtml = 'Like what you see? Visit the ' +\n",
              "            '<a target=\"_blank\" href=https://colab.research.google.com/notebooks/data_table.ipynb>data table notebook</a>'\n",
              "            + ' to learn more about interactive tables.';\n",
              "          element.innerHTML = '';\n",
              "          dataTable['output_type'] = 'display_data';\n",
              "          await google.colab.output.renderOutput(dataTable, element);\n",
              "          const docLink = document.createElement('div');\n",
              "          docLink.innerHTML = docLinkHtml;\n",
              "          element.appendChild(docLink);\n",
              "        }\n",
              "      </script>\n",
              "    </div>\n",
              "  </div>\n",
              "  "
            ]
          },
          "metadata": {},
          "execution_count": 69
        }
      ]
    },
    {
      "cell_type": "code",
      "source": [
        "model_run(SVC(C=0.6, gamma=0.889, kernel='rbf'), X_train_ge, X_test_ge, y_train_ge, y_test_ge, test_ge, unprivileged_german, privileged_german)"
      ],
      "metadata": {
        "colab": {
          "base_uri": "https://localhost:8080/"
        },
        "id": "-yhK35lpKx20",
        "outputId": "ad71e270-606e-47af-dd98-3ecba1af090b"
      },
      "execution_count": 71,
      "outputs": [
        {
          "output_type": "stream",
          "name": "stdout",
          "text": [
            "Accuracy on test:  71.67 %\n",
            "Equal opportunity difference:  -0.067\n",
            "Disparate Impact:  0.838\n",
            "[[203   8]\n",
            " [ 77  12]]\n"
          ]
        }
      ]
    },
    {
      "cell_type": "code",
      "source": [
        "weighted_model_run(SVC(C=0.2894736842105263, gamma=0.5793684210526315, kernel='rbf'), X_train_ge, X_test_ge, y_train_ge, y_test_ge, test_ge, unprivileged_german, privileged_german, train_ge.instance_weights)"
      ],
      "metadata": {
        "colab": {
          "base_uri": "https://localhost:8080/"
        },
        "id": "OytW7AgYK4xE",
        "outputId": "745babb2-b1d1-4bd0-f1a7-56d9193e0e31"
      },
      "execution_count": 73,
      "outputs": [
        {
          "output_type": "stream",
          "name": "stdout",
          "text": [
            "Accuracy on test:  69.67 %\n",
            "Equal opportunity difference:  0.02\n",
            "Disparate Impact:  1.019\n",
            "[[208   3]\n",
            " [ 88   1]]\n"
          ]
        }
      ]
    }
  ]
}