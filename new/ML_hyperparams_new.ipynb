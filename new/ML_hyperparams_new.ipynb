{
  "cells": [
    {
      "cell_type": "code",
      "execution_count": null,
      "id": "49b25615",
      "metadata": {
        "id": "49b25615"
      },
      "outputs": [],
      "source": [
        "!pip install 'aif360[LFR]'"
      ]
    },
    {
      "cell_type": "code",
      "execution_count": null,
      "id": "b1cfcb5e",
      "metadata": {
        "id": "b1cfcb5e"
      },
      "outputs": [],
      "source": [
        "pip install fairlearn"
      ]
    },
    {
      "cell_type": "code",
      "execution_count": null,
      "id": "07827e6c",
      "metadata": {
        "id": "07827e6c"
      },
      "outputs": [],
      "source": [
        "pip install scikit-lego"
      ]
    },
    {
      "cell_type": "code",
      "execution_count": 4,
      "id": "39bc035b",
      "metadata": {
        "colab": {
          "base_uri": "https://localhost:8080/"
        },
        "id": "39bc035b",
        "outputId": "66031a5a-5407-47c4-f78d-fad4078dda9f"
      },
      "outputs": [
        {
          "output_type": "stream",
          "name": "stdout",
          "text": [
            "/usr/local/lib/python3.8/dist-packages/aif360/data/raw/german\n"
          ]
        }
      ],
      "source": [
        "cd /usr/local/lib/python3.8/dist-packages/aif360/data/raw/german"
      ]
    },
    {
      "cell_type": "code",
      "execution_count": null,
      "id": "5c26ef21",
      "metadata": {
        "id": "5c26ef21"
      },
      "outputs": [],
      "source": [
        "!wget https://archive.ics.uci.edu/ml/machine-learning-databases/statlog/german/german.data\n",
        "!wget https://archive.ics.uci.edu/ml/machine-learning-databases/statlog/german/german.doc"
      ]
    },
    {
      "cell_type": "code",
      "execution_count": 175,
      "id": "99f6cb1d",
      "metadata": {
        "id": "99f6cb1d"
      },
      "outputs": [],
      "source": [
        "import numpy as np\n",
        "import pandas as pd\n",
        "from aif360.datasets import GermanDataset\n",
        "from aif360.algorithms.preprocessing.optim_preproc_helpers.data_preproc_functions import load_preproc_data_german\n",
        "from aif360.metrics import ClassificationMetric\n",
        "from aif360.algorithms.preprocessing.reweighing import Reweighing\n",
        "import random\n",
        "from sklearn.preprocessing import StandardScaler\n",
        "from sklearn.model_selection import StratifiedKFold, GridSearchCV\n",
        "from sklearn.linear_model import LogisticRegression\n",
        "from sklearn.naive_bayes import GaussianNB\n",
        "from sklearn.ensemble import RandomForestClassifier\n",
        "from sklearn.neighbors import KNeighborsClassifier\n",
        "from sklearn import svm, metrics\n",
        "import matplotlib.pyplot as plt\n",
        "from google.colab import files\n",
        "import warnings\n",
        "warnings.filterwarnings('ignore')\n",
        "\n",
        "\n",
        "np.random.seed(0)"
      ]
    },
    {
      "cell_type": "markdown",
      "source": [
        "# Load dataset"
      ],
      "metadata": {
        "id": "4khs6HTNQm7j"
      },
      "id": "4khs6HTNQm7j"
    },
    {
      "cell_type": "code",
      "execution_count": 176,
      "id": "9d427029",
      "metadata": {
        "id": "9d427029"
      },
      "outputs": [],
      "source": [
        "dataset = load_preproc_data_german"
      ]
    },
    {
      "cell_type": "code",
      "execution_count": 339,
      "id": "e97b61ff",
      "metadata": {
        "id": "e97b61ff"
      },
      "outputs": [],
      "source": [
        "# privileged = [{'sex': 1}]\n",
        "# unprivileged = [{'sex': 0}]\n",
        "# dataset_original = dataset(['sex'])\n",
        "\n",
        "privileged = [{'age': 1}]\n",
        "unprivileged = [{'age': 0}]\n",
        "dataset_original = dataset(['age'])\n",
        "\n",
        "scale_orig = StandardScaler()"
      ]
    },
    {
      "cell_type": "code",
      "source": [
        "abv_25 = 0\n",
        "bel_25 = 0\n",
        "\n",
        "sex_m = 0\n",
        "sex_f = 0\n",
        "\n",
        "cred_good = 0\n",
        "cred_del = 0\n",
        "cred_oth = 0\n",
        "\n",
        "sav_b500 = 0\n",
        "sav_a500 = 0\n",
        "sav_unk = 0\n",
        "\n",
        "emp_lw = 0\n",
        "emp_hi = 0\n",
        "emp_na = 0\n",
        "\n",
        "for i in range(len(dataset_original.features)):\n",
        "  \n",
        "  if dataset_original.features[i][0]==1:\n",
        "    abv_25+=1\n",
        "  elif dataset_original.features[i][0]==0:\n",
        "    bel_25+=1\n",
        "\n",
        "  if dataset_original.features[i][1]==1:\n",
        "    sex_m+=1\n",
        "  elif dataset_original.features[i][1]==0:\n",
        "    sex_f+=1\n",
        "\n",
        "  cred_good+=dataset_original.features[i][3]\n",
        "  cred_del+=dataset_original.features[i][2]\n",
        "  cred_oth+=dataset_original.features[i][4]\n",
        "\n",
        "  sav_a500+=dataset_original.features[i][5]\n",
        "  sav_b500+=dataset_original.features[i][6]\n",
        "  sav_unk+=dataset_original.features[i][7]\n",
        "\n",
        "  emp_lw+=dataset_original.features[i][8]\n",
        "  emp_hi+=dataset_original.features[i][9]\n",
        "  emp_na+=dataset_original.features[i][10]\n",
        "\n",
        "\n",
        "g_cred = 0\n",
        "b_cred = 0\n",
        "\n",
        "for j in range(len(dataset_original.labels)):\n",
        "  if dataset_original.labels[j][0]==1:\n",
        "    g_cred+=1\n",
        "  if dataset_original.labels[j][0]==2:\n",
        "    b_cred+=1\n",
        "\n",
        "\n",
        "plt.figure(figsize=(25,6))\n",
        "\n",
        "plt.subplot(1,6,1)\n",
        "plt.bar(['above 25', 'below 25'], [abv_25, bel_25], width=0.5)\n",
        "plt.title('Age (years)')\n",
        "\n",
        "plt.subplot(1,6,2)\n",
        "plt.bar(['male', 'female'], [sex_m, sex_f], width=0.5)\n",
        "plt.title('Sex')\n",
        "\n",
        "plt.subplot(1,6,3)\n",
        "plt.bar(['none/paid', 'delayed', 'other'], [cred_good, cred_del, cred_oth], width=0.5)\n",
        "plt.title('Credit history')\n",
        "\n",
        "plt.subplot(1,6,4)\n",
        "plt.bar(['above 500', 'below 500', 'unknown'], [sav_a500, sav_b500, sav_unk], width=0.5)\n",
        "plt.title('Savings')\n",
        "\n",
        "plt.subplot(1,6,5)\n",
        "plt.bar(['at least 4', 'above 4', 'unemployed'], [emp_lw, emp_hi, emp_na], width=0.5)\n",
        "plt.title('Employment (years)')\n",
        "\n",
        "plt.subplot(1,6,6)\n",
        "plt.bar(['good credit', 'bad credit'], [g_cred, b_cred], color='orange', width=0.5)\n",
        "plt.title('Credit status')\n",
        "\n",
        "plt.show()"
      ],
      "metadata": {
        "colab": {
          "base_uri": "https://localhost:8080/",
          "height": 235
        },
        "id": "PHDs7dM6BqY7",
        "outputId": "ed7edc45-64ed-4196-b3ce-045cf1d546ea"
      },
      "id": "PHDs7dM6BqY7",
      "execution_count": 375,
      "outputs": [
        {
          "output_type": "display_data",
          "data": {
            "text/plain": [
              "<Figure size 1800x432 with 6 Axes>"
            ],
            "image/png": "[encoded data removed]"
          },
          "metadata": {
            "needs_background": "light"
          }
        }
      ]
    },
    {
      "cell_type": "markdown",
      "source": [
        "### Check base model performances based on accuracy and TPR difference (for fairness)"
      ],
      "metadata": {
        "id": "nc4jizsJQufI"
      },
      "id": "nc4jizsJQufI"
    },
    {
      "cell_type": "code",
      "source": [
        "accuracies = {'SVC':[], 'RandomForestClassifier':[], 'KNeighborsClassifier':[], 'LogisticRegression':[], 'GaussianNB':[]}\n",
        "fairness = {'SVC':[], 'RandomForestClassifier':[], 'KNeighborsClassifier':[], 'LogisticRegression':[], 'GaussianNB':[]}\n",
        "\n",
        "model_list = [svm.SVC(), RandomForestClassifier(), KNeighborsClassifier(), LogisticRegression(), GaussianNB()]\n",
        "\n",
        "for i in range(500):\n",
        "\n",
        "  train, test = dataset_original.split([0.8], shuffle=True)\n",
        "\n",
        "  X_train = scale_orig.fit_transform(train.features)\n",
        "  y_train = train.labels.ravel()\n",
        "\n",
        "  X_test = scale_orig.transform(test.features) \n",
        "  y_test = test.labels.ravel()\n",
        "\n",
        "  for mod in model_list:\n",
        "    mod_try = mod\n",
        "    try:\n",
        "      mod_try.fit(X_train, y_train, sample_weight=train.instance_weights)\n",
        "    except:\n",
        "      mod_try.fit(X_train, y_train)\n",
        "    predict_test = mod_try.predict(X_test)\n",
        "    test_pred_try = test.copy()\n",
        "    test_pred_try.labels = predict_test\n",
        "\n",
        "    f_metric = ClassificationMetric(test, test_pred_try, unprivileged_groups=unprivileged, privileged_groups=privileged)\n",
        "\n",
        "    accuracies[str(mod)[:-2]].append(round(f_metric.accuracy()*100,2))\n",
        "    v1 = (2*f_metric.precision(privileged=False)*f_metric.recall(privileged=False))/(f_metric.precision(privileged=False)+f_metric.recall(privileged=False))\n",
        "    v2 = (2*f_metric.precision(privileged=True)*f_metric.recall(privileged=True))/(f_metric.precision(privileged=True)+f_metric.recall(privileged=True))\n",
        "    d = v1/v2\n",
        "    fairness[str(mod)[:-2]].append(round(d,2))\n"
      ],
      "metadata": {
        "id": "7t6yLdWszqgi"
      },
      "id": "7t6yLdWszqgi",
      "execution_count": 231,
      "outputs": []
    },
    {
      "cell_type": "code",
      "source": [
        "plt.figure(figsize=(20,5))\n",
        "plt.subplot(1,2,1)\n",
        "plt.plot(list(accuracies.keys()), [np.mean(x) for x in accuracies.values()], color='blue')\n",
        "plt.title('Accuracy')\n",
        "plt.subplot(1,2,2)\n",
        "plt.plot(list(fairness.keys()), [np.mean(x) for x in fairness.values()], color='green')\n",
        "plt.axhline(y=1, color='black', linestyle='dashed')\n",
        "plt.title('F-score ratio')\n",
        "\n",
        "plt.show()"
      ],
      "metadata": {
        "colab": {
          "base_uri": "https://localhost:8080/",
          "height": 248
        },
        "id": "I7PDxeG01FFP",
        "outputId": "ac2e600d-3809-4a08-d01a-dcb9f093956e"
      },
      "id": "I7PDxeG01FFP",
      "execution_count": 232,
      "outputs": [
        {
          "output_type": "display_data",
          "data": {
            "text/plain": [
              "<Figure size 1440x360 with 2 Axes>"
            ],
            "image/png": "[encoded data removed]"
          },
          "metadata": {
            "needs_background": "light"
          }
        }
      ]
    },
    {
      "cell_type": "code",
      "source": [
        "train, test = dataset_original.split([0.8], shuffle=True)\n",
        "# print(\"training data size\", train.features.shape)\n",
        "# print(\"dataset feature names\", train.feature_names)\n",
        "\n",
        "scale_orig = StandardScaler()\n",
        "X_train = scale_orig.fit_transform(train.features)\n",
        "y_train = train.labels.ravel()\n",
        "\n",
        "X_test = scale_orig.transform(test.features) \n",
        "y_test = test.labels.ravel()"
      ],
      "metadata": {
        "id": "pAigSoaUWfjN"
      },
      "id": "pAigSoaUWfjN",
      "execution_count": 397,
      "outputs": []
    },
    {
      "cell_type": "markdown",
      "source": [
        "#### Logistic regression"
      ],
      "metadata": {
        "id": "AiWB_jx7Q_g0"
      },
      "id": "AiWB_jx7Q_g0"
    },
    {
      "cell_type": "code",
      "source": [
        "C = [round(x,2) for x in np.linspace(0.01,1,20)]\n",
        "class_weight = ['balanced', None]\n",
        "multi_class = ['auto', 'ovr', 'multinomial']\n",
        "penalty = ['l1','l2', 'elasticnet', None]\n",
        "solver = ['lbfgs', 'liblinear', 'newton-cg', 'newton-cholesky', 'sag', 'saga']\n",
        "n_jobs = [-1]\n",
        "fit_intercept = [True, False]\n",
        "\n",
        "grid_logreg = {'C': C, 'class_weight': class_weight, 'multi_class':multi_class,\n",
        "               'penalty':penalty, 'solver':solver, 'n_jobs': n_jobs, 'fit_intercept': fit_intercept}"
      ],
      "metadata": {
        "id": "Hob9BN2eJKwR"
      },
      "id": "Hob9BN2eJKwR",
      "execution_count": 299,
      "outputs": []
    },
    {
      "cell_type": "markdown",
      "source": [
        "#### Support vector classifier"
      ],
      "metadata": {
        "id": "-QB3JNL3Zi-E"
      },
      "id": "-QB3JNL3Zi-E"
    },
    {
      "cell_type": "code",
      "source": [
        "C = [round(x,2) for x in np.linspace(0.01,1,20)]\n",
        "kernel = ['linear', 'poly', 'sigmoid', 'rbf']\n",
        "gamma = ['scale', 'auto']+list(np.linspace(0.01,1,5))\n",
        "class_weight = ['balanced', None]\n",
        "\n",
        "grid_svc = {'C': C, 'kernel': kernel, 'gamma': gamma, 'class_weight': class_weight}"
      ],
      "metadata": {
        "id": "twrWpuXxZGac"
      },
      "id": "twrWpuXxZGac",
      "execution_count": 300,
      "outputs": []
    },
    {
      "cell_type": "markdown",
      "source": [
        "#### Find highest accuracy and fairness model parameters using *GridSearchCV*"
      ],
      "metadata": {
        "id": "AsMO5pkac9V9"
      },
      "id": "AsMO5pkac9V9"
    },
    {
      "cell_type": "code",
      "source": [
        "def grid_search(model, params, scoring, X, Y):\n",
        "  grid_mod = GridSearchCV(estimator=model, param_grid=params, cv=5, scoring=scoring)\n",
        "  grid_mod.fit(X,Y)\n",
        "  \n",
        "  return grid_mod"
      ],
      "metadata": {
        "id": "nN6pwM8NWthP"
      },
      "id": "nN6pwM8NWthP",
      "execution_count": 301,
      "outputs": []
    },
    {
      "cell_type": "code",
      "source": [
        "logreg_acc = grid_search(LogisticRegression(), grid_logreg, 'accuracy', X_train, y_train)\n",
        "logreg_fr = grid_search(LogisticRegression(), grid_logreg, 'f1_weighted', X_train, y_train)"
      ],
      "metadata": {
        "id": "wri3dZimXSNG"
      },
      "id": "wri3dZimXSNG",
      "execution_count": 398,
      "outputs": []
    },
    {
      "cell_type": "code",
      "source": [
        "svc_acc = grid_search(svm.SVC(), grid_svc, 'accuracy', X_train, y_train)\n",
        "svc_fr = grid_search(svm.SVC(), grid_svc, 'f1_weighted', X_train, y_train)"
      ],
      "metadata": {
        "id": "K7WWoBaCdLbq"
      },
      "id": "K7WWoBaCdLbq",
      "execution_count": 399,
      "outputs": []
    },
    {
      "cell_type": "code",
      "source": [
        "def try_model(mod_try, X, Y, x, tst, unprivileged, privileged, weights, color):\n",
        "\n",
        "  mod_try.fit(X, Y, sample_weight=weights)\n",
        "  predict_test = mod_try.predict(x)\n",
        "  test_pred_try = tst.copy()\n",
        "  test_pred_try.labels = predict_test\n",
        "\n",
        "  f_metric = ClassificationMetric(tst, test_pred_try, unprivileged_groups=unprivileged, privileged_groups=privileged)\n",
        "\n",
        "  print('Accuracy:',round(f_metric.accuracy()*100,2))\n",
        "  v1 = (2*f_metric.precision(privileged=False)*f_metric.recall(privileged=False))/(f_metric.precision(privileged=False)+f_metric.recall(privileged=False))\n",
        "  v2 = (2*f_metric.precision(privileged=True)*f_metric.recall(privileged=True))/(f_metric.precision(privileged=True)+f_metric.recall(privileged=True))\n",
        "  # d = v1/v2\n",
        "  print('Privileged class F-score:',round(v2,2))\n",
        "  print('Unprivileged class F-score:',round(v1,2), end='\\n\\n')\n",
        "\n",
        "  metrics.ConfusionMatrixDisplay(confusion_matrix = metrics.confusion_matrix(tst.labels, test_pred_try.labels), display_labels = [1, 2]).plot(cmap=color)"
      ],
      "metadata": {
        "id": "qD2RbthLhamN"
      },
      "id": "qD2RbthLhamN",
      "execution_count": 353,
      "outputs": []
    },
    {
      "cell_type": "markdown",
      "source": [
        "#### Logistic regression"
      ],
      "metadata": {
        "id": "GJqo-ctTYVA0"
      },
      "id": "GJqo-ctTYVA0"
    },
    {
      "cell_type": "code",
      "source": [
        "try_model(logreg_acc.best_estimator_, X_train, y_train, X_test, test, unprivileged, privileged, train.instance_weights, 'Blues')"
      ],
      "metadata": {
        "colab": {
          "base_uri": "https://localhost:8080/",
          "height": 348
        },
        "id": "faRHkLHXo4VH",
        "outputId": "ca782b93-20e4-47ab-8a12-8338406d9ee4"
      },
      "id": "faRHkLHXo4VH",
      "execution_count": 400,
      "outputs": [
        {
          "output_type": "stream",
          "name": "stdout",
          "text": [
            "Accuracy: 72.5\n",
            "Privileged class F-score: 0.84\n",
            "Unprivileged class F-score: 0.77\n",
            "\n"
          ]
        },
        {
          "output_type": "display_data",
          "data": {
            "text/plain": [
              "<Figure size 432x288 with 2 Axes>"
            ],
            "image/png": "[encoded data removed]"
          },
          "metadata": {
            "needs_background": "light"
          }
        }
      ]
    },
    {
      "cell_type": "code",
      "source": [
        "try_model(logreg_fr.best_estimator_, X_train, y_train, X_test, test, unprivileged, privileged, train.instance_weights, 'Greens')"
      ],
      "metadata": {
        "colab": {
          "base_uri": "https://localhost:8080/",
          "height": 348
        },
        "id": "Bq4blTqPpC1p",
        "outputId": "10c43159-f73f-4dc0-f0fe-58629252fb1d"
      },
      "id": "Bq4blTqPpC1p",
      "execution_count": 401,
      "outputs": [
        {
          "output_type": "stream",
          "name": "stdout",
          "text": [
            "Accuracy: 70.5\n",
            "Privileged class F-score: 0.83\n",
            "Unprivileged class F-score: 0.69\n",
            "\n"
          ]
        },
        {
          "output_type": "display_data",
          "data": {
            "text/plain": [
              "<Figure size 432x288 with 2 Axes>"
            ],
            "image/png": "[encoded data removed]"
          },
          "metadata": {
            "needs_background": "light"
          }
        }
      ]
    },
    {
      "cell_type": "markdown",
      "source": [
        "#### SVC"
      ],
      "metadata": {
        "id": "tj-efaIhYYRx"
      },
      "id": "tj-efaIhYYRx"
    },
    {
      "cell_type": "code",
      "source": [
        "try_model(svc_acc.best_estimator_, X_train, y_train, X_test, test, unprivileged, privileged, train.instance_weights, 'Blues')"
      ],
      "metadata": {
        "colab": {
          "base_uri": "https://localhost:8080/",
          "height": 348
        },
        "id": "2gMEWmR6pF77",
        "outputId": "d8ccabf5-45a5-4b64-9925-3acf910a2fbc"
      },
      "id": "2gMEWmR6pF77",
      "execution_count": 402,
      "outputs": [
        {
          "output_type": "stream",
          "name": "stdout",
          "text": [
            "Accuracy: 72.0\n",
            "Privileged class F-score: 0.84\n",
            "Unprivileged class F-score: 0.75\n",
            "\n"
          ]
        },
        {
          "output_type": "display_data",
          "data": {
            "text/plain": [
              "<Figure size 432x288 with 2 Axes>"
            ],
            "image/png": "[encoded data removed]"
          },
          "metadata": {
            "needs_background": "light"
          }
        }
      ]
    },
    {
      "cell_type": "code",
      "source": [
        "try_model(svc_fr.best_estimator_, X_train, y_train, X_test, test, unprivileged, privileged, train.instance_weights, 'Greens')"
      ],
      "metadata": {
        "colab": {
          "base_uri": "https://localhost:8080/",
          "height": 348
        },
        "id": "HX_VMzLnpIQL",
        "outputId": "c3b16b57-6e2c-4708-9ee8-1d79ceaa27d7"
      },
      "id": "HX_VMzLnpIQL",
      "execution_count": 403,
      "outputs": [
        {
          "output_type": "stream",
          "name": "stdout",
          "text": [
            "Accuracy: 64.0\n",
            "Privileged class F-score: 0.76\n",
            "Unprivileged class F-score: 0.38\n",
            "\n"
          ]
        },
        {
          "output_type": "display_data",
          "data": {
            "text/plain": [
              "<Figure size 432x288 with 2 Axes>"
            ],
            "image/png": "[encoded data removed]"
          },
          "metadata": {
            "needs_background": "light"
          }
        }
      ]
    },
    {
      "cell_type": "markdown",
      "source": [
        "# Reweighing training dataset"
      ],
      "metadata": {
        "id": "fR7HyNsJSD_N"
      },
      "id": "fR7HyNsJSD_N"
    },
    {
      "cell_type": "code",
      "source": [
        "reweighed = Reweighing(unprivileged_groups=unprivileged, privileged_groups=privileged)\n",
        "\n",
        "train = reweighed.fit_transform(train)\n",
        "test = reweighed.transform(test)\n",
        "\n",
        "X_train = scale_orig.fit_transform(train.features)\n",
        "y_train = train.labels.ravel()\n",
        "\n",
        "X_test = scale_orig.transform(test.features) \n",
        "y_test = test.labels.ravel()"
      ],
      "metadata": {
        "id": "24mwwxwxWLFO"
      },
      "id": "24mwwxwxWLFO",
      "execution_count": 404,
      "outputs": []
    },
    {
      "cell_type": "markdown",
      "source": [
        "#### Logistic regression"
      ],
      "metadata": {
        "id": "Eye-gR3oYdWs"
      },
      "id": "Eye-gR3oYdWs"
    },
    {
      "cell_type": "code",
      "source": [
        "try_model(logreg_acc.best_estimator_, X_train, y_train, X_test, test, unprivileged, privileged, train.instance_weights, 'Blues')"
      ],
      "metadata": {
        "colab": {
          "base_uri": "https://localhost:8080/",
          "height": 348
        },
        "id": "b1uYNpVxtGUo",
        "outputId": "5e0677c5-a515-4a6d-84a8-e23ad130f37f"
      },
      "id": "b1uYNpVxtGUo",
      "execution_count": 405,
      "outputs": [
        {
          "output_type": "stream",
          "name": "stdout",
          "text": [
            "Accuracy: 69.06\n",
            "Privileged class F-score: 0.81\n",
            "Unprivileged class F-score: 0.81\n",
            "\n"
          ]
        },
        {
          "output_type": "display_data",
          "data": {
            "text/plain": [
              "<Figure size 432x288 with 2 Axes>"
            ],
            "image/png": "[encoded data removed]"
          },
          "metadata": {
            "needs_background": "light"
          }
        }
      ]
    },
    {
      "cell_type": "code",
      "source": [
        "try_model(logreg_fr.best_estimator_, X_train, y_train, X_test, test, unprivileged, privileged, train.instance_weights, 'Greens')"
      ],
      "metadata": {
        "colab": {
          "base_uri": "https://localhost:8080/",
          "height": 348
        },
        "id": "0_zbJffytJAB",
        "outputId": "4b0e0697-ea7a-4c1c-ab81-15a33b95db89"
      },
      "id": "0_zbJffytJAB",
      "execution_count": 406,
      "outputs": [
        {
          "output_type": "stream",
          "name": "stdout",
          "text": [
            "Accuracy: 69.06\n",
            "Privileged class F-score: 0.81\n",
            "Unprivileged class F-score: 0.81\n",
            "\n"
          ]
        },
        {
          "output_type": "display_data",
          "data": {
            "text/plain": [
              "<Figure size 432x288 with 2 Axes>"
            ],
            "image/png": "[encoded data removed]"
          },
          "metadata": {
            "needs_background": "light"
          }
        }
      ]
    },
    {
      "cell_type": "markdown",
      "source": [
        "#### SVC"
      ],
      "metadata": {
        "id": "wPqKz5SIYgL2"
      },
      "id": "wPqKz5SIYgL2"
    },
    {
      "cell_type": "code",
      "source": [
        "try_model(svc_acc.best_estimator_, X_train, y_train, X_test, test, unprivileged, privileged, train.instance_weights, 'Blues')"
      ],
      "metadata": {
        "colab": {
          "base_uri": "https://localhost:8080/",
          "height": 352
        },
        "id": "MdGH9uJAtLrQ",
        "outputId": "be6f1cce-c454-4b26-c6dd-d0c6c02425a9"
      },
      "id": "MdGH9uJAtLrQ",
      "execution_count": 407,
      "outputs": [
        {
          "output_type": "stream",
          "name": "stdout",
          "text": [
            "Accuracy: 69.44\n",
            "Privileged class F-score: 0.82\n",
            "Unprivileged class F-score: 0.8\n",
            "\n"
          ]
        },
        {
          "output_type": "display_data",
          "data": {
            "text/plain": [
              "<Figure size 432x288 with 2 Axes>"
            ],
            "image/png": "[encoded data removed]"
          },
          "metadata": {
            "needs_background": "light"
          }
        }
      ]
    },
    {
      "cell_type": "code",
      "source": [
        "try_model(svc_fr.best_estimator_, X_train, y_train, X_test, test, unprivileged, privileged, train.instance_weights, 'Greens')"
      ],
      "metadata": {
        "colab": {
          "base_uri": "https://localhost:8080/",
          "height": 348
        },
        "id": "KVaZq-ZytOJ6",
        "outputId": "199fd073-83a5-42f2-b5dc-4bca6904bc81"
      },
      "id": "KVaZq-ZytOJ6",
      "execution_count": 408,
      "outputs": [
        {
          "output_type": "stream",
          "name": "stdout",
          "text": [
            "Accuracy: 65.13\n",
            "Privileged class F-score: 0.75\n",
            "Unprivileged class F-score: 0.65\n",
            "\n"
          ]
        },
        {
          "output_type": "display_data",
          "data": {
            "text/plain": [
              "<Figure size 432x288 with 2 Axes>"
            ],
            "image/png": "[encoded data removed]"
          },
          "metadata": {
            "needs_background": "light"
          }
        }
      ]
    },
    {
      "cell_type": "code",
      "source": [],
      "metadata": {
        "id": "yW02g0XqbfrB"
      },
      "id": "yW02g0XqbfrB",
      "execution_count": null,
      "outputs": []
    }
  ],
  "metadata": {
    "kernelspec": {
      "display_name": "Python 3",
      "language": "python",
      "name": "python3"
    },
    "language_info": {
      "codemirror_mode": {
        "name": "ipython",
        "version": 3
      },
      "file_extension": ".py",
      "mimetype": "text/x-python",
      "name": "python",
      "nbconvert_exporter": "python",
      "pygments_lexer": "ipython3",
      "version": "3.8.8"
    },
    "colab": {
      "provenance": []
    }
  },
  "nbformat": 4,
  "nbformat_minor": 5
}